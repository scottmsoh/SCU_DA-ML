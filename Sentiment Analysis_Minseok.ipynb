{
 "cells": [
  {
   "cell_type": "markdown",
   "id": "0f6438d2",
   "metadata": {},
   "source": [
    "# <div class=\"alert alert-block alert-success\"> HW1-Sentiment Analysis on Twitter </div>"
   ]
  },
  {
   "cell_type": "markdown",
   "id": "85adcf7b",
   "metadata": {},
   "source": [
    "## <font color=green>Minseok Oh (moh@scu.edu)</font>"
   ]
  },
  {
   "cell_type": "markdown",
   "id": "6eff9d05",
   "metadata": {},
   "source": [
    "### <font color=blue>1. Import libraries </font>"
   ]
  },
  {
   "cell_type": "code",
   "execution_count": 181,
   "id": "12e2aba7",
   "metadata": {},
   "outputs": [],
   "source": [
    "import re\n",
    "from collections import defaultdict"
   ]
  },
  {
   "cell_type": "markdown",
   "id": "7f6e3d58",
   "metadata": {},
   "source": [
    "### <font color=blue>2. Define file path </font>"
   ]
  },
  {
   "cell_type": "code",
   "execution_count": 182,
   "id": "16b0021e",
   "metadata": {},
   "outputs": [],
   "source": [
    "tweet_file = 'Trump_Raw_Tweets.txt'\n",
    "positive_words_file = 'positivewords.txt'\n",
    "negative_words_file = 'negativewords.txt' # https://gist.github.com/mkulakowski2/4289441\n",
    "stop_words_file = 'stopwords.txt' # https://gist.github.com/larsyencken/1440509"
   ]
  },
  {
   "cell_type": "markdown",
   "id": "b5b3043e",
   "metadata": {},
   "source": [
    "### <font color=blue>3. Define Function to read above files </font>"
   ]
  },
  {
   "cell_type": "code",
   "execution_count": 183,
   "id": "1cb977b9",
   "metadata": {},
   "outputs": [],
   "source": [
    "def read_words_from_file(file_path):\n",
    "    with open(file_path, 'r') as file:\n",
    "        words = set(file.read().splitlines())\n",
    "    return words"
   ]
  },
  {
   "cell_type": "markdown",
   "id": "077b41fd",
   "metadata": {},
   "source": [
    "### <font color=blue>4. Read positive, negative, and stop words</font>"
   ]
  },
  {
   "cell_type": "code",
   "execution_count": 184,
   "id": "19e399d4",
   "metadata": {},
   "outputs": [],
   "source": [
    "positive_words = read_words_from_file(positive_words_file)\n",
    "negative_words = read_words_from_file(negative_words_file)\n",
    "stop_words = read_words_from_file(stop_words_file)"
   ]
  },
  {
   "cell_type": "markdown",
   "id": "22e733cb",
   "metadata": {},
   "source": [
    "### <font color=blue>5. Initialize counters</font>"
   ]
  },
  {
   "cell_type": "code",
   "execution_count": 185,
   "id": "ef421569",
   "metadata": {},
   "outputs": [],
   "source": [
    "words_counts = defaultdict(int)\n",
    "positive_count = 0\n",
    "negative_count = 0\n",
    "stop_words_count = 0\n",
    "total_words_count = 0"
   ]
  },
  {
   "cell_type": "markdown",
   "id": "d5c5790e",
   "metadata": {},
   "source": [
    "### <font color=blue>6. Read and process the tweets file to count the number of categorized words</font>"
   ]
  },
  {
   "cell_type": "code",
   "execution_count": 186,
   "id": "fc8110ea",
   "metadata": {},
   "outputs": [],
   "source": [
    "with open(tweet_file, 'r', encoding='utf-8') as file:\n",
    "    for line in file:\n",
    "        words = re.findall(r'\\b\\w+\\b', line.lower())  # Tokenize and convert to lowercase\n",
    "        for word in words:\n",
    "            total_words_count += 1\n",
    "            if word in positive_words:             # count positive words in Trump tweet file\n",
    "                words_counts['positive'] += 1\n",
    "                positive_count += 1\n",
    "            elif word in negative_words:         # count negative words in Trump tweet file\n",
    "                words_counts['negative'] += 1\n",
    "                negative_count += 1\n",
    "            elif word in stop_words:            # count stop words in Trump tweet file\n",
    "                words_counts['stop_word'] += 1\n",
    "                stop_words_count += 1\n",
    "            else:                             # count other words in Trump tweet file\n",
    "                words_counts['others'] += 1        "
   ]
  },
  {
   "cell_type": "markdown",
   "id": "285d928e",
   "metadata": {},
   "source": [
    "### <font color=blue>7. Calculate ratios</font>"
   ]
  },
  {
   "cell_type": "code",
   "execution_count": 187,
   "id": "7f7dece6",
   "metadata": {},
   "outputs": [],
   "source": [
    "positive_ratio = positive_count / total_words_count\n",
    "negative_ratio = negative_count / total_words_count\n",
    "stop_words_ratio = stop_words_count / total_words_count\n",
    "others_ratio = words_counts['others'] / total_words_count"
   ]
  },
  {
   "cell_type": "markdown",
   "id": "abfbd107",
   "metadata": {},
   "source": [
    "### <font color=blue>8. Calculate possitive to negative Ratio</font>"
   ]
  },
  {
   "cell_type": "code",
   "execution_count": 188,
   "id": "5e8ecfb2",
   "metadata": {},
   "outputs": [],
   "source": [
    "positive_to_negative_ratio = positive_count / negative_count if negative_count > 0 else float('inf')"
   ]
  },
  {
   "cell_type": "markdown",
   "id": "c6a12354",
   "metadata": {},
   "source": [
    "### <font color=blue>9. Output results (Word count, Ratio)</font>"
   ]
  },
  {
   "cell_type": "code",
   "execution_count": 189,
   "id": "148c74e7",
   "metadata": {},
   "outputs": [
    {
     "name": "stdout",
     "output_type": "stream",
     "text": [
      "Word count for positive words: 3565\n",
      "Word count for negative words: 2315\n",
      "Word count for stop words: 22568\n",
      "Word count for others: 51518\n",
      "\n",
      "Ratio of positive words to total words: 4.46%\n",
      "Ratio of negative words to total words: 2.89%\n",
      "Ratio of stop words to total words: 28.22%\n",
      "Ratio of other words to total words: 64.42%\n",
      "\n",
      "Ratio of positive words to negative words: 1.54\n"
     ]
    }
   ],
   "source": [
    "print(f\"Word count for positive words: {positive_count}\")\n",
    "print(f\"Word count for negative words: {negative_count}\")\n",
    "print(f\"Word count for stop words: {stop_words_count}\")\n",
    "print(f\"Word count for others: {words_counts['others']}\")\n",
    "print()\n",
    "print(f\"Ratio of positive words to total words: {positive_ratio:.2%}\")\n",
    "print(f\"Ratio of negative words to total words: {negative_ratio:.2%}\")\n",
    "print(f\"Ratio of stop words to total words: {stop_words_ratio:.2%}\")\n",
    "print(f\"Ratio of other words to total words: {others_ratio:.2%}\")\n",
    "print()\n",
    "print(f\"Ratio of positive words to negative words: {positive_to_negative_ratio:.2f}\")"
   ]
  },
  {
   "cell_type": "markdown",
   "id": "7e02dd9d",
   "metadata": {},
   "source": [
    "### <font color=blue>10. The general sentiment is negative or positive? Weakly or strongly?</font>"
   ]
  },
  {
   "cell_type": "code",
   "execution_count": 190,
   "id": "f1e41a60",
   "metadata": {},
   "outputs": [
    {
     "name": "stdout",
     "output_type": "stream",
     "text": [
      "The sentiment is strongly positive.\n"
     ]
    }
   ],
   "source": [
    "if positive_to_negative_ratio > 1:\n",
    "    print(\"The sentiment is strongly positive.\")\n",
    "elif positive_to_negative_ratio >= 0.5:\n",
    "    print(\"The sentiment is weakly positive.\")\n",
    "elif positive_to_negative_ratio <= 0.5 and positive_ratio > negative_ratio:\n",
    "    print(\"The sentiment is weakly positive.\")\n",
    "else:\n",
    "    print(\"The sentiment is strongly negative.\")"
   ]
  }
 ],
 "metadata": {
  "kernelspec": {
   "display_name": "Python 3 (ipykernel)",
   "language": "python",
   "name": "python3"
  },
  "language_info": {
   "codemirror_mode": {
    "name": "ipython",
    "version": 3
   },
   "file_extension": ".py",
   "mimetype": "text/x-python",
   "name": "python",
   "nbconvert_exporter": "python",
   "pygments_lexer": "ipython3",
   "version": "3.11.4"
  }
 },
 "nbformat": 4,
 "nbformat_minor": 5
}
