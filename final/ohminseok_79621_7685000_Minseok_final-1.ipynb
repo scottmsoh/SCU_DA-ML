{
 "cells": [
  {
   "cell_type": "markdown",
   "metadata": {},
   "source": [
    "# Data Analytics Fall 2023 Final Exam"
   ]
  },
  {
   "cell_type": "markdown",
   "metadata": {},
   "source": [
    "<b>Penalties:</b> You will incur penalties if:\n",
    "<ul>\n",
    "<li>The answer is wrong</li>\n",
    "<li>The code is wrong</li>\n",
    "<li>The code does not work on different data (aka, hard coding)</li>\n",
    "<li>The code generates errors while re-run</li>\n",
    "</ul>"
   ]
  },
  {
   "cell_type": "code",
   "execution_count": 1,
   "metadata": {},
   "outputs": [],
   "source": [
    "import pandas as pd\n",
    "import numpy as np\n",
    "import seaborn as sns\n",
    "# %pylab inline\n",
    "import sklearn as sk\n",
    "import sklearn.tree as tree\n",
    "from IPython.display import Image  \n",
    "import pydotplus\n",
    "\n",
    "# print all the outputs in a cell\n",
    "from IPython.core.interactiveshell import InteractiveShell\n",
    "InteractiveShell.ast_node_interactivity = \"all\"\n",
    "\n",
    "import warnings\n",
    "warnings.filterwarnings('ignore')"
   ]
  },
  {
   "cell_type": "code",
   "execution_count": 113,
   "metadata": {},
   "outputs": [],
   "source": [
    "df = pd.read_csv('US_crime_rate_2016_2017.csv', thousands=',')"
   ]
  },
  {
   "cell_type": "code",
   "execution_count": 114,
   "metadata": {},
   "outputs": [],
   "source": [
    "pd.set_option('display.max_rows', 500)\n",
    "pd.set_option('display.max_columns', 200)"
   ]
  },
  {
   "cell_type": "markdown",
   "metadata": {},
   "source": [
    "<p>This data set reports information from 2016 to 2017, Offenses Reported to Law Enforcement by State by City 100,000 and over in population. The data set has the following columns:\t\t\t\n",
    "<ul>\n",
    "<li><b>State</b> \n",
    "<li><b>City</b>\n",
    "<li><b>Year</b> \n",
    "<li><b>Population</b> \n",
    "<li><b>Violent crime</b> \n",
    "<li><b>Murder</b>\n",
    "<li><b>Rape</b>\n",
    "<li><b>Robbery</b> \n",
    "<li><b>Aggravated assault</b> \n",
    "<li><b>Property crime</b>\n",
    "<li><b>Burglary</b>\n",
    "<li><b>Larceny-theft</b>\n",
    "<li><b>Motor vehicle theft</b>\n",
    "<li><b>Arson</b>\n",
    "</ul></p>\n"
   ]
  },
  {
   "cell_type": "code",
   "execution_count": 115,
   "metadata": {},
   "outputs": [
    {
     "data": {
      "text/html": [
       "<div>\n",
       "<style scoped>\n",
       "    .dataframe tbody tr th:only-of-type {\n",
       "        vertical-align: middle;\n",
       "    }\n",
       "\n",
       "    .dataframe tbody tr th {\n",
       "        vertical-align: top;\n",
       "    }\n",
       "\n",
       "    .dataframe thead th {\n",
       "        text-align: right;\n",
       "    }\n",
       "</style>\n",
       "<table border=\"1\" class=\"dataframe\">\n",
       "  <thead>\n",
       "    <tr style=\"text-align: right;\">\n",
       "      <th></th>\n",
       "      <th>State</th>\n",
       "      <th>City</th>\n",
       "      <th>Year</th>\n",
       "      <th>Population</th>\n",
       "      <th>Violent crime</th>\n",
       "      <th>Murder</th>\n",
       "      <th>Rape</th>\n",
       "      <th>Robbery</th>\n",
       "      <th>Aggravated assault</th>\n",
       "      <th>Property crime</th>\n",
       "      <th>Burglary</th>\n",
       "      <th>Larceny-theft</th>\n",
       "      <th>Motor vehicle theft</th>\n",
       "      <th>Arson</th>\n",
       "    </tr>\n",
       "  </thead>\n",
       "  <tbody>\n",
       "    <tr>\n",
       "      <th>0</th>\n",
       "      <td>ALABAMA</td>\n",
       "      <td>BIRMINGHAM</td>\n",
       "      <td>2016</td>\n",
       "      <td>212549.0</td>\n",
       "      <td>1732</td>\n",
       "      <td>44</td>\n",
       "      <td>75</td>\n",
       "      <td>460</td>\n",
       "      <td>1153</td>\n",
       "      <td>5875</td>\n",
       "      <td>1318</td>\n",
       "      <td>3807</td>\n",
       "      <td>750</td>\n",
       "      <td>76</td>\n",
       "    </tr>\n",
       "    <tr>\n",
       "      <th>1</th>\n",
       "      <td>NaN</td>\n",
       "      <td>NaN</td>\n",
       "      <td>2017</td>\n",
       "      <td>NaN</td>\n",
       "      <td>1829</td>\n",
       "      <td>42</td>\n",
       "      <td>92</td>\n",
       "      <td>472</td>\n",
       "      <td>1223</td>\n",
       "      <td>6458</td>\n",
       "      <td>1292</td>\n",
       "      <td>4350</td>\n",
       "      <td>816</td>\n",
       "      <td>87</td>\n",
       "    </tr>\n",
       "    <tr>\n",
       "      <th>2</th>\n",
       "      <td>NaN</td>\n",
       "      <td>MOBILE</td>\n",
       "      <td>2016</td>\n",
       "      <td>249921.0</td>\n",
       "      <td>793</td>\n",
       "      <td>18</td>\n",
       "      <td>47</td>\n",
       "      <td>181</td>\n",
       "      <td>547</td>\n",
       "      <td>5169</td>\n",
       "      <td>1100</td>\n",
       "      <td>3724</td>\n",
       "      <td>345</td>\n",
       "      <td>45</td>\n",
       "    </tr>\n",
       "    <tr>\n",
       "      <th>3</th>\n",
       "      <td>NaN</td>\n",
       "      <td>NaN</td>\n",
       "      <td>2017</td>\n",
       "      <td>NaN</td>\n",
       "      <td>925</td>\n",
       "      <td>20</td>\n",
       "      <td>53</td>\n",
       "      <td>235</td>\n",
       "      <td>617</td>\n",
       "      <td>6482</td>\n",
       "      <td>1507</td>\n",
       "      <td>4344</td>\n",
       "      <td>631</td>\n",
       "      <td>51</td>\n",
       "    </tr>\n",
       "    <tr>\n",
       "      <th>4</th>\n",
       "      <td>NaN</td>\n",
       "      <td>MONTGOMERY</td>\n",
       "      <td>2016</td>\n",
       "      <td>199565.0</td>\n",
       "      <td>563</td>\n",
       "      <td>18</td>\n",
       "      <td>42</td>\n",
       "      <td>187</td>\n",
       "      <td>316</td>\n",
       "      <td>4229</td>\n",
       "      <td>1043</td>\n",
       "      <td>2790</td>\n",
       "      <td>396</td>\n",
       "      <td>35</td>\n",
       "    </tr>\n",
       "  </tbody>\n",
       "</table>\n",
       "</div>"
      ],
      "text/plain": [
       "     State        City  Year  Population  Violent crime  Murder  Rape  \\\n",
       "0  ALABAMA  BIRMINGHAM  2016    212549.0           1732      44    75   \n",
       "1      NaN         NaN  2017         NaN           1829      42    92   \n",
       "2      NaN      MOBILE  2016    249921.0            793      18    47   \n",
       "3      NaN         NaN  2017         NaN            925      20    53   \n",
       "4      NaN  MONTGOMERY  2016    199565.0            563      18    42   \n",
       "\n",
       "   Robbery  Aggravated assault  Property crime  Burglary  Larceny-theft  \\\n",
       "0      460                1153            5875      1318           3807   \n",
       "1      472                1223            6458      1292           4350   \n",
       "2      181                 547            5169      1100           3724   \n",
       "3      235                 617            6482      1507           4344   \n",
       "4      187                 316            4229      1043           2790   \n",
       "\n",
       "   Motor vehicle theft  Arson  \n",
       "0                  750     76  \n",
       "1                  816     87  \n",
       "2                  345     45  \n",
       "3                  631     51  \n",
       "4                  396     35  "
      ]
     },
     "execution_count": 115,
     "metadata": {},
     "output_type": "execute_result"
    }
   ],
   "source": [
    "df.head()"
   ]
  },
  {
   "cell_type": "code",
   "execution_count": 116,
   "metadata": {},
   "outputs": [
    {
     "data": {
      "text/plain": [
       "State                   True\n",
       "City                    True\n",
       "Year                   False\n",
       "Population              True\n",
       "Violent crime          False\n",
       "Murder                 False\n",
       "Rape                   False\n",
       "Robbery                False\n",
       "Aggravated assault     False\n",
       "Property crime         False\n",
       "Burglary               False\n",
       "Larceny-theft          False\n",
       "Motor vehicle theft    False\n",
       "Arson                  False\n",
       "dtype: bool"
      ]
     },
     "execution_count": 116,
     "metadata": {},
     "output_type": "execute_result"
    }
   ],
   "source": [
    "df.isna().any()"
   ]
  },
  {
   "cell_type": "markdown",
   "metadata": {},
   "source": [
    "### There are many NaN in this data set, let's clean them first. "
   ]
  },
  {
   "cell_type": "markdown",
   "metadata": {},
   "source": [
    "For 'State' and 'City' columns, let's use method .fillna() with 'forward fill' option to fill them. "
   ]
  },
  {
   "cell_type": "code",
   "execution_count": 117,
   "metadata": {},
   "outputs": [],
   "source": [
    "df.State.fillna(method='ffill',inplace=True)"
   ]
  },
  {
   "cell_type": "code",
   "execution_count": 118,
   "metadata": {},
   "outputs": [],
   "source": [
    "df.City.fillna(method='ffill',inplace=True)"
   ]
  },
  {
   "cell_type": "code",
   "execution_count": 119,
   "metadata": {},
   "outputs": [
    {
     "data": {
      "text/html": [
       "<div>\n",
       "<style scoped>\n",
       "    .dataframe tbody tr th:only-of-type {\n",
       "        vertical-align: middle;\n",
       "    }\n",
       "\n",
       "    .dataframe tbody tr th {\n",
       "        vertical-align: top;\n",
       "    }\n",
       "\n",
       "    .dataframe thead th {\n",
       "        text-align: right;\n",
       "    }\n",
       "</style>\n",
       "<table border=\"1\" class=\"dataframe\">\n",
       "  <thead>\n",
       "    <tr style=\"text-align: right;\">\n",
       "      <th></th>\n",
       "      <th>State</th>\n",
       "      <th>City</th>\n",
       "      <th>Year</th>\n",
       "      <th>Population</th>\n",
       "      <th>Violent crime</th>\n",
       "      <th>Murder</th>\n",
       "      <th>Rape</th>\n",
       "      <th>Robbery</th>\n",
       "      <th>Aggravated assault</th>\n",
       "      <th>Property crime</th>\n",
       "      <th>Burglary</th>\n",
       "      <th>Larceny-theft</th>\n",
       "      <th>Motor vehicle theft</th>\n",
       "      <th>Arson</th>\n",
       "    </tr>\n",
       "  </thead>\n",
       "  <tbody>\n",
       "    <tr>\n",
       "      <th>0</th>\n",
       "      <td>ALABAMA</td>\n",
       "      <td>BIRMINGHAM</td>\n",
       "      <td>2016</td>\n",
       "      <td>212549.0</td>\n",
       "      <td>1732</td>\n",
       "      <td>44</td>\n",
       "      <td>75</td>\n",
       "      <td>460</td>\n",
       "      <td>1153</td>\n",
       "      <td>5875</td>\n",
       "      <td>1318</td>\n",
       "      <td>3807</td>\n",
       "      <td>750</td>\n",
       "      <td>76</td>\n",
       "    </tr>\n",
       "    <tr>\n",
       "      <th>1</th>\n",
       "      <td>ALABAMA</td>\n",
       "      <td>BIRMINGHAM</td>\n",
       "      <td>2017</td>\n",
       "      <td>NaN</td>\n",
       "      <td>1829</td>\n",
       "      <td>42</td>\n",
       "      <td>92</td>\n",
       "      <td>472</td>\n",
       "      <td>1223</td>\n",
       "      <td>6458</td>\n",
       "      <td>1292</td>\n",
       "      <td>4350</td>\n",
       "      <td>816</td>\n",
       "      <td>87</td>\n",
       "    </tr>\n",
       "    <tr>\n",
       "      <th>2</th>\n",
       "      <td>ALABAMA</td>\n",
       "      <td>MOBILE</td>\n",
       "      <td>2016</td>\n",
       "      <td>249921.0</td>\n",
       "      <td>793</td>\n",
       "      <td>18</td>\n",
       "      <td>47</td>\n",
       "      <td>181</td>\n",
       "      <td>547</td>\n",
       "      <td>5169</td>\n",
       "      <td>1100</td>\n",
       "      <td>3724</td>\n",
       "      <td>345</td>\n",
       "      <td>45</td>\n",
       "    </tr>\n",
       "    <tr>\n",
       "      <th>3</th>\n",
       "      <td>ALABAMA</td>\n",
       "      <td>MOBILE</td>\n",
       "      <td>2017</td>\n",
       "      <td>NaN</td>\n",
       "      <td>925</td>\n",
       "      <td>20</td>\n",
       "      <td>53</td>\n",
       "      <td>235</td>\n",
       "      <td>617</td>\n",
       "      <td>6482</td>\n",
       "      <td>1507</td>\n",
       "      <td>4344</td>\n",
       "      <td>631</td>\n",
       "      <td>51</td>\n",
       "    </tr>\n",
       "    <tr>\n",
       "      <th>4</th>\n",
       "      <td>ALABAMA</td>\n",
       "      <td>MONTGOMERY</td>\n",
       "      <td>2016</td>\n",
       "      <td>199565.0</td>\n",
       "      <td>563</td>\n",
       "      <td>18</td>\n",
       "      <td>42</td>\n",
       "      <td>187</td>\n",
       "      <td>316</td>\n",
       "      <td>4229</td>\n",
       "      <td>1043</td>\n",
       "      <td>2790</td>\n",
       "      <td>396</td>\n",
       "      <td>35</td>\n",
       "    </tr>\n",
       "    <tr>\n",
       "      <th>5</th>\n",
       "      <td>ALABAMA</td>\n",
       "      <td>MONTGOMERY</td>\n",
       "      <td>2017</td>\n",
       "      <td>NaN</td>\n",
       "      <td>656</td>\n",
       "      <td>19</td>\n",
       "      <td>35</td>\n",
       "      <td>185</td>\n",
       "      <td>417</td>\n",
       "      <td>4246</td>\n",
       "      <td>1031</td>\n",
       "      <td>2797</td>\n",
       "      <td>418</td>\n",
       "      <td>41</td>\n",
       "    </tr>\n",
       "    <tr>\n",
       "      <th>6</th>\n",
       "      <td>ALASKA</td>\n",
       "      <td>ANCHORAGE</td>\n",
       "      <td>2016</td>\n",
       "      <td>299097.0</td>\n",
       "      <td>1692</td>\n",
       "      <td>9</td>\n",
       "      <td>302</td>\n",
       "      <td>326</td>\n",
       "      <td>1055</td>\n",
       "      <td>6853</td>\n",
       "      <td>1031</td>\n",
       "      <td>4901</td>\n",
       "      <td>921</td>\n",
       "      <td>38</td>\n",
       "    </tr>\n",
       "    <tr>\n",
       "      <th>7</th>\n",
       "      <td>ALASKA</td>\n",
       "      <td>ANCHORAGE</td>\n",
       "      <td>2017</td>\n",
       "      <td>NaN</td>\n",
       "      <td>1707</td>\n",
       "      <td>13</td>\n",
       "      <td>196</td>\n",
       "      <td>369</td>\n",
       "      <td>1129</td>\n",
       "      <td>7708</td>\n",
       "      <td>1089</td>\n",
       "      <td>5180</td>\n",
       "      <td>1439</td>\n",
       "      <td>31</td>\n",
       "    </tr>\n",
       "    <tr>\n",
       "      <th>8</th>\n",
       "      <td>ARIZONA</td>\n",
       "      <td>CHANDLER</td>\n",
       "      <td>2016</td>\n",
       "      <td>265922.0</td>\n",
       "      <td>272</td>\n",
       "      <td>1</td>\n",
       "      <td>61</td>\n",
       "      <td>69</td>\n",
       "      <td>141</td>\n",
       "      <td>2987</td>\n",
       "      <td>453</td>\n",
       "      <td>2373</td>\n",
       "      <td>161</td>\n",
       "      <td>8</td>\n",
       "    </tr>\n",
       "    <tr>\n",
       "      <th>9</th>\n",
       "      <td>ARIZONA</td>\n",
       "      <td>CHANDLER</td>\n",
       "      <td>2017</td>\n",
       "      <td>NaN</td>\n",
       "      <td>303</td>\n",
       "      <td>1</td>\n",
       "      <td>67</td>\n",
       "      <td>72</td>\n",
       "      <td>163</td>\n",
       "      <td>2906</td>\n",
       "      <td>401</td>\n",
       "      <td>2298</td>\n",
       "      <td>207</td>\n",
       "      <td>10</td>\n",
       "    </tr>\n",
       "  </tbody>\n",
       "</table>\n",
       "</div>"
      ],
      "text/plain": [
       "     State        City  Year  Population  Violent crime  Murder  Rape  \\\n",
       "0  ALABAMA  BIRMINGHAM  2016    212549.0           1732      44    75   \n",
       "1  ALABAMA  BIRMINGHAM  2017         NaN           1829      42    92   \n",
       "2  ALABAMA      MOBILE  2016    249921.0            793      18    47   \n",
       "3  ALABAMA      MOBILE  2017         NaN            925      20    53   \n",
       "4  ALABAMA  MONTGOMERY  2016    199565.0            563      18    42   \n",
       "5  ALABAMA  MONTGOMERY  2017         NaN            656      19    35   \n",
       "6   ALASKA   ANCHORAGE  2016    299097.0           1692       9   302   \n",
       "7   ALASKA   ANCHORAGE  2017         NaN           1707      13   196   \n",
       "8  ARIZONA    CHANDLER  2016    265922.0            272       1    61   \n",
       "9  ARIZONA    CHANDLER  2017         NaN            303       1    67   \n",
       "\n",
       "   Robbery  Aggravated assault  Property crime  Burglary  Larceny-theft  \\\n",
       "0      460                1153            5875      1318           3807   \n",
       "1      472                1223            6458      1292           4350   \n",
       "2      181                 547            5169      1100           3724   \n",
       "3      235                 617            6482      1507           4344   \n",
       "4      187                 316            4229      1043           2790   \n",
       "5      185                 417            4246      1031           2797   \n",
       "6      326                1055            6853      1031           4901   \n",
       "7      369                1129            7708      1089           5180   \n",
       "8       69                 141            2987       453           2373   \n",
       "9       72                 163            2906       401           2298   \n",
       "\n",
       "   Motor vehicle theft  Arson  \n",
       "0                  750     76  \n",
       "1                  816     87  \n",
       "2                  345     45  \n",
       "3                  631     51  \n",
       "4                  396     35  \n",
       "5                  418     41  \n",
       "6                  921     38  \n",
       "7                 1439     31  \n",
       "8                  161      8  \n",
       "9                  207     10  "
      ]
     },
     "execution_count": 119,
     "metadata": {},
     "output_type": "execute_result"
    }
   ],
   "source": [
    "df.head(10)"
   ]
  },
  {
   "cell_type": "markdown",
   "metadata": {},
   "source": [
    "### Let's do more data clean up in Q1 before we perform further analysis."
   ]
  },
  {
   "cell_type": "markdown",
   "metadata": {},
   "source": [
    "### <div class=\"alert alert-block alert-info\"> Note: All questions need to consider both 2016 and 2017 records unless being specified otherwise. </div>"
   ]
  },
  {
   "cell_type": "markdown",
   "metadata": {},
   "source": [
    "## Q1 (10 pts)"
   ]
  },
  {
   "cell_type": "markdown",
   "metadata": {},
   "source": [
    "### Q1.1, How many NaN still exists in this data set ?"
   ]
  },
  {
   "cell_type": "code",
   "execution_count": 120,
   "metadata": {},
   "outputs": [
    {
     "data": {
      "text/plain": [
       "230"
      ]
     },
     "execution_count": 120,
     "metadata": {},
     "output_type": "execute_result"
    }
   ],
   "source": [
    "nan_count = df.isna().sum().sum()\n",
    "nan_count"
   ]
  },
  {
   "cell_type": "markdown",
   "metadata": {},
   "source": [
    "### Q1.2, Which colum still has NaN ?\n",
    "Note: display the column name in a list"
   ]
  },
  {
   "cell_type": "code",
   "execution_count": 121,
   "metadata": {},
   "outputs": [
    {
     "data": {
      "text/plain": [
       "['Population']"
      ]
     },
     "execution_count": 121,
     "metadata": {},
     "output_type": "execute_result"
    }
   ],
   "source": [
    "nan_columns = df.columns[df.isna().any()].tolist()\n",
    "nan_columns\n"
   ]
  },
  {
   "cell_type": "markdown",
   "metadata": {},
   "source": [
    "### Q1.3 For the column ‘Population’,  assuming  each city's population stays the same from 2016 to 2017. Fill in the NaN based on above assumption. Verify there is no more NaN after the above step."
   ]
  },
  {
   "cell_type": "code",
   "execution_count": 126,
   "metadata": {},
   "outputs": [],
   "source": [
    "def fill_population(row, previous_year_data):\n",
    "    if pd.isna(row['Population']) and row['Year'] == 2017:\n",
    "        city = row['City']\n",
    "        if city in previous_year_data:\n",
    "            return previous_year_data[city]\n",
    "    return row['Population']"
   ]
  },
  {
   "cell_type": "code",
   "execution_count": 127,
   "metadata": {},
   "outputs": [],
   "source": [
    "population_2016 = df[df['Year'] == 2016].set_index('City')['Population'].to_dict()"
   ]
  },
  {
   "cell_type": "code",
   "execution_count": 128,
   "metadata": {},
   "outputs": [],
   "source": [
    "df['Population'] = df.apply(lambda row: fill_population(row, population_2016), axis=1)"
   ]
  },
  {
   "cell_type": "code",
   "execution_count": 134,
   "metadata": {},
   "outputs": [
    {
     "data": {
      "text/plain": [
       "False"
      ]
     },
     "execution_count": 134,
     "metadata": {},
     "output_type": "execute_result"
    }
   ],
   "source": [
    "nan_remaining = df['Population'].isnull().any()\n",
    "nan_remaining"
   ]
  },
  {
   "cell_type": "markdown",
   "metadata": {},
   "source": [
    "### Q1.4, How many different unique 'State' are in this data set ?"
   ]
  },
  {
   "cell_type": "code",
   "execution_count": 135,
   "metadata": {},
   "outputs": [
    {
     "data": {
      "text/plain": [
       "42"
      ]
     },
     "execution_count": 135,
     "metadata": {},
     "output_type": "execute_result"
    }
   ],
   "source": [
    "unique_states_count = df['State'].nunique()\n",
    "unique_states_count\n"
   ]
  },
  {
   "cell_type": "markdown",
   "metadata": {},
   "source": [
    "## Q2, general investigation (10 pts)"
   ]
  },
  {
   "cell_type": "markdown",
   "metadata": {},
   "source": [
    "### Q2.1, What's the most popular City name in this data set?"
   ]
  },
  {
   "cell_type": "code",
   "execution_count": 137,
   "metadata": {},
   "outputs": [
    {
     "data": {
      "text/plain": [
       "'SPRINGFIELD'"
      ]
     },
     "execution_count": 137,
     "metadata": {},
     "output_type": "execute_result"
    }
   ],
   "source": [
    "most_common_city = df['City'].mode()[0]\n",
    "most_common_city"
   ]
  },
  {
   "cell_type": "markdown",
   "metadata": {},
   "source": [
    "### Q2.2, Based on above question, which State(s) has that City name ? Show the State(s).\n",
    "Hint 1: No hard coding"
   ]
  },
  {
   "cell_type": "code",
   "execution_count": 244,
   "metadata": {},
   "outputs": [
    {
     "data": {
      "text/plain": [
       "array(['ILLINOIS', 'MASSACHUSETTS', 'MISSOURI'], dtype=object)"
      ]
     },
     "execution_count": 244,
     "metadata": {},
     "output_type": "execute_result"
    }
   ],
   "source": [
    "states_with_springfield = df[df['City'] == most_common_city]['State'].unique()\n",
    "states_with_springfield"
   ]
  },
  {
   "cell_type": "code",
   "execution_count": 245,
   "metadata": {},
   "outputs": [
    {
     "data": {
      "text/html": [
       "<div>\n",
       "<style scoped>\n",
       "    .dataframe tbody tr th:only-of-type {\n",
       "        vertical-align: middle;\n",
       "    }\n",
       "\n",
       "    .dataframe tbody tr th {\n",
       "        vertical-align: top;\n",
       "    }\n",
       "\n",
       "    .dataframe thead th {\n",
       "        text-align: right;\n",
       "    }\n",
       "</style>\n",
       "<table border=\"1\" class=\"dataframe\">\n",
       "  <thead>\n",
       "    <tr style=\"text-align: right;\">\n",
       "      <th></th>\n",
       "      <th>State</th>\n",
       "      <th>City</th>\n",
       "      <th>Year</th>\n",
       "      <th>Population</th>\n",
       "      <th>Violent crime</th>\n",
       "      <th>Murder</th>\n",
       "      <th>Rape</th>\n",
       "      <th>Robbery</th>\n",
       "      <th>Aggravated assault</th>\n",
       "      <th>Property crime</th>\n",
       "      <th>Burglary</th>\n",
       "      <th>Larceny-theft</th>\n",
       "      <th>Motor vehicle theft</th>\n",
       "      <th>Arson</th>\n",
       "      <th>Safe City</th>\n",
       "      <th>ViolentCrimeCategory</th>\n",
       "    </tr>\n",
       "  </thead>\n",
       "  <tbody>\n",
       "    <tr>\n",
       "      <th>0</th>\n",
       "      <td>ALABAMA</td>\n",
       "      <td>BIRMINGHAM</td>\n",
       "      <td>2016</td>\n",
       "      <td>212549.0</td>\n",
       "      <td>1732</td>\n",
       "      <td>44</td>\n",
       "      <td>75</td>\n",
       "      <td>460</td>\n",
       "      <td>1153</td>\n",
       "      <td>5875</td>\n",
       "      <td>1318</td>\n",
       "      <td>3807</td>\n",
       "      <td>750</td>\n",
       "      <td>76</td>\n",
       "      <td>False</td>\n",
       "      <td>&gt;967</td>\n",
       "    </tr>\n",
       "    <tr>\n",
       "      <th>1</th>\n",
       "      <td>ALABAMA</td>\n",
       "      <td>BIRMINGHAM</td>\n",
       "      <td>2017</td>\n",
       "      <td>212549.0</td>\n",
       "      <td>1829</td>\n",
       "      <td>42</td>\n",
       "      <td>92</td>\n",
       "      <td>472</td>\n",
       "      <td>1223</td>\n",
       "      <td>6458</td>\n",
       "      <td>1292</td>\n",
       "      <td>4350</td>\n",
       "      <td>816</td>\n",
       "      <td>87</td>\n",
       "      <td>False</td>\n",
       "      <td>&gt;967</td>\n",
       "    </tr>\n",
       "    <tr>\n",
       "      <th>2</th>\n",
       "      <td>ALABAMA</td>\n",
       "      <td>MOBILE</td>\n",
       "      <td>2016</td>\n",
       "      <td>249921.0</td>\n",
       "      <td>793</td>\n",
       "      <td>18</td>\n",
       "      <td>47</td>\n",
       "      <td>181</td>\n",
       "      <td>547</td>\n",
       "      <td>5169</td>\n",
       "      <td>1100</td>\n",
       "      <td>3724</td>\n",
       "      <td>345</td>\n",
       "      <td>45</td>\n",
       "      <td>True</td>\n",
       "      <td>&lt;=967</td>\n",
       "    </tr>\n",
       "    <tr>\n",
       "      <th>3</th>\n",
       "      <td>ALABAMA</td>\n",
       "      <td>MOBILE</td>\n",
       "      <td>2017</td>\n",
       "      <td>249921.0</td>\n",
       "      <td>925</td>\n",
       "      <td>20</td>\n",
       "      <td>53</td>\n",
       "      <td>235</td>\n",
       "      <td>617</td>\n",
       "      <td>6482</td>\n",
       "      <td>1507</td>\n",
       "      <td>4344</td>\n",
       "      <td>631</td>\n",
       "      <td>51</td>\n",
       "      <td>True</td>\n",
       "      <td>&lt;=967</td>\n",
       "    </tr>\n",
       "    <tr>\n",
       "      <th>4</th>\n",
       "      <td>ALABAMA</td>\n",
       "      <td>MONTGOMERY</td>\n",
       "      <td>2016</td>\n",
       "      <td>199565.0</td>\n",
       "      <td>563</td>\n",
       "      <td>18</td>\n",
       "      <td>42</td>\n",
       "      <td>187</td>\n",
       "      <td>316</td>\n",
       "      <td>4229</td>\n",
       "      <td>1043</td>\n",
       "      <td>2790</td>\n",
       "      <td>396</td>\n",
       "      <td>35</td>\n",
       "      <td>True</td>\n",
       "      <td>&lt;=967</td>\n",
       "    </tr>\n",
       "  </tbody>\n",
       "</table>\n",
       "</div>"
      ],
      "text/plain": [
       "     State        City  Year  Population  Violent crime  Murder  Rape  \\\n",
       "0  ALABAMA  BIRMINGHAM  2016    212549.0           1732      44    75   \n",
       "1  ALABAMA  BIRMINGHAM  2017    212549.0           1829      42    92   \n",
       "2  ALABAMA      MOBILE  2016    249921.0            793      18    47   \n",
       "3  ALABAMA      MOBILE  2017    249921.0            925      20    53   \n",
       "4  ALABAMA  MONTGOMERY  2016    199565.0            563      18    42   \n",
       "\n",
       "   Robbery  Aggravated assault  Property crime  Burglary  Larceny-theft  \\\n",
       "0      460                1153            5875      1318           3807   \n",
       "1      472                1223            6458      1292           4350   \n",
       "2      181                 547            5169      1100           3724   \n",
       "3      235                 617            6482      1507           4344   \n",
       "4      187                 316            4229      1043           2790   \n",
       "\n",
       "   Motor vehicle theft  Arson  Safe City ViolentCrimeCategory  \n",
       "0                  750     76      False                 >967  \n",
       "1                  816     87      False                 >967  \n",
       "2                  345     45       True                <=967  \n",
       "3                  631     51       True                <=967  \n",
       "4                  396     35       True                <=967  "
      ]
     },
     "execution_count": 245,
     "metadata": {},
     "output_type": "execute_result"
    }
   ],
   "source": [
    "df.head()"
   ]
  },
  {
   "cell_type": "markdown",
   "metadata": {},
   "source": [
    "### Q2.3, How many different unique actual 'City' are in this data set?\n",
    "Hint 1: Do not double count for Year 2016 and 2017\n",
    "\n",
    "Hint 2: Same city name may exists in different States. So same city name in different states should be considered as different city."
   ]
  },
  {
   "cell_type": "code",
   "execution_count": 141,
   "metadata": {},
   "outputs": [
    {
     "data": {
      "text/plain": [
       "230"
      ]
     },
     "execution_count": 141,
     "metadata": {},
     "output_type": "execute_result"
    }
   ],
   "source": [
    "unique_cities_count = df.drop_duplicates(subset=['State', 'City']).shape[0]\n",
    "unique_cities_count"
   ]
  },
  {
   "cell_type": "markdown",
   "metadata": {},
   "source": [
    "### Q2.4,  How many 'City' starts with letter 'M' ?\n",
    "Note: Same city name but in different States should be count as different city"
   ]
  },
  {
   "cell_type": "code",
   "execution_count": 144,
   "metadata": {},
   "outputs": [
    {
     "data": {
      "text/plain": [
       "15"
      ]
     },
     "execution_count": 144,
     "metadata": {},
     "output_type": "execute_result"
    }
   ],
   "source": [
    "cities_starting_with_m = df[df['City'].str.startswith('M')].drop_duplicates(subset=['State', 'City']).shape[0]\n",
    "cities_starting_with_m"
   ]
  },
  {
   "cell_type": "markdown",
   "metadata": {},
   "source": [
    "## Q3, Mega City(10 pts)"
   ]
  },
  {
   "cell_type": "markdown",
   "metadata": {},
   "source": [
    "### Q3.1  'Mega City' means that city's population is 10 times more than the average city population. What city(ies) are qualified as Mega City ? Show the city(ies) name."
   ]
  },
  {
   "cell_type": "code",
   "execution_count": 147,
   "metadata": {},
   "outputs": [],
   "source": [
    "average_city_population = df['Population'].mean()"
   ]
  },
  {
   "cell_type": "code",
   "execution_count": 148,
   "metadata": {},
   "outputs": [],
   "source": [
    "mega_city_threshold = 10 * average_city_population"
   ]
  },
  {
   "cell_type": "code",
   "execution_count": 149,
   "metadata": {},
   "outputs": [
    {
     "data": {
      "text/plain": [
       "array(['LOS ANGELES', 'NEW YORK'], dtype=object)"
      ]
     },
     "execution_count": 149,
     "metadata": {},
     "output_type": "execute_result"
    }
   ],
   "source": [
    "mega_cities = df[df['Population'] >= mega_city_threshold]['City'].unique()\n",
    "mega_cities"
   ]
  },
  {
   "cell_type": "markdown",
   "metadata": {},
   "source": [
    "### Q3.2 For the above Mega City(ies), which city has the highest aggravated assault? (answer needs to be a string)"
   ]
  },
  {
   "cell_type": "code",
   "execution_count": 151,
   "metadata": {},
   "outputs": [
    {
     "data": {
      "text/plain": [
       "'NEW YORK'"
      ]
     },
     "execution_count": 151,
     "metadata": {},
     "output_type": "execute_result"
    }
   ],
   "source": [
    "if len(mega_cities) > 0:\n",
    "    city_highest_assault = df[df['City'].isin(mega_cities)].sort_values(by='Aggravated assault', ascending=False)['City'].iloc[0]\n",
    "else:\n",
    "    city_highest_assault = \"No Mega Cities\"\n",
    "\n",
    "city_highest_assault"
   ]
  },
  {
   "cell_type": "markdown",
   "metadata": {},
   "source": [
    "## Q4 Motor Vehicle Theft (10 pts)"
   ]
  },
  {
   "cell_type": "markdown",
   "metadata": {},
   "source": [
    "### Q4.1 What's the top 5 states with highest total motor vehicle theft ? List the states and the number of motor vehicle theft counts from high to low. "
   ]
  },
  {
   "cell_type": "code",
   "execution_count": 152,
   "metadata": {},
   "outputs": [],
   "source": [
    "total_motor_vehicle_thefts_by_state = df.groupby('State')['Motor vehicle theft'].sum()"
   ]
  },
  {
   "cell_type": "code",
   "execution_count": 154,
   "metadata": {},
   "outputs": [
    {
     "data": {
      "text/plain": [
       "State\n",
       "CALIFORNIA    99685\n",
       "FLORIDA       14429\n",
       "ILLINOIS      12011\n",
       "COLORADO      10757\n",
       "WASHINGTON    10565\n",
       "Name: Motor vehicle theft, dtype: int64"
      ]
     },
     "execution_count": 154,
     "metadata": {},
     "output_type": "execute_result"
    }
   ],
   "source": [
    "top_5_states_motor_vehicle_theft = total_motor_vehicle_thefts_by_state.sort_values(ascending=False).head(5)\n",
    "top_5_states_motor_vehicle_theft"
   ]
  },
  {
   "cell_type": "markdown",
   "metadata": {},
   "source": [
    "### Q4.2 Based on the above question, within the State which has the highest total Motor Vehicle Theft,  what's the top 3 cities which have the highest total motor vehicle theft? List the 'City' names and the number of motor vehicle theft counts in descending order.\n",
    "Note: No hard coding"
   ]
  },
  {
   "cell_type": "code",
   "execution_count": 240,
   "metadata": {},
   "outputs": [],
   "source": [
    "cali_data = df[df['State'] == 'CALIFORNIA']"
   ]
  },
  {
   "cell_type": "code",
   "execution_count": 241,
   "metadata": {},
   "outputs": [],
   "source": [
    "total_motor_vehicle_thefts_by_city = cali_data.groupby('City')['Motor vehicle theft'].sum()\n"
   ]
  },
  {
   "cell_type": "code",
   "execution_count": 242,
   "metadata": {},
   "outputs": [
    {
     "data": {
      "text/plain": [
       "City\n",
       "LOS ANGELES    18444\n",
       "SAN JOSE        7351\n",
       "OAKLAND         6587\n",
       "Name: Motor vehicle theft, dtype: int64"
      ]
     },
     "execution_count": 242,
     "metadata": {},
     "output_type": "execute_result"
    }
   ],
   "source": [
    "top_3_cities_motor_vehicle_theft = total_motor_vehicle_thefts_by_city.sort_values(ascending=False).head(3)\n",
    "top_3_cities_motor_vehicle_theft"
   ]
  },
  {
   "cell_type": "markdown",
   "metadata": {},
   "source": [
    "## Q5 (10 pts)"
   ]
  },
  {
   "cell_type": "markdown",
   "metadata": {},
   "source": [
    "### Q5.1, Consider 'SANTA CLARA' City only. Show the total number of 'Robbery', 'Burglary' and 'Motor vehicle theft' in one table.\n",
    "\n",
    "Note: This table should have 3 columns and 1 row(only)"
   ]
  },
  {
   "cell_type": "code",
   "execution_count": 161,
   "metadata": {},
   "outputs": [
    {
     "data": {
      "text/html": [
       "<div>\n",
       "<style scoped>\n",
       "    .dataframe tbody tr th:only-of-type {\n",
       "        vertical-align: middle;\n",
       "    }\n",
       "\n",
       "    .dataframe tbody tr th {\n",
       "        vertical-align: top;\n",
       "    }\n",
       "\n",
       "    .dataframe thead th {\n",
       "        text-align: right;\n",
       "    }\n",
       "</style>\n",
       "<table border=\"1\" class=\"dataframe\">\n",
       "  <thead>\n",
       "    <tr style=\"text-align: right;\">\n",
       "      <th></th>\n",
       "      <th>Robbery</th>\n",
       "      <th>Burglary</th>\n",
       "      <th>Motor vehicle theft</th>\n",
       "    </tr>\n",
       "  </thead>\n",
       "  <tbody>\n",
       "    <tr>\n",
       "      <th>0</th>\n",
       "      <td>54</td>\n",
       "      <td>336</td>\n",
       "      <td>359</td>\n",
       "    </tr>\n",
       "  </tbody>\n",
       "</table>\n",
       "</div>"
      ],
      "text/plain": [
       "   Robbery  Burglary  Motor vehicle theft\n",
       "0       54       336                  359"
      ]
     },
     "execution_count": 161,
     "metadata": {},
     "output_type": "execute_result"
    }
   ],
   "source": [
    "santa_clara_totals = df[df['City'] == 'SANTA CLARA'][['Robbery', 'Burglary', 'Motor vehicle theft']].sum().to_frame().transpose()\n",
    "santa_clara_totals"
   ]
  },
  {
   "cell_type": "markdown",
   "metadata": {},
   "source": [
    "### Q5.2, For the cities that have more than 10,000 'Violent crime' each year, in one table, report the 'City' names and the total 'Murder' count in descending order."
   ]
  },
  {
   "cell_type": "code",
   "execution_count": 162,
   "metadata": {},
   "outputs": [],
   "source": [
    "s_high_violent_crime = df[df['Violent crime'] > 10000]"
   ]
  },
  {
   "cell_type": "code",
   "execution_count": 164,
   "metadata": {},
   "outputs": [
    {
     "data": {
      "text/html": [
       "<div>\n",
       "<style scoped>\n",
       "    .dataframe tbody tr th:only-of-type {\n",
       "        vertical-align: middle;\n",
       "    }\n",
       "\n",
       "    .dataframe tbody tr th {\n",
       "        vertical-align: top;\n",
       "    }\n",
       "\n",
       "    .dataframe thead th {\n",
       "        text-align: right;\n",
       "    }\n",
       "</style>\n",
       "<table border=\"1\" class=\"dataframe\">\n",
       "  <thead>\n",
       "    <tr style=\"text-align: right;\">\n",
       "      <th></th>\n",
       "      <th>City</th>\n",
       "      <th>Murder</th>\n",
       "    </tr>\n",
       "  </thead>\n",
       "  <tbody>\n",
       "    <tr>\n",
       "      <th>0</th>\n",
       "      <td>CHICAGO</td>\n",
       "      <td>651</td>\n",
       "    </tr>\n",
       "    <tr>\n",
       "      <th>1</th>\n",
       "      <td>NEW YORK</td>\n",
       "      <td>289</td>\n",
       "    </tr>\n",
       "    <tr>\n",
       "      <th>2</th>\n",
       "      <td>LOS ANGELES</td>\n",
       "      <td>273</td>\n",
       "    </tr>\n",
       "  </tbody>\n",
       "</table>\n",
       "</div>"
      ],
      "text/plain": [
       "          City  Murder\n",
       "0      CHICAGO     651\n",
       "1     NEW YORK     289\n",
       "2  LOS ANGELES     273"
      ]
     },
     "execution_count": 164,
     "metadata": {},
     "output_type": "execute_result"
    }
   ],
   "source": [
    "cities_murder_count = cities_high_violent_crime.groupby('City')['Murder'].sum().sort_values(ascending=False).reset_index()\n",
    "cities_murder_count"
   ]
  },
  {
   "cell_type": "markdown",
   "metadata": {},
   "source": [
    "## Q6 (10 pts)"
   ]
  },
  {
   "cell_type": "markdown",
   "metadata": {},
   "source": [
    "### Q6.1, From the 'Aggravated assault' point of view, find the top 3 safest cities. List the State, City and the sum of the aggravated assault by aggravated assault number in ascending order."
   ]
  },
  {
   "cell_type": "code",
   "execution_count": 165,
   "metadata": {},
   "outputs": [
    {
     "data": {
      "text/html": [
       "<div>\n",
       "<style scoped>\n",
       "    .dataframe tbody tr th:only-of-type {\n",
       "        vertical-align: middle;\n",
       "    }\n",
       "\n",
       "    .dataframe tbody tr th {\n",
       "        vertical-align: top;\n",
       "    }\n",
       "\n",
       "    .dataframe thead th {\n",
       "        text-align: right;\n",
       "    }\n",
       "</style>\n",
       "<table border=\"1\" class=\"dataframe\">\n",
       "  <thead>\n",
       "    <tr style=\"text-align: right;\">\n",
       "      <th></th>\n",
       "      <th>State</th>\n",
       "      <th>City</th>\n",
       "      <th>Aggravated assault</th>\n",
       "    </tr>\n",
       "  </thead>\n",
       "  <tbody>\n",
       "    <tr>\n",
       "      <th>0</th>\n",
       "      <td>CALIFORNIA</td>\n",
       "      <td>MURRIETA</td>\n",
       "      <td>32</td>\n",
       "    </tr>\n",
       "    <tr>\n",
       "      <th>1</th>\n",
       "      <td>GEORGIA</td>\n",
       "      <td>SANDY SPRINGS</td>\n",
       "      <td>38</td>\n",
       "    </tr>\n",
       "    <tr>\n",
       "      <th>2</th>\n",
       "      <td>NEW JERSEY</td>\n",
       "      <td>WOODBRIDGE TOWNSHIP</td>\n",
       "      <td>39</td>\n",
       "    </tr>\n",
       "  </tbody>\n",
       "</table>\n",
       "</div>"
      ],
      "text/plain": [
       "        State                 City  Aggravated assault\n",
       "0  CALIFORNIA             MURRIETA                  32\n",
       "1     GEORGIA        SANDY SPRINGS                  38\n",
       "2  NEW JERSEY  WOODBRIDGE TOWNSHIP                  39"
      ]
     },
     "execution_count": 165,
     "metadata": {},
     "output_type": "execute_result"
    }
   ],
   "source": [
    "safest_cities_assault = df.groupby(['State', 'City'])['Aggravated assault'].sum().nsmallest(3).reset_index()\n",
    "safest_cities_assault ## for safest cities: Aggravated assault with nsmallest"
   ]
  },
  {
   "cell_type": "markdown",
   "metadata": {},
   "source": [
    "### Q6.2, For each State, report (1) how many cities are in that state(rename it to 'City_count').  (2) Among all the populations in those cities(in that state), show the max population, min population and the difference between the max and min (rename it to 'spread_Population'). All answers need to be in one table, showing the first 5 States only.  \n",
    "#### Hint: don't double count the city "
   ]
  },
  {
   "cell_type": "code",
   "execution_count": 170,
   "metadata": {},
   "outputs": [],
   "source": [
    "state_stats = df.drop_duplicates(subset=['State', 'City']).groupby('State').agg(\n",
    "    City_count=('City', 'count'),\n",
    "    Max_population=('Population', 'max'),\n",
    "    Min_population=('Population', 'min')\n",
    ")"
   ]
  },
  {
   "cell_type": "code",
   "execution_count": 171,
   "metadata": {},
   "outputs": [],
   "source": [
    "state_stats['spread_Population'] = state_stats['Max_population'] - state_stats['Min_population']"
   ]
  },
  {
   "cell_type": "code",
   "execution_count": 172,
   "metadata": {},
   "outputs": [
    {
     "data": {
      "text/html": [
       "<div>\n",
       "<style scoped>\n",
       "    .dataframe tbody tr th:only-of-type {\n",
       "        vertical-align: middle;\n",
       "    }\n",
       "\n",
       "    .dataframe tbody tr th {\n",
       "        vertical-align: top;\n",
       "    }\n",
       "\n",
       "    .dataframe thead th {\n",
       "        text-align: right;\n",
       "    }\n",
       "</style>\n",
       "<table border=\"1\" class=\"dataframe\">\n",
       "  <thead>\n",
       "    <tr style=\"text-align: right;\">\n",
       "      <th></th>\n",
       "      <th>City_count</th>\n",
       "      <th>Max_population</th>\n",
       "      <th>Min_population</th>\n",
       "      <th>spread_Population</th>\n",
       "    </tr>\n",
       "    <tr>\n",
       "      <th>State</th>\n",
       "      <th></th>\n",
       "      <th></th>\n",
       "      <th></th>\n",
       "      <th></th>\n",
       "    </tr>\n",
       "  </thead>\n",
       "  <tbody>\n",
       "    <tr>\n",
       "      <th>ALABAMA</th>\n",
       "      <td>3</td>\n",
       "      <td>249921.0</td>\n",
       "      <td>199565.0</td>\n",
       "      <td>50356.0</td>\n",
       "    </tr>\n",
       "    <tr>\n",
       "      <th>ALASKA</th>\n",
       "      <td>1</td>\n",
       "      <td>299097.0</td>\n",
       "      <td>299097.0</td>\n",
       "      <td>0.0</td>\n",
       "    </tr>\n",
       "    <tr>\n",
       "      <th>ARIZONA</th>\n",
       "      <td>6</td>\n",
       "      <td>478277.0</td>\n",
       "      <td>130679.0</td>\n",
       "      <td>347598.0</td>\n",
       "    </tr>\n",
       "    <tr>\n",
       "      <th>ARKANSAS</th>\n",
       "      <td>1</td>\n",
       "      <td>198800.0</td>\n",
       "      <td>198800.0</td>\n",
       "      <td>0.0</td>\n",
       "    </tr>\n",
       "    <tr>\n",
       "      <th>CALIFORNIA</th>\n",
       "      <td>73</td>\n",
       "      <td>4007905.0</td>\n",
       "      <td>101316.0</td>\n",
       "      <td>3906589.0</td>\n",
       "    </tr>\n",
       "  </tbody>\n",
       "</table>\n",
       "</div>"
      ],
      "text/plain": [
       "            City_count  Max_population  Min_population  spread_Population\n",
       "State                                                                    \n",
       "ALABAMA              3        249921.0        199565.0            50356.0\n",
       "ALASKA               1        299097.0        299097.0                0.0\n",
       "ARIZONA              6        478277.0        130679.0           347598.0\n",
       "ARKANSAS             1        198800.0        198800.0                0.0\n",
       "CALIFORNIA          73       4007905.0        101316.0          3906589.0"
      ]
     },
     "execution_count": 172,
     "metadata": {},
     "output_type": "execute_result"
    }
   ],
   "source": [
    "first_5_states_stats = state_stats.head(5)\n",
    "first_5_states_stats\n"
   ]
  },
  {
   "cell_type": "markdown",
   "metadata": {},
   "source": [
    "## Q7 (10 pts)"
   ]
  },
  {
   "cell_type": "markdown",
   "metadata": {},
   "source": [
    "### Q7.1, Plot a bar chart to show the top 5 states with the highest 'Arson' count."
   ]
  },
  {
   "cell_type": "code",
   "execution_count": 173,
   "metadata": {},
   "outputs": [],
   "source": [
    "import matplotlib.pyplot as plt"
   ]
  },
  {
   "cell_type": "code",
   "execution_count": 174,
   "metadata": {},
   "outputs": [
    {
     "data": {
      "image/png": "[encoded data removed]",
      "text/plain": [
       "<Figure size 800x500 with 1 Axes>"
      ]
     },
     "metadata": {},
     "output_type": "display_data"
    }
   ],
   "source": [
    "total_arson_by_state = df.groupby('State')['Arson'].sum()\n",
    "\n",
    "top_5_states_arson = total_arson_by_state.sort_values(ascending=False).head(5)\n",
    "\n",
    "plt.figure(figsize=(8, 5))\n",
    "top_5_states_arson.plot(kind='bar', color='teal')\n",
    "plt.title('Top 5 States with the Highest Arson Counts')\n",
    "plt.xlabel('State')\n",
    "plt.ylabel('Total Arson Counts')\n",
    "plt.xticks(rotation=90)\n",
    "plt.show();\n"
   ]
  },
  {
   "cell_type": "markdown",
   "metadata": {},
   "source": [
    "### Q7.2, Based on correlations, find the top 3 pairs of crimes that have the strongest correlations to each other.\n",
    "#### Hint: use .corr()"
   ]
  },
  {
   "cell_type": "code",
   "execution_count": 177,
   "metadata": {},
   "outputs": [],
   "source": [
    "crime_data = df[['Violent crime', 'Murder', 'Rape', 'Robbery', 'Aggravated assault', 'Property crime', 'Burglary', 'Larceny-theft', 'Motor vehicle theft', 'Arson']]"
   ]
  },
  {
   "cell_type": "code",
   "execution_count": 239,
   "metadata": {},
   "outputs": [],
   "source": [
    "crime_correlations = crime_data.corr()"
   ]
  },
  {
   "cell_type": "code",
   "execution_count": 178,
   "metadata": {},
   "outputs": [],
   "source": [
    "correlation_pairs = crime_correlations.unstack().sort_values(ascending=False)"
   ]
  },
  {
   "cell_type": "code",
   "execution_count": 179,
   "metadata": {},
   "outputs": [],
   "source": [
    "correlation_pairs = correlation_pairs[correlation_pairs < 1]"
   ]
  },
  {
   "cell_type": "code",
   "execution_count": 180,
   "metadata": {},
   "outputs": [
    {
     "data": {
      "text/plain": [
       "Violent crime  Aggravated assault    0.992880\n",
       "Larceny-theft  Property crime        0.987585\n",
       "Robbery        Violent crime         0.984274\n",
       "dtype: float64"
      ]
     },
     "execution_count": 180,
     "metadata": {},
     "output_type": "execute_result"
    }
   ],
   "source": [
    "top_3_correlation_pairs = correlation_pairs.drop_duplicates().head(3)\n",
    "top_3_correlation_pairs\n"
   ]
  },
  {
   "cell_type": "markdown",
   "metadata": {},
   "source": [
    "## Q8 Crime Index (10 pts)"
   ]
  },
  {
   "cell_type": "markdown",
   "metadata": {},
   "source": [
    "### Q8.1, Consider Year 2017 ONLY.   Assuming 'crime_index' is calculated as:  'crime_index' = 'Violent crime' + 'Aggravated assault' + 'Property crime' + 'Robbery'.  Show the State, City and crime_index for the cities with the highest crime_index. "
   ]
  },
  {
   "cell_type": "code",
   "execution_count": 184,
   "metadata": {},
   "outputs": [],
   "source": [
    "data_2017 = df[df['Year'] == 2017]"
   ]
  },
  {
   "cell_type": "code",
   "execution_count": 185,
   "metadata": {},
   "outputs": [],
   "source": [
    "data_2017['crime_index'] = data_2017['Violent crime'] + data_2017['Aggravated assault'] + data_2017['Property crime'] + data_2017['Robbery']"
   ]
  },
  {
   "cell_type": "code",
   "execution_count": 187,
   "metadata": {},
   "outputs": [
    {
     "data": {
      "text/html": [
       "<div>\n",
       "<style scoped>\n",
       "    .dataframe tbody tr th:only-of-type {\n",
       "        vertical-align: middle;\n",
       "    }\n",
       "\n",
       "    .dataframe tbody tr th {\n",
       "        vertical-align: top;\n",
       "    }\n",
       "\n",
       "    .dataframe thead th {\n",
       "        text-align: right;\n",
       "    }\n",
       "</style>\n",
       "<table border=\"1\" class=\"dataframe\">\n",
       "  <thead>\n",
       "    <tr style=\"text-align: right;\">\n",
       "      <th></th>\n",
       "      <th>State</th>\n",
       "      <th>City</th>\n",
       "      <th>crime_index</th>\n",
       "    </tr>\n",
       "  </thead>\n",
       "  <tbody>\n",
       "    <tr>\n",
       "      <th>359</th>\n",
       "      <td>NEW YORK</td>\n",
       "      <td>NEW YORK</td>\n",
       "      <td>101044</td>\n",
       "    </tr>\n",
       "    <tr>\n",
       "      <th>85</th>\n",
       "      <td>CALIFORNIA</td>\n",
       "      <td>LOS ANGELES</td>\n",
       "      <td>77652</td>\n",
       "    </tr>\n",
       "    <tr>\n",
       "      <th>253</th>\n",
       "      <td>ILLINOIS</td>\n",
       "      <td>CHICAGO</td>\n",
       "      <td>68176</td>\n",
       "    </tr>\n",
       "    <tr>\n",
       "      <th>399</th>\n",
       "      <td>PENNSYLVANIA</td>\n",
       "      <td>PHILADELPHIA</td>\n",
       "      <td>36739</td>\n",
       "    </tr>\n",
       "    <tr>\n",
       "      <th>129</th>\n",
       "      <td>CALIFORNIA</td>\n",
       "      <td>SAN FRANCISCO</td>\n",
       "      <td>33571</td>\n",
       "    </tr>\n",
       "  </tbody>\n",
       "</table>\n",
       "</div>"
      ],
      "text/plain": [
       "            State           City  crime_index\n",
       "359      NEW YORK       NEW YORK       101044\n",
       "85     CALIFORNIA    LOS ANGELES        77652\n",
       "253      ILLINOIS        CHICAGO        68176\n",
       "399  PENNSYLVANIA   PHILADELPHIA        36739\n",
       "129    CALIFORNIA  SAN FRANCISCO        33571"
      ]
     },
     "execution_count": 187,
     "metadata": {},
     "output_type": "execute_result"
    }
   ],
   "source": [
    "highest_crime_index_cities = data_2017.sort_values(by='crime_index', ascending=False)[['State', 'City', 'crime_index']]\n",
    "highest_crime_index_cities.head()"
   ]
  },
  {
   "cell_type": "markdown",
   "metadata": {},
   "source": [
    "### Q8.2, Based on above question, now take the 'Population' into consideration. Let's define a 'normalized_crime_index' = (crime_index/population)*100. List the top 3 cities which have the highest normalized_crime_index. Show the State, City and normalized_crime_index only."
   ]
  },
  {
   "cell_type": "code",
   "execution_count": 190,
   "metadata": {},
   "outputs": [],
   "source": [
    "data_2017['normalized_crime_index'] = (data_2017['crime_index'] / data_2017['Population']) * 100"
   ]
  },
  {
   "cell_type": "code",
   "execution_count": 192,
   "metadata": {},
   "outputs": [
    {
     "data": {
      "text/html": [
       "<div>\n",
       "<style scoped>\n",
       "    .dataframe tbody tr th:only-of-type {\n",
       "        vertical-align: middle;\n",
       "    }\n",
       "\n",
       "    .dataframe tbody tr th {\n",
       "        vertical-align: top;\n",
       "    }\n",
       "\n",
       "    .dataframe thead th {\n",
       "        text-align: right;\n",
       "    }\n",
       "</style>\n",
       "<table border=\"1\" class=\"dataframe\">\n",
       "  <thead>\n",
       "    <tr style=\"text-align: right;\">\n",
       "      <th></th>\n",
       "      <th>State</th>\n",
       "      <th>City</th>\n",
       "      <th>normalized_crime_index</th>\n",
       "    </tr>\n",
       "  </thead>\n",
       "  <tbody>\n",
       "    <tr>\n",
       "      <th>325</th>\n",
       "      <td>MISSOURI</td>\n",
       "      <td>SPRINGFIELD</td>\n",
       "      <td>5.661678</td>\n",
       "    </tr>\n",
       "    <tr>\n",
       "      <th>21</th>\n",
       "      <td>ARKANSAS</td>\n",
       "      <td>LITTLE ROCK</td>\n",
       "      <td>5.153421</td>\n",
       "    </tr>\n",
       "    <tr>\n",
       "      <th>417</th>\n",
       "      <td>TENNESSEE</td>\n",
       "      <td>MEMPHIS</td>\n",
       "      <td>4.770015</td>\n",
       "    </tr>\n",
       "  </tbody>\n",
       "</table>\n",
       "</div>"
      ],
      "text/plain": [
       "         State         City  normalized_crime_index\n",
       "325   MISSOURI  SPRINGFIELD                5.661678\n",
       "21    ARKANSAS  LITTLE ROCK                5.153421\n",
       "417  TENNESSEE      MEMPHIS                4.770015"
      ]
     },
     "execution_count": 192,
     "metadata": {},
     "output_type": "execute_result"
    }
   ],
   "source": [
    "top_3_normalized_crime_index_cities = data_2017.sort_values(by='normalized_crime_index', ascending=False)[['State', 'City', 'normalized_crime_index']].head(3)\n",
    "top_3_normalized_crime_index_cities"
   ]
  },
  {
   "cell_type": "markdown",
   "metadata": {},
   "source": [
    "## Q9 (10 pts)"
   ]
  },
  {
   "cell_type": "markdown",
   "metadata": {},
   "source": [
    "### Q9.1, For each city in California, compare the 'Violent crime' counts between year 2016 and 2017. Find the top 5 cities with the largest differences. Show the city names and the 'Violent crime' count differences. "
   ]
  },
  {
   "cell_type": "code",
   "execution_count": 199,
   "metadata": {},
   "outputs": [],
   "source": [
    "california_data = df[df['State'] == 'CALIFORNIA']"
   ]
  },
  {
   "cell_type": "markdown",
   "metadata": {},
   "source": [
    "Describe as pivot_table"
   ]
  },
  {
   "cell_type": "code",
   "execution_count": 202,
   "metadata": {},
   "outputs": [],
   "source": [
    "california_pivot = california_data.pivot_table(index='City', columns='Year', values='Violent crime', aggfunc='sum')"
   ]
  },
  {
   "cell_type": "code",
   "execution_count": 203,
   "metadata": {},
   "outputs": [
    {
     "data": {
      "text/html": [
       "<div>\n",
       "<style scoped>\n",
       "    .dataframe tbody tr th:only-of-type {\n",
       "        vertical-align: middle;\n",
       "    }\n",
       "\n",
       "    .dataframe tbody tr th {\n",
       "        vertical-align: top;\n",
       "    }\n",
       "\n",
       "    .dataframe thead th {\n",
       "        text-align: right;\n",
       "    }\n",
       "</style>\n",
       "<table border=\"1\" class=\"dataframe\">\n",
       "  <thead>\n",
       "    <tr style=\"text-align: right;\">\n",
       "      <th></th>\n",
       "      <th>City</th>\n",
       "      <th>crime_difference</th>\n",
       "    </tr>\n",
       "  </thead>\n",
       "  <tbody>\n",
       "    <tr>\n",
       "      <th>0</th>\n",
       "      <td>LOS ANGELES</td>\n",
       "      <td>228</td>\n",
       "    </tr>\n",
       "    <tr>\n",
       "      <th>1</th>\n",
       "      <td>LONG BEACH</td>\n",
       "      <td>146</td>\n",
       "    </tr>\n",
       "    <tr>\n",
       "      <th>2</th>\n",
       "      <td>VICTORVILLE</td>\n",
       "      <td>97</td>\n",
       "    </tr>\n",
       "    <tr>\n",
       "      <th>3</th>\n",
       "      <td>POMONA</td>\n",
       "      <td>88</td>\n",
       "    </tr>\n",
       "    <tr>\n",
       "      <th>4</th>\n",
       "      <td>SAN FRANCISCO</td>\n",
       "      <td>82</td>\n",
       "    </tr>\n",
       "  </tbody>\n",
       "</table>\n",
       "</div>"
      ],
      "text/plain": [
       "            City  crime_difference\n",
       "0    LOS ANGELES               228\n",
       "1     LONG BEACH               146\n",
       "2    VICTORVILLE                97\n",
       "3         POMONA                88\n",
       "4  SAN FRANCISCO                82"
      ]
     },
     "execution_count": 203,
     "metadata": {},
     "output_type": "execute_result"
    }
   ],
   "source": [
    "california_pivot['crime_difference'] = california_pivot[2017] - california_pivot[2016]\n",
    "\n",
    "top_5_violent_crime_difference = california_pivot['crime_difference'].sort_values(ascending=False).head(5)\n",
    "top_5_violent_crime_difference.reset_index()"
   ]
  },
  {
   "cell_type": "markdown",
   "metadata": {},
   "source": [
    "### Q9.2 Based on above analysis, which City(ies) violent crime count remained the same from 2016 to 2017? \n",
    "#### Hint: remain the same = no increase nor decrease "
   ]
  },
  {
   "cell_type": "code",
   "execution_count": 219,
   "metadata": {},
   "outputs": [
    {
     "data": {
      "text/html": [
       "<div>\n",
       "<style scoped>\n",
       "    .dataframe tbody tr th:only-of-type {\n",
       "        vertical-align: middle;\n",
       "    }\n",
       "\n",
       "    .dataframe tbody tr th {\n",
       "        vertical-align: top;\n",
       "    }\n",
       "\n",
       "    .dataframe thead th {\n",
       "        text-align: right;\n",
       "    }\n",
       "</style>\n",
       "<table border=\"1\" class=\"dataframe\">\n",
       "  <thead>\n",
       "    <tr style=\"text-align: right;\">\n",
       "      <th></th>\n",
       "      <th>State</th>\n",
       "      <th>City</th>\n",
       "      <th>Year</th>\n",
       "      <th>Population</th>\n",
       "      <th>Violent crime</th>\n",
       "      <th>Murder</th>\n",
       "      <th>Rape</th>\n",
       "      <th>Robbery</th>\n",
       "      <th>Aggravated assault</th>\n",
       "      <th>Property crime</th>\n",
       "      <th>Burglary</th>\n",
       "      <th>Larceny-theft</th>\n",
       "      <th>Motor vehicle theft</th>\n",
       "      <th>Arson</th>\n",
       "    </tr>\n",
       "  </thead>\n",
       "  <tbody>\n",
       "    <tr>\n",
       "      <th>22</th>\n",
       "      <td>CALIFORNIA</td>\n",
       "      <td>ANAHEIM</td>\n",
       "      <td>2016</td>\n",
       "      <td>353504.0</td>\n",
       "      <td>620</td>\n",
       "      <td>4</td>\n",
       "      <td>70</td>\n",
       "      <td>183</td>\n",
       "      <td>363</td>\n",
       "      <td>5151</td>\n",
       "      <td>759</td>\n",
       "      <td>3677</td>\n",
       "      <td>715</td>\n",
       "      <td>17</td>\n",
       "    </tr>\n",
       "    <tr>\n",
       "      <th>23</th>\n",
       "      <td>CALIFORNIA</td>\n",
       "      <td>ANAHEIM</td>\n",
       "      <td>2017</td>\n",
       "      <td>353504.0</td>\n",
       "      <td>601</td>\n",
       "      <td>6</td>\n",
       "      <td>63</td>\n",
       "      <td>218</td>\n",
       "      <td>314</td>\n",
       "      <td>4629</td>\n",
       "      <td>652</td>\n",
       "      <td>3190</td>\n",
       "      <td>787</td>\n",
       "      <td>16</td>\n",
       "    </tr>\n",
       "  </tbody>\n",
       "</table>\n",
       "</div>"
      ],
      "text/plain": [
       "         State     City  Year  Population  Violent crime  Murder  Rape  \\\n",
       "22  CALIFORNIA  ANAHEIM  2016    353504.0            620       4    70   \n",
       "23  CALIFORNIA  ANAHEIM  2017    353504.0            601       6    63   \n",
       "\n",
       "    Robbery  Aggravated assault  Property crime  Burglary  Larceny-theft  \\\n",
       "22      183                 363            5151       759           3677   \n",
       "23      218                 314            4629       652           3190   \n",
       "\n",
       "    Motor vehicle theft  Arson  \n",
       "22                  715     17  \n",
       "23                  787     16  "
      ]
     },
     "execution_count": 219,
     "metadata": {},
     "output_type": "execute_result"
    }
   ],
   "source": [
    "california_data.head(2)"
   ]
  },
  {
   "cell_type": "code",
   "execution_count": 220,
   "metadata": {},
   "outputs": [
    {
     "data": {
      "text/html": [
       "<div>\n",
       "<style scoped>\n",
       "    .dataframe tbody tr th:only-of-type {\n",
       "        vertical-align: middle;\n",
       "    }\n",
       "\n",
       "    .dataframe tbody tr th {\n",
       "        vertical-align: top;\n",
       "    }\n",
       "\n",
       "    .dataframe thead th {\n",
       "        text-align: right;\n",
       "    }\n",
       "</style>\n",
       "<table border=\"1\" class=\"dataframe\">\n",
       "  <thead>\n",
       "    <tr style=\"text-align: right;\">\n",
       "      <th></th>\n",
       "      <th>State</th>\n",
       "      <th>City</th>\n",
       "      <th>Year</th>\n",
       "      <th>Population</th>\n",
       "      <th>Violent crime</th>\n",
       "      <th>Murder</th>\n",
       "      <th>Rape</th>\n",
       "      <th>Robbery</th>\n",
       "      <th>Aggravated assault</th>\n",
       "      <th>Property crime</th>\n",
       "      <th>Burglary</th>\n",
       "      <th>Larceny-theft</th>\n",
       "      <th>Motor vehicle theft</th>\n",
       "      <th>Arson</th>\n",
       "    </tr>\n",
       "  </thead>\n",
       "  <tbody>\n",
       "    <tr>\n",
       "      <th>22</th>\n",
       "      <td>CALIFORNIA</td>\n",
       "      <td>ANAHEIM</td>\n",
       "      <td>2016</td>\n",
       "      <td>353504.0</td>\n",
       "      <td>620</td>\n",
       "      <td>4</td>\n",
       "      <td>70</td>\n",
       "      <td>183</td>\n",
       "      <td>363</td>\n",
       "      <td>5151</td>\n",
       "      <td>759</td>\n",
       "      <td>3677</td>\n",
       "      <td>715</td>\n",
       "      <td>17</td>\n",
       "    </tr>\n",
       "    <tr>\n",
       "      <th>23</th>\n",
       "      <td>CALIFORNIA</td>\n",
       "      <td>ANAHEIM</td>\n",
       "      <td>2017</td>\n",
       "      <td>353504.0</td>\n",
       "      <td>601</td>\n",
       "      <td>6</td>\n",
       "      <td>63</td>\n",
       "      <td>218</td>\n",
       "      <td>314</td>\n",
       "      <td>4629</td>\n",
       "      <td>652</td>\n",
       "      <td>3190</td>\n",
       "      <td>787</td>\n",
       "      <td>16</td>\n",
       "    </tr>\n",
       "  </tbody>\n",
       "</table>\n",
       "</div>"
      ],
      "text/plain": [
       "         State     City  Year  Population  Violent crime  Murder  Rape  \\\n",
       "22  CALIFORNIA  ANAHEIM  2016    353504.0            620       4    70   \n",
       "23  CALIFORNIA  ANAHEIM  2017    353504.0            601       6    63   \n",
       "\n",
       "    Robbery  Aggravated assault  Property crime  Burglary  Larceny-theft  \\\n",
       "22      183                 363            5151       759           3677   \n",
       "23      218                 314            4629       652           3190   \n",
       "\n",
       "    Motor vehicle theft  Arson  \n",
       "22                  715     17  \n",
       "23                  787     16  "
      ]
     },
     "execution_count": 220,
     "metadata": {},
     "output_type": "execute_result"
    }
   ],
   "source": [
    "california_data_2016_2017 = california_data[california_data['Year'].isin([2016, 2017])]\n",
    "california_data_2016_2017.head(2)"
   ]
  },
  {
   "cell_type": "code",
   "execution_count": 221,
   "metadata": {},
   "outputs": [],
   "source": [
    "california_pivot_same = california_data_2016_2017.pivot_table(index='City', columns='Year', values='Violent crime', aggfunc='sum')"
   ]
  },
  {
   "cell_type": "code",
   "execution_count": 222,
   "metadata": {},
   "outputs": [
    {
     "data": {
      "text/plain": [
       "['CONCORD', 'SANTA CLARA']"
      ]
     },
     "execution_count": 222,
     "metadata": {},
     "output_type": "execute_result"
    }
   ],
   "source": [
    "cities_same_violent_crime = california_pivot_same[california_pivot_same[2016] == california_pivot_same[2017]].dropna().index.tolist()\n",
    "cities_same_violent_crime"
   ]
  },
  {
   "cell_type": "markdown",
   "metadata": {},
   "source": [
    "## Q10 (10 pts) "
   ]
  },
  {
   "cell_type": "markdown",
   "metadata": {},
   "source": [
    "### Q10.1, Assuming a 'Safe City' is a city with 'Violent crime' <= ('Violent crime' national average). Use 'Safe City' as target variable Y, build and train a 2-levels DecisionTree.  Show the resulting decision tree and draw conclusion to the 4 end nodes respectively”\n",
    " \n",
    "#### Note 1: Drop the 'City', 'Year' columns before training. \n",
    "#### Note 2: Drop all columns you introduced into the data set except 'Safe City'\n",
    "#### Note 3: Leverage pd.get_dummies()"
   ]
  },
  {
   "cell_type": "code",
   "execution_count": 223,
   "metadata": {},
   "outputs": [],
   "source": [
    "from sklearn.tree import DecisionTreeClassifier, plot_tree"
   ]
  },
  {
   "cell_type": "code",
   "execution_count": 226,
   "metadata": {},
   "outputs": [],
   "source": [
    "violent_crime_national_average = df['Violent crime'].mean()"
   ]
  },
  {
   "cell_type": "code",
   "execution_count": 227,
   "metadata": {},
   "outputs": [],
   "source": [
    "df['Safe City'] = df['Violent crime'] <= violent_crime_national_average"
   ]
  },
  {
   "cell_type": "code",
   "execution_count": 228,
   "metadata": {},
   "outputs": [],
   "source": [
    "df_prepared = df.drop(['City', 'Year'], axis=1)"
   ]
  },
  {
   "cell_type": "code",
   "execution_count": 229,
   "metadata": {},
   "outputs": [
    {
     "data": {
      "text/html": [
       "<div>\n",
       "<style scoped>\n",
       "    .dataframe tbody tr th:only-of-type {\n",
       "        vertical-align: middle;\n",
       "    }\n",
       "\n",
       "    .dataframe tbody tr th {\n",
       "        vertical-align: top;\n",
       "    }\n",
       "\n",
       "    .dataframe thead th {\n",
       "        text-align: right;\n",
       "    }\n",
       "</style>\n",
       "<table border=\"1\" class=\"dataframe\">\n",
       "  <thead>\n",
       "    <tr style=\"text-align: right;\">\n",
       "      <th></th>\n",
       "      <th>State</th>\n",
       "      <th>City</th>\n",
       "      <th>Year</th>\n",
       "      <th>Population</th>\n",
       "      <th>Violent crime</th>\n",
       "      <th>Murder</th>\n",
       "      <th>Rape</th>\n",
       "      <th>Robbery</th>\n",
       "      <th>Aggravated assault</th>\n",
       "      <th>Property crime</th>\n",
       "      <th>Burglary</th>\n",
       "      <th>Larceny-theft</th>\n",
       "      <th>Motor vehicle theft</th>\n",
       "      <th>Arson</th>\n",
       "      <th>Safe City</th>\n",
       "    </tr>\n",
       "  </thead>\n",
       "  <tbody>\n",
       "    <tr>\n",
       "      <th>0</th>\n",
       "      <td>ALABAMA</td>\n",
       "      <td>BIRMINGHAM</td>\n",
       "      <td>2016</td>\n",
       "      <td>212549.0</td>\n",
       "      <td>1732</td>\n",
       "      <td>44</td>\n",
       "      <td>75</td>\n",
       "      <td>460</td>\n",
       "      <td>1153</td>\n",
       "      <td>5875</td>\n",
       "      <td>1318</td>\n",
       "      <td>3807</td>\n",
       "      <td>750</td>\n",
       "      <td>76</td>\n",
       "      <td>False</td>\n",
       "    </tr>\n",
       "    <tr>\n",
       "      <th>1</th>\n",
       "      <td>ALABAMA</td>\n",
       "      <td>BIRMINGHAM</td>\n",
       "      <td>2017</td>\n",
       "      <td>212549.0</td>\n",
       "      <td>1829</td>\n",
       "      <td>42</td>\n",
       "      <td>92</td>\n",
       "      <td>472</td>\n",
       "      <td>1223</td>\n",
       "      <td>6458</td>\n",
       "      <td>1292</td>\n",
       "      <td>4350</td>\n",
       "      <td>816</td>\n",
       "      <td>87</td>\n",
       "      <td>False</td>\n",
       "    </tr>\n",
       "  </tbody>\n",
       "</table>\n",
       "</div>"
      ],
      "text/plain": [
       "     State        City  Year  Population  Violent crime  Murder  Rape  \\\n",
       "0  ALABAMA  BIRMINGHAM  2016    212549.0           1732      44    75   \n",
       "1  ALABAMA  BIRMINGHAM  2017    212549.0           1829      42    92   \n",
       "\n",
       "   Robbery  Aggravated assault  Property crime  Burglary  Larceny-theft  \\\n",
       "0      460                1153            5875      1318           3807   \n",
       "1      472                1223            6458      1292           4350   \n",
       "\n",
       "   Motor vehicle theft  Arson  Safe City  \n",
       "0                  750     76      False  \n",
       "1                  816     87      False  "
      ]
     },
     "execution_count": 229,
     "metadata": {},
     "output_type": "execute_result"
    }
   ],
   "source": [
    "df.head(2)"
   ]
  },
  {
   "cell_type": "code",
   "execution_count": 230,
   "metadata": {},
   "outputs": [],
   "source": [
    "df_prepared = df_prepared[['State', 'Population', 'Violent crime', 'Murder', 'Rape', 'Robbery', \n",
    "                           'Aggravated assault', 'Property crime', 'Burglary', 'Larceny-theft', \n",
    "                           'Motor vehicle theft', 'Arson', 'Safe City']]"
   ]
  },
  {
   "cell_type": "code",
   "execution_count": 231,
   "metadata": {},
   "outputs": [],
   "source": [
    "df_prepared = pd.get_dummies(df_prepared, drop_first=True)"
   ]
  },
  {
   "cell_type": "code",
   "execution_count": 232,
   "metadata": {},
   "outputs": [
    {
     "data": {
      "text/html": [
       "<style>#sk-container-id-10 {color: black;}#sk-container-id-10 pre{padding: 0;}#sk-container-id-10 div.sk-toggleable {background-color: white;}#sk-container-id-10 label.sk-toggleable__label {cursor: pointer;display: block;width: 100%;margin-bottom: 0;padding: 0.3em;box-sizing: border-box;text-align: center;}#sk-container-id-10 label.sk-toggleable__label-arrow:before {content: \"▸\";float: left;margin-right: 0.25em;color: #696969;}#sk-container-id-10 label.sk-toggleable__label-arrow:hover:before {color: black;}#sk-container-id-10 div.sk-estimator:hover label.sk-toggleable__label-arrow:before {color: black;}#sk-container-id-10 div.sk-toggleable__content {max-height: 0;max-width: 0;overflow: hidden;text-align: left;background-color: #f0f8ff;}#sk-container-id-10 div.sk-toggleable__content pre {margin: 0.2em;color: black;border-radius: 0.25em;background-color: #f0f8ff;}#sk-container-id-10 input.sk-toggleable__control:checked~div.sk-toggleable__content {max-height: 200px;max-width: 100%;overflow: auto;}#sk-container-id-10 input.sk-toggleable__control:checked~label.sk-toggleable__label-arrow:before {content: \"▾\";}#sk-container-id-10 div.sk-estimator input.sk-toggleable__control:checked~label.sk-toggleable__label {background-color: #d4ebff;}#sk-container-id-10 div.sk-label input.sk-toggleable__control:checked~label.sk-toggleable__label {background-color: #d4ebff;}#sk-container-id-10 input.sk-hidden--visually {border: 0;clip: rect(1px 1px 1px 1px);clip: rect(1px, 1px, 1px, 1px);height: 1px;margin: -1px;overflow: hidden;padding: 0;position: absolute;width: 1px;}#sk-container-id-10 div.sk-estimator {font-family: monospace;background-color: #f0f8ff;border: 1px dotted black;border-radius: 0.25em;box-sizing: border-box;margin-bottom: 0.5em;}#sk-container-id-10 div.sk-estimator:hover {background-color: #d4ebff;}#sk-container-id-10 div.sk-parallel-item::after {content: \"\";width: 100%;border-bottom: 1px solid gray;flex-grow: 1;}#sk-container-id-10 div.sk-label:hover label.sk-toggleable__label {background-color: #d4ebff;}#sk-container-id-10 div.sk-serial::before {content: \"\";position: absolute;border-left: 1px solid gray;box-sizing: border-box;top: 0;bottom: 0;left: 50%;z-index: 0;}#sk-container-id-10 div.sk-serial {display: flex;flex-direction: column;align-items: center;background-color: white;padding-right: 0.2em;padding-left: 0.2em;position: relative;}#sk-container-id-10 div.sk-item {position: relative;z-index: 1;}#sk-container-id-10 div.sk-parallel {display: flex;align-items: stretch;justify-content: center;background-color: white;position: relative;}#sk-container-id-10 div.sk-item::before, #sk-container-id-10 div.sk-parallel-item::before {content: \"\";position: absolute;border-left: 1px solid gray;box-sizing: border-box;top: 0;bottom: 0;left: 50%;z-index: -1;}#sk-container-id-10 div.sk-parallel-item {display: flex;flex-direction: column;z-index: 1;position: relative;background-color: white;}#sk-container-id-10 div.sk-parallel-item:first-child::after {align-self: flex-end;width: 50%;}#sk-container-id-10 div.sk-parallel-item:last-child::after {align-self: flex-start;width: 50%;}#sk-container-id-10 div.sk-parallel-item:only-child::after {width: 0;}#sk-container-id-10 div.sk-dashed-wrapped {border: 1px dashed gray;margin: 0 0.4em 0.5em 0.4em;box-sizing: border-box;padding-bottom: 0.4em;background-color: white;}#sk-container-id-10 div.sk-label label {font-family: monospace;font-weight: bold;display: inline-block;line-height: 1.2em;}#sk-container-id-10 div.sk-label-container {text-align: center;}#sk-container-id-10 div.sk-container {/* jupyter's `normalize.less` sets `[hidden] { display: none; }` but bootstrap.min.css set `[hidden] { display: none !important; }` so we also need the `!important` here to be able to override the default hidden behavior on the sphinx rendered scikit-learn.org. See: https://github.com/scikit-learn/scikit-learn/issues/21755 */display: inline-block !important;position: relative;}#sk-container-id-10 div.sk-text-repr-fallback {display: none;}</style><div id=\"sk-container-id-10\" class=\"sk-top-container\"><div class=\"sk-text-repr-fallback\"><pre>DecisionTreeClassifier(max_depth=2)</pre><b>In a Jupyter environment, please rerun this cell to show the HTML representation or trust the notebook. <br />On GitHub, the HTML representation is unable to render, please try loading this page with nbviewer.org.</b></div><div class=\"sk-container\" hidden><div class=\"sk-item\"><div class=\"sk-estimator sk-toggleable\"><input class=\"sk-toggleable__control sk-hidden--visually\" id=\"sk-estimator-id-10\" type=\"checkbox\" checked><label for=\"sk-estimator-id-10\" class=\"sk-toggleable__label sk-toggleable__label-arrow\">DecisionTreeClassifier</label><div class=\"sk-toggleable__content\"><pre>DecisionTreeClassifier(max_depth=2)</pre></div></div></div></div></div>"
      ],
      "text/plain": [
       "DecisionTreeClassifier(max_depth=2)"
      ]
     },
     "execution_count": 232,
     "metadata": {},
     "output_type": "execute_result"
    },
    {
     "data": {
      "text/plain": [
       "<Figure size 1000x700 with 0 Axes>"
      ]
     },
     "execution_count": 232,
     "metadata": {},
     "output_type": "execute_result"
    },
    {
     "data": {
      "text/plain": [
       "[Text(0.5, 0.75, 'Violent crime <= 967.0\\ngini = 0.357\\nsamples = 460\\nvalue = [107, 353]\\nclass = Safe'),\n",
       " Text(0.25, 0.25, 'gini = 0.0\\nsamples = 353\\nvalue = [0, 353]\\nclass = Safe'),\n",
       " Text(0.75, 0.25, 'gini = 0.0\\nsamples = 107\\nvalue = [107, 0]\\nclass = Not Safe')]"
      ]
     },
     "execution_count": 232,
     "metadata": {},
     "output_type": "execute_result"
    },
    {
     "data": {
      "image/png": "[encoded data removed]",
      "text/plain": [
       "<Figure size 1000x700 with 1 Axes>"
      ]
     },
     "metadata": {},
     "output_type": "display_data"
    }
   ],
   "source": [
    "feature_names_list = X.columns.tolist()\n",
    "\n",
    "X = df_prepared.drop('Safe City', axis=1)\n",
    "y = df_prepared['Safe City']\n",
    "\n",
    "dt_classifier = DecisionTreeClassifier(max_depth=2)\n",
    "\n",
    "dt_classifier.fit(X, y)\n",
    "\n",
    "plt.figure(figsize=(10, 7))\n",
    "plot_tree(dt_classifier, filled=True, feature_names=feature_names_list, class_names=['Not Safe', 'Safe'])\n",
    "plt.show()"
   ]
  },
  {
   "cell_type": "markdown",
   "metadata": {},
   "source": [
    "#### Conclusion:"
   ]
  },
  {
   "cell_type": "markdown",
   "metadata": {},
   "source": [
    "**Professor, I'm trying to draw the max_depth=2, but it did not show 4end nodes because I'm thinking that the algorithm may choose not to split, resulting in fewer leaf nodes than the maximum possible for a given depth.**"
   ]
  },
  {
   "cell_type": "markdown",
   "metadata": {},
   "source": [
    "So my conclusion is that the decision tree has determined that cities with 'Violent crime' counts less than or equal to 967 are 'Safe', and those with counts higher than 967 are 'Not Safe', based on the data provided to the model."
   ]
  },
  {
   "cell_type": "markdown",
   "metadata": {},
   "source": [
    "### Q10.2, Use two graphs to prove the Decision Tree had made a good decision on selecting those criterias. Provide a conclusion for each graph.\n",
    "\n",
    "#### Hint: generate new columns by using pd.cut with specific size of bins based on DecisionTree's output"
   ]
  },
  {
   "cell_type": "code",
   "execution_count": 234,
   "metadata": {},
   "outputs": [
    {
     "data": {
      "text/html": [
       "<div>\n",
       "<style scoped>\n",
       "    .dataframe tbody tr th:only-of-type {\n",
       "        vertical-align: middle;\n",
       "    }\n",
       "\n",
       "    .dataframe tbody tr th {\n",
       "        vertical-align: top;\n",
       "    }\n",
       "\n",
       "    .dataframe thead th {\n",
       "        text-align: right;\n",
       "    }\n",
       "</style>\n",
       "<table border=\"1\" class=\"dataframe\">\n",
       "  <thead>\n",
       "    <tr style=\"text-align: right;\">\n",
       "      <th></th>\n",
       "      <th>State</th>\n",
       "      <th>City</th>\n",
       "      <th>Year</th>\n",
       "      <th>Population</th>\n",
       "      <th>Violent crime</th>\n",
       "      <th>Murder</th>\n",
       "      <th>Rape</th>\n",
       "      <th>Robbery</th>\n",
       "      <th>Aggravated assault</th>\n",
       "      <th>Property crime</th>\n",
       "      <th>Burglary</th>\n",
       "      <th>Larceny-theft</th>\n",
       "      <th>Motor vehicle theft</th>\n",
       "      <th>Arson</th>\n",
       "      <th>Safe City</th>\n",
       "    </tr>\n",
       "  </thead>\n",
       "  <tbody>\n",
       "    <tr>\n",
       "      <th>0</th>\n",
       "      <td>ALABAMA</td>\n",
       "      <td>BIRMINGHAM</td>\n",
       "      <td>2016</td>\n",
       "      <td>212549.0</td>\n",
       "      <td>1732</td>\n",
       "      <td>44</td>\n",
       "      <td>75</td>\n",
       "      <td>460</td>\n",
       "      <td>1153</td>\n",
       "      <td>5875</td>\n",
       "      <td>1318</td>\n",
       "      <td>3807</td>\n",
       "      <td>750</td>\n",
       "      <td>76</td>\n",
       "      <td>False</td>\n",
       "    </tr>\n",
       "    <tr>\n",
       "      <th>1</th>\n",
       "      <td>ALABAMA</td>\n",
       "      <td>BIRMINGHAM</td>\n",
       "      <td>2017</td>\n",
       "      <td>212549.0</td>\n",
       "      <td>1829</td>\n",
       "      <td>42</td>\n",
       "      <td>92</td>\n",
       "      <td>472</td>\n",
       "      <td>1223</td>\n",
       "      <td>6458</td>\n",
       "      <td>1292</td>\n",
       "      <td>4350</td>\n",
       "      <td>816</td>\n",
       "      <td>87</td>\n",
       "      <td>False</td>\n",
       "    </tr>\n",
       "  </tbody>\n",
       "</table>\n",
       "</div>"
      ],
      "text/plain": [
       "     State        City  Year  Population  Violent crime  Murder  Rape  \\\n",
       "0  ALABAMA  BIRMINGHAM  2016    212549.0           1732      44    75   \n",
       "1  ALABAMA  BIRMINGHAM  2017    212549.0           1829      42    92   \n",
       "\n",
       "   Robbery  Aggravated assault  Property crime  Burglary  Larceny-theft  \\\n",
       "0      460                1153            5875      1318           3807   \n",
       "1      472                1223            6458      1292           4350   \n",
       "\n",
       "   Motor vehicle theft  Arson  Safe City  \n",
       "0                  750     76      False  \n",
       "1                  816     87      False  "
      ]
     },
     "execution_count": 234,
     "metadata": {},
     "output_type": "execute_result"
    }
   ],
   "source": [
    "df.head(2)"
   ]
  },
  {
   "cell_type": "code",
   "execution_count": 235,
   "metadata": {},
   "outputs": [],
   "source": [
    "import seaborn as sns"
   ]
  },
  {
   "cell_type": "markdown",
   "metadata": {},
   "source": [
    "#### Graph 1"
   ]
  },
  {
   "cell_type": "code",
   "execution_count": 236,
   "metadata": {},
   "outputs": [],
   "source": [
    "df['ViolentCrimeCategory'] = pd.cut(df['Violent crime'], bins=[-float(\"inf\"), 967, float(\"inf\")], labels=['<=967', '>967'])"
   ]
  },
  {
   "cell_type": "code",
   "execution_count": 237,
   "metadata": {},
   "outputs": [
    {
     "data": {
      "image/png": "[encoded data removed]",
      "text/plain": [
       "<Figure size 800x500 with 1 Axes>"
      ]
     },
     "metadata": {},
     "output_type": "display_data"
    }
   ],
   "source": [
    "plt.figure(figsize=(8, 5))\n",
    "sns.countplot(x='ViolentCrimeCategory', hue='Safe City', data=df)\n",
    "plt.title('Distribution of Safe City by Violent Crime Categories')\n",
    "plt.xlabel('Violent Crime Categories')\n",
    "plt.ylabel('Number of Cities')\n",
    "plt.show();"
   ]
  },
  {
   "cell_type": "markdown",
   "metadata": {},
   "source": [
    "#### Conclusion 1:"
   ]
  },
  {
   "cell_type": "markdown",
   "metadata": {},
   "source": [
    "The first graph demonstrates that all cities with 'Violent crime' counts of 967 or lower are classified as 'Safe' while those with higher counts are classified as 'Not Safe'."
   ]
  },
  {
   "cell_type": "markdown",
   "metadata": {},
   "source": [
    "This clear separation validates the Decision Tree's criterion for splitting and indicates a good decision, with no overlap."
   ]
  },
  {
   "cell_type": "markdown",
   "metadata": {},
   "source": [
    "#### Graph 2"
   ]
  },
  {
   "cell_type": "code",
   "execution_count": 238,
   "metadata": {},
   "outputs": [
    {
     "data": {
      "image/png": "[encoded data removed]",
      "text/plain": [
       "<Figure size 800x500 with 1 Axes>"
      ]
     },
     "metadata": {},
     "output_type": "display_data"
    }
   ],
   "source": [
    "plt.figure(figsize=(8, 5))\n",
    "sns.barplot(x='Safe City', y='Violent crime', data=df)\n",
    "plt.title('Mean Violent Crime Count for Safe and Not Safe Cities')\n",
    "plt.xlabel('City Safety')\n",
    "plt.ylabel('Average Violent Crime Count')\n",
    "plt.show();"
   ]
  },
  {
   "cell_type": "markdown",
   "metadata": {},
   "source": [
    "#### Conclusion 2:"
   ]
  },
  {
   "cell_type": "markdown",
   "metadata": {},
   "source": [
    "The second graph explains that the average 'Violent crime' count is lower for 'Safe' cities compared to 'Not Safe' cities. This supports the Decision Tree's decision to use 'Violent crime' count as a criterion for determining city safety."
   ]
  },
  {
   "cell_type": "markdown",
   "metadata": {},
   "source": [
    "Moreover, the significant difference in means between the two categories suggests that 'Violent crime' count is a good predictor of city safety based on the Decision Tree model."
   ]
  },
  {
   "cell_type": "markdown",
   "metadata": {},
   "source": [
    "## Alan's comments:\n",
    "* Q9.1, Should take the .abs() to get the correct answer. partial pts (-2.5 pts)\n",
    "* Q10: Answers incorrect, partial pts (-8 pts)\n",
    "\n",
    "\n",
    "Total deduction pts: -10.5\n",
    "\n",
    "Final pts: 89.5 out of 100\n",
    "\n"
   ]
  }
 ],
 "metadata": {
  "kernelspec": {
   "display_name": "Python 3 (ipykernel)",
   "language": "python",
   "name": "python3"
  },
  "language_info": {
   "codemirror_mode": {
    "name": "ipython",
    "version": 3
   },
   "file_extension": ".py",
   "mimetype": "text/x-python",
   "name": "python",
   "nbconvert_exporter": "python",
   "pygments_lexer": "ipython3",
   "version": "3.11.4"
  }
 },
 "nbformat": 4,
 "nbformat_minor": 1
}
