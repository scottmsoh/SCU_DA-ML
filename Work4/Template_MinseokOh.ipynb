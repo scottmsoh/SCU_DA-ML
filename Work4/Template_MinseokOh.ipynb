{
 "cells": [
  {
   "cell_type": "markdown",
   "metadata": {},
   "source": [
    "# HW4 (Anawered by MinseokOh)"
   ]
  },
  {
   "cell_type": "markdown",
   "metadata": {},
   "source": [
    "<b>Instructions:</b> Write your answers in the empty code cells below."
   ]
  },
  {
   "cell_type": "markdown",
   "metadata": {},
   "source": [
    "<b>Penalties:</b> You will incur penalties if:\n",
    "<ul>\n",
    "<li>Your code is wrong</li>\n",
    "<li>Your code does not work on different data</li>\n",
    "<li>Your code is unnecessarily slow (you use a for loop, or you use DataFrame.apply unnecessarily, etc)\n",
    "</ul>"
   ]
  },
  {
   "cell_type": "markdown",
   "metadata": {},
   "source": [
    "Start by downloading the file <i>cleaned_survey.csv</i> in the same folder as this .ipynb file. The file contains the results from the student survey.  "
   ]
  },
  {
   "cell_type": "markdown",
   "metadata": {},
   "source": [
    "Then, execute the code below to load the data in a  dataframe <i>df</i>. "
   ]
  },
  {
   "cell_type": "code",
   "execution_count": 47,
   "metadata": {},
   "outputs": [],
   "source": [
    "import pandas as pd\n",
    "df = pd.read_csv(\"cleaned_survey-1.csv\", index_col=0)\n",
    "df.drop(['Expert'],axis=1,inplace=True)\n",
    "#df.drop(['Languages','Expert'],axis=1,inplace=True)"
   ]
  },
  {
   "cell_type": "code",
   "execution_count": 48,
   "metadata": {},
   "outputs": [],
   "source": [
    "pd.set_option('display.max_columns',50)"
   ]
  },
  {
   "cell_type": "code",
   "execution_count": 49,
   "metadata": {
    "scrolled": true
   },
   "outputs": [
    {
     "data": {
      "text/html": [
       "<div>\n",
       "<style scoped>\n",
       "    .dataframe tbody tr th:only-of-type {\n",
       "        vertical-align: middle;\n",
       "    }\n",
       "\n",
       "    .dataframe tbody tr th {\n",
       "        vertical-align: top;\n",
       "    }\n",
       "\n",
       "    .dataframe thead th {\n",
       "        text-align: right;\n",
       "    }\n",
       "</style>\n",
       "<table border=\"1\" class=\"dataframe\">\n",
       "  <thead>\n",
       "    <tr style=\"text-align: right;\">\n",
       "      <th></th>\n",
       "      <th>Job</th>\n",
       "      <th>Program</th>\n",
       "      <th>ProgSkills</th>\n",
       "      <th>C</th>\n",
       "      <th>CPP</th>\n",
       "      <th>CS</th>\n",
       "      <th>Java</th>\n",
       "      <th>Python</th>\n",
       "      <th>JS</th>\n",
       "      <th>R</th>\n",
       "      <th>SQL</th>\n",
       "      <th>SAS</th>\n",
       "      <th>Excel</th>\n",
       "      <th>Tableau</th>\n",
       "      <th>Regression</th>\n",
       "      <th>Classification</th>\n",
       "      <th>Clustering</th>\n",
       "      <th>Bach_0to1</th>\n",
       "      <th>Bach_1to3</th>\n",
       "      <th>Bach_3to5</th>\n",
       "      <th>Bach_5Plus</th>\n",
       "      <th>Languages</th>\n",
       "    </tr>\n",
       "  </thead>\n",
       "  <tbody>\n",
       "    <tr>\n",
       "      <th>0</th>\n",
       "      <td>0.0</td>\n",
       "      <td>MSIS</td>\n",
       "      <td>4</td>\n",
       "      <td>1</td>\n",
       "      <td>1</td>\n",
       "      <td>0.0</td>\n",
       "      <td>0</td>\n",
       "      <td>1.0</td>\n",
       "      <td>1.0</td>\n",
       "      <td>0.0</td>\n",
       "      <td>1.0</td>\n",
       "      <td>0.0</td>\n",
       "      <td>1</td>\n",
       "      <td>1</td>\n",
       "      <td>1.0</td>\n",
       "      <td>4</td>\n",
       "      <td>4</td>\n",
       "      <td>0</td>\n",
       "      <td>1</td>\n",
       "      <td>0</td>\n",
       "      <td>0</td>\n",
       "      <td>6</td>\n",
       "    </tr>\n",
       "    <tr>\n",
       "      <th>1</th>\n",
       "      <td>0.5</td>\n",
       "      <td>MSIS</td>\n",
       "      <td>3</td>\n",
       "      <td>1</td>\n",
       "      <td>1</td>\n",
       "      <td>0.0</td>\n",
       "      <td>1</td>\n",
       "      <td>0.0</td>\n",
       "      <td>0.0</td>\n",
       "      <td>0.0</td>\n",
       "      <td>1.0</td>\n",
       "      <td>0.0</td>\n",
       "      <td>1</td>\n",
       "      <td>0</td>\n",
       "      <td>0.0</td>\n",
       "      <td>2</td>\n",
       "      <td>2</td>\n",
       "      <td>0</td>\n",
       "      <td>0</td>\n",
       "      <td>0</td>\n",
       "      <td>1</td>\n",
       "      <td>4</td>\n",
       "    </tr>\n",
       "    <tr>\n",
       "      <th>2</th>\n",
       "      <td>0.0</td>\n",
       "      <td>MSIS</td>\n",
       "      <td>3</td>\n",
       "      <td>0</td>\n",
       "      <td>0</td>\n",
       "      <td>0.0</td>\n",
       "      <td>1</td>\n",
       "      <td>1.0</td>\n",
       "      <td>0.0</td>\n",
       "      <td>0.0</td>\n",
       "      <td>1.0</td>\n",
       "      <td>0.0</td>\n",
       "      <td>1</td>\n",
       "      <td>0</td>\n",
       "      <td>1.0</td>\n",
       "      <td>3</td>\n",
       "      <td>3</td>\n",
       "      <td>0</td>\n",
       "      <td>0</td>\n",
       "      <td>1</td>\n",
       "      <td>0</td>\n",
       "      <td>3</td>\n",
       "    </tr>\n",
       "    <tr>\n",
       "      <th>3</th>\n",
       "      <td>0.0</td>\n",
       "      <td>MSIS</td>\n",
       "      <td>3</td>\n",
       "      <td>1</td>\n",
       "      <td>0</td>\n",
       "      <td>0.0</td>\n",
       "      <td>1</td>\n",
       "      <td>1.0</td>\n",
       "      <td>0.0</td>\n",
       "      <td>1.0</td>\n",
       "      <td>1.0</td>\n",
       "      <td>0.0</td>\n",
       "      <td>1</td>\n",
       "      <td>0</td>\n",
       "      <td>1.0</td>\n",
       "      <td>2</td>\n",
       "      <td>3</td>\n",
       "      <td>0</td>\n",
       "      <td>0</td>\n",
       "      <td>0</td>\n",
       "      <td>1</td>\n",
       "      <td>5</td>\n",
       "    </tr>\n",
       "    <tr>\n",
       "      <th>4</th>\n",
       "      <td>0.0</td>\n",
       "      <td>MSIS</td>\n",
       "      <td>3</td>\n",
       "      <td>1</td>\n",
       "      <td>0</td>\n",
       "      <td>0.0</td>\n",
       "      <td>1</td>\n",
       "      <td>1.0</td>\n",
       "      <td>0.0</td>\n",
       "      <td>0.0</td>\n",
       "      <td>1.0</td>\n",
       "      <td>0.0</td>\n",
       "      <td>1</td>\n",
       "      <td>0</td>\n",
       "      <td>0.0</td>\n",
       "      <td>1</td>\n",
       "      <td>1</td>\n",
       "      <td>0</td>\n",
       "      <td>0</td>\n",
       "      <td>1</td>\n",
       "      <td>0</td>\n",
       "      <td>4</td>\n",
       "    </tr>\n",
       "  </tbody>\n",
       "</table>\n",
       "</div>"
      ],
      "text/plain": [
       "   Job Program  ProgSkills  C  CPP   CS  Java  Python   JS    R  SQL  SAS  \\\n",
       "0  0.0    MSIS           4  1    1  0.0     0     1.0  1.0  0.0  1.0  0.0   \n",
       "1  0.5    MSIS           3  1    1  0.0     1     0.0  0.0  0.0  1.0  0.0   \n",
       "2  0.0    MSIS           3  0    0  0.0     1     1.0  0.0  0.0  1.0  0.0   \n",
       "3  0.0    MSIS           3  1    0  0.0     1     1.0  0.0  1.0  1.0  0.0   \n",
       "4  0.0    MSIS           3  1    0  0.0     1     1.0  0.0  0.0  1.0  0.0   \n",
       "\n",
       "   Excel  Tableau  Regression  Classification  Clustering  Bach_0to1  \\\n",
       "0      1        1         1.0               4           4          0   \n",
       "1      1        0         0.0               2           2          0   \n",
       "2      1        0         1.0               3           3          0   \n",
       "3      1        0         1.0               2           3          0   \n",
       "4      1        0         0.0               1           1          0   \n",
       "\n",
       "   Bach_1to3  Bach_3to5  Bach_5Plus  Languages  \n",
       "0          1          0           0          6  \n",
       "1          0          0           1          4  \n",
       "2          0          1           0          3  \n",
       "3          0          0           1          5  \n",
       "4          0          1           0          4  "
      ]
     },
     "execution_count": 49,
     "metadata": {},
     "output_type": "execute_result"
    }
   ],
   "source": [
    "df.head()"
   ]
  },
  {
   "cell_type": "markdown",
   "metadata": {},
   "source": [
    "### Data Set description"
   ]
  },
  {
   "cell_type": "markdown",
   "metadata": {},
   "source": [
    "The data set contains one row for every person who filled the survey. We use <b>person</b> and <b>student</b> interchangeably."
   ]
  },
  {
   "cell_type": "markdown",
   "metadata": {},
   "source": [
    "<ul>\n",
    "<li><b>Job</b>: 0 for those students without a job, 0.5 for those students with a part-time job, and 1 for those students with a full-time job\n",
    "<li><b>Program</b>: program of enrollment\n",
    "<li><b>C-Regression</b>: indicates whether the student knows (1) or doesn't know (0) a certain programming language or topic\n",
    "<li><b>Classification</b>: indicates the level of knowledge (1-5) on classification\n",
    "<li><b>Clustering</b>: indicates the level of knowledge (1-5) on clustering\n",
    "<li><b>Bach_0to1</b>: 1 if time elapsed from graduation is less than a year; 0 otherwise\n",
    "<li><b>Bach_1to3</b>: 1 if time elapsed from graduation is between one and three years; 0 otherwise\n",
    "<li><b>Bach_3to5</b>: 1 if time elapsed from graduation is between three and five years; 0 otherwise\n",
    "<li><b>Bach_5Plus</b>: 1 if time elapsed from graduation is more than five years; 0 otherwise\n",
    "</ul>"
   ]
  },
  {
   "cell_type": "markdown",
   "metadata": {},
   "source": [
    "### Question 1"
   ]
  },
  {
   "cell_type": "markdown",
   "metadata": {},
   "source": [
    "<p>For each programming skill level, compute:</p>\n",
    "<ol>\n",
    "<li><b>PropPJC2</b>:the proportion (0 to 1, computed relatively to the group size) of people that know at least one among Python and Java and their Classification knowledge has to be at least 2. \n",
    "<li><b>StdevClust</b>:the standard deviation of the Clustering knowledge (function <i>std</i>)\n",
    "</ol>\n",
    "<p>You should return one data frame with one row for each programming skill level and two columns named <b>PropPy_or_Java_and_Class2+</b> and <b>StdevClass</b>. Don't worry about having a Hierarchical Index for the columns.</p> \n",
    "\n",
    "(In Camino, pick the correct **PropPy_or_Java_and_Class2+** number for student with ProgSkills = 5 )"
   ]
  },
  {
   "cell_type": "code",
   "execution_count": 50,
   "metadata": {},
   "outputs": [],
   "source": [
    "# Filter for those who know at least one among Python and Java and their Classification knowledge is at least 2\n",
    "df['Py_or_Java_and_Class2+'] = ((df['Python'] == 1.0) | (df['Java'] == 1.0)) & (df['Classification'] >= 2)"
   ]
  },
  {
   "cell_type": "code",
   "execution_count": 51,
   "metadata": {},
   "outputs": [],
   "source": [
    "# Group by programming skills and compute PropPJC2 and StdevClust\n",
    "result = df.groupby('ProgSkills').agg({\n",
    "    'Py_or_Java_and_Class2+': 'mean',  # mean will give the proportion for boolean values\n",
    "    'Clustering': 'std'\n",
    "}).rename(columns={\n",
    "    'Py_or_Java_and_Class2+': 'PropPy_or_Java_and_Class2+',\n",
    "    'Clustering': 'StdevClass'\n",
    "})"
   ]
  },
  {
   "cell_type": "code",
   "execution_count": 52,
   "metadata": {},
   "outputs": [
    {
     "name": "stdout",
     "output_type": "stream",
     "text": [
      "            PropPy_or_Java_and_Class2+  StdevClass\n",
      "ProgSkills                                        \n",
      "1                             0.000000    0.786796\n",
      "2                             0.363636    0.687552\n",
      "3                             0.655172    1.085053\n",
      "4                             0.583333    1.083625\n",
      "5                             0.500000    0.707107\n"
     ]
    }
   ],
   "source": [
    "print(result)"
   ]
  },
  {
   "cell_type": "markdown",
   "metadata": {},
   "source": [
    "### Question 2"
   ]
  },
  {
   "cell_type": "markdown",
   "metadata": {},
   "source": [
    "For each program, how many people have a Programming Skill knowledge of less than 4? Report one row for each existing program. \n",
    "\n",
    "(In Camino, fill in the number of students for MBA and MSIS in a format of MBA_total/MSIS_total. For example : 10/23 )"
   ]
  },
  {
   "cell_type": "code",
   "execution_count": 53,
   "metadata": {},
   "outputs": [],
   "source": [
    "# Filter rows where students have Programming Skill knowledge of less than 4\n",
    "filtered_df = df[df['ProgSkills'] < 4]"
   ]
  },
  {
   "cell_type": "code",
   "execution_count": 54,
   "metadata": {},
   "outputs": [],
   "source": [
    "# Group by program and count the number of people\n",
    "result = filtered_df.groupby('Program').size()"
   ]
  },
  {
   "cell_type": "code",
   "execution_count": 55,
   "metadata": {},
   "outputs": [
    {
     "name": "stdout",
     "output_type": "stream",
     "text": [
      "Program\n",
      "Business Man                      1\n",
      "Faculty!                          1\n",
      "MBA                              13\n",
      "MSIS                             30\n",
      "Supply Chain Mgmt & Analytics     2\n",
      "dtype: int64\n"
     ]
    }
   ],
   "source": [
    "print(result)"
   ]
  },
  {
   "cell_type": "markdown",
   "metadata": {},
   "source": [
    "### Question 3"
   ]
  },
  {
   "cell_type": "markdown",
   "metadata": {},
   "source": [
    "For each Job, return the rows of those people who, within their group, know the most Languages. (In Camino, pick the correct total number of people who satisfy this condition)"
   ]
  },
  {
   "cell_type": "code",
   "execution_count": 56,
   "metadata": {},
   "outputs": [],
   "source": [
    "# Compute the total number of languages each person knows\n",
    "df['TotalLanguages'] = df[['C', 'CPP', 'CS', 'Java', 'Python', 'JS', 'R', 'SQL', 'SAS']].sum(axis=1)"
   ]
  },
  {
   "cell_type": "code",
   "execution_count": 57,
   "metadata": {},
   "outputs": [],
   "source": [
    "# Define a function to filter rows within each group\n",
    "def filter_max_languages(group):\n",
    "    return group[group['TotalLanguages'] == group['TotalLanguages'].max()]"
   ]
  },
  {
   "cell_type": "code",
   "execution_count": 58,
   "metadata": {},
   "outputs": [],
   "source": [
    "result = df.groupby('Job').apply(filter_max_languages)"
   ]
  },
  {
   "cell_type": "code",
   "execution_count": 59,
   "metadata": {},
   "outputs": [
    {
     "name": "stdout",
     "output_type": "stream",
     "text": [
      "   Job Program  ProgSkills  C  CPP   CS  Java  Python   JS    R  SQL  SAS  \\\n",
      "0  0.0    MSIS           4  1    1  1.0     1     1.0  1.0  0.0  1.0  0.0   \n",
      "1  0.5    MSIS           3  1    1  0.0     1     1.0  1.0  0.0  1.0  0.0   \n",
      "2  0.5     MBA           3  0    0  0.0     1     1.0  1.0  1.0  1.0  1.0   \n",
      "3  1.0    MSIS           3  1    1  0.0     1     1.0  1.0  1.0  1.0  0.0   \n",
      "4  1.0     MBA           3  1    1  1.0     1     1.0  1.0  0.0  1.0  0.0   \n",
      "\n",
      "   Excel  Tableau  Regression  Classification  Clustering  Bach_0to1  \\\n",
      "0      1        1         1.0               2           2          0   \n",
      "1      1        1         0.0               2           2          0   \n",
      "2      1        1         1.0               3           3          0   \n",
      "3      0        1         1.0               2           2          0   \n",
      "4      1        0         1.0               1           1          0   \n",
      "\n",
      "   Bach_1to3  Bach_3to5  Bach_5Plus  Languages  Py_or_Java_and_Class2+  \\\n",
      "0          1          0           0          7                    True   \n",
      "1          0          1           0          6                    True   \n",
      "2          1          0           0          6                    True   \n",
      "3          1          0           0          7                    True   \n",
      "4          0          0           1          7                   False   \n",
      "\n",
      "   TotalLanguages  \n",
      "0             7.0  \n",
      "1             6.0  \n",
      "2             6.0  \n",
      "3             7.0  \n",
      "4             7.0  \n"
     ]
    }
   ],
   "source": [
    "# Total number of people who satisfy the condition\n",
    "result.reset_index(drop=True, inplace=True)\n",
    "print(result)"
   ]
  },
  {
   "cell_type": "code",
   "execution_count": 60,
   "metadata": {},
   "outputs": [
    {
     "name": "stdout",
     "output_type": "stream",
     "text": [
      "5\n"
     ]
    }
   ],
   "source": [
    "total_people = len(result)\n",
    "print(total_people)"
   ]
  },
  {
   "cell_type": "markdown",
   "metadata": {},
   "source": [
    "### Question 4"
   ]
  },
  {
   "cell_type": "markdown",
   "metadata": {},
   "source": [
    "Let us define the \"data science experience\" of a given person as the person's largest score among Regression, Classification, and Clustering. Compute the average data science experience among all MSIS students. \n",
    "(In Camino, pick the correct number)"
   ]
  },
  {
   "cell_type": "code",
   "execution_count": 61,
   "metadata": {},
   "outputs": [],
   "source": [
    "# Compute the \"data science experience\" for each person\n",
    "df['DS_Experience'] = df[['Regression', 'Classification', 'Clustering']].max(axis=1)"
   ]
  },
  {
   "cell_type": "code",
   "execution_count": 62,
   "metadata": {},
   "outputs": [],
   "source": [
    "# Filter MSIS students and compute the average of their data science experience\n",
    "average_experience_MSIS = df[df['Program'] == 'MSIS']['DS_Experience'].mean()"
   ]
  },
  {
   "cell_type": "code",
   "execution_count": 63,
   "metadata": {},
   "outputs": [
    {
     "name": "stdout",
     "output_type": "stream",
     "text": [
      "1.875\n"
     ]
    }
   ],
   "source": [
    "print(average_experience_MSIS)"
   ]
  },
  {
   "cell_type": "markdown",
   "metadata": {},
   "source": [
    "### Question 5"
   ]
  },
  {
   "cell_type": "markdown",
   "metadata": {},
   "source": [
    "Among those with at least one year elapsed from their Bachelor's degree, find out who is the \"most knowledgeable\" person. The most knowledgeable person is the one who knows Classification best (in case of ties, consider whether they know C, then CPP, then CS, then Java, then SAS). Retrieve that person's Program information. (pick the right one in Camino)"
   ]
  },
  {
   "cell_type": "code",
   "execution_count": 64,
   "metadata": {},
   "outputs": [],
   "source": [
    "# Filter for those with at least one year elapsed from their Bachelor's degree\n",
    "filtered_df = df[(df['Bach_1to3'] == 1) | (df['Bach_3to5'] == 1) | (df['Bach_5Plus'] == 1)]"
   ]
  },
  {
   "cell_type": "code",
   "execution_count": 65,
   "metadata": {},
   "outputs": [],
   "source": [
    "sorted_df = filtered_df.sort_values(by=['Classification', 'C', 'CPP', 'CS', 'Java', 'SAS'], ascending=[False, False, False, False, False, False])"
   ]
  },
  {
   "cell_type": "code",
   "execution_count": 66,
   "metadata": {},
   "outputs": [],
   "source": [
    "# Retrieve the Program information of the topmost person\n",
    "most_knowledgeable_program = sorted_df.iloc[0]['Program']"
   ]
  },
  {
   "cell_type": "code",
   "execution_count": 67,
   "metadata": {},
   "outputs": [
    {
     "name": "stdout",
     "output_type": "stream",
     "text": [
      "Faculty!\n"
     ]
    }
   ],
   "source": [
    "print(most_knowledgeable_program)"
   ]
  }
 ],
 "metadata": {
  "kernelspec": {
   "display_name": "Python 3 (ipykernel)",
   "language": "python",
   "name": "python3"
  },
  "language_info": {
   "codemirror_mode": {
    "name": "ipython",
    "version": 3
   },
   "file_extension": ".py",
   "mimetype": "text/x-python",
   "name": "python",
   "nbconvert_exporter": "python",
   "pygments_lexer": "ipython3",
   "version": "3.11.4"
  }
 },
 "nbformat": 4,
 "nbformat_minor": 1
}
