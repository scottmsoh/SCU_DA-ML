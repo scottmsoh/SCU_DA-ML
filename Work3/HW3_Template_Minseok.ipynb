{
 "cells": [
  {
   "cell_type": "markdown",
   "metadata": {},
   "source": [
    "# HW3"
   ]
  },
  {
   "cell_type": "markdown",
   "metadata": {},
   "source": [
    "<b>Instructions:</b> Write your answers in the empty code cells below."
   ]
  },
  {
   "cell_type": "markdown",
   "metadata": {},
   "source": [
    "<b>Penalties:</b> You will incur penalties if:\n",
    "<ul>\n",
    "<li>Your code is wrong</li>\n",
    "<li>Your code does not work on different data</li>\n",
    "<li>You use for loops (unless explicitly permitted)</li>\n",
    "</ul>"
   ]
  },
  {
   "cell_type": "markdown",
   "metadata": {},
   "source": [
    "## Problem"
   ]
  },
  {
   "cell_type": "markdown",
   "metadata": {},
   "source": [
    "Start by executing the following code, which creates a Series object <b>stock</b> of share prices of Nvidia. "
   ]
  },
  {
   "cell_type": "code",
   "execution_count": 5,
   "metadata": {},
   "outputs": [],
   "source": [
    "import pandas as pd\n",
    "import numpy as np\n",
    "data = pd.read_csv('NVDA.csv',index_col=0, parse_dates=True)\n",
    "#data = pd.read_csv('NVDA.csv',index_col=0)\n",
    "#data.index=data1.index.astype('datetime64[ns]')\n",
    "\n",
    "stock = data['Close']"
   ]
  },
  {
   "cell_type": "code",
   "execution_count": 6,
   "metadata": {},
   "outputs": [],
   "source": [
    "# print all the outputs in a cell\n",
    "from IPython.core.interactiveshell import InteractiveShell\n",
    "InteractiveShell.ast_node_interactivity = \"all\""
   ]
  },
  {
   "cell_type": "code",
   "execution_count": 7,
   "metadata": {},
   "outputs": [],
   "source": [
    "#Set to 2 decimal places, and display all columns (and up to 300 rows)\n",
    "pd.set_option('display.float_format', lambda x: '%.2f' % x)\n",
    "pd.set_option('display.max_columns', None)\n",
    "#pd.set_option('display.max_rows', 300)"
   ]
  },
  {
   "cell_type": "code",
   "execution_count": 8,
   "metadata": {},
   "outputs": [
    {
     "name": "stdout",
     "output_type": "stream",
     "text": [
      "%pylab is deprecated, use %matplotlib inline and import the required libraries.\n",
      "Populating the interactive namespace from numpy and matplotlib\n"
     ]
    },
    {
     "data": {
      "text/plain": [
       "<Axes: xlabel='Date'>"
      ]
     },
     "execution_count": 8,
     "metadata": {},
     "output_type": "execute_result"
    },
    {
     "data": {
      "image/png": "[encoded data removed]",
      "text/plain": [
       "<Figure size 640x480 with 1 Axes>"
      ]
     },
     "metadata": {},
     "output_type": "display_data"
    }
   ],
   "source": [
    "%pylab inline\n",
    "stock.plot()"
   ]
  },
  {
   "cell_type": "code",
   "execution_count": 9,
   "metadata": {},
   "outputs": [
    {
     "data": {
      "text/plain": [
       "Date\n",
       "1999-01-22   0.41\n",
       "1999-01-25   0.45\n",
       "1999-01-26   0.42\n",
       "1999-01-27   0.42\n",
       "1999-01-28   0.42\n",
       "Name: Close, dtype: float64"
      ]
     },
     "execution_count": 9,
     "metadata": {},
     "output_type": "execute_result"
    },
    {
     "data": {
      "text/plain": [
       "Date\n",
       "2023-10-05   446.88\n",
       "2023-10-06   457.62\n",
       "2023-10-09   452.73\n",
       "2023-10-10   457.98\n",
       "2023-10-11   462.48\n",
       "Name: Close, dtype: float64"
      ]
     },
     "execution_count": 9,
     "metadata": {},
     "output_type": "execute_result"
    }
   ],
   "source": [
    "stock.head()\n",
    "stock.tail()"
   ]
  },
  {
   "cell_type": "markdown",
   "metadata": {},
   "source": [
    "Use the Series <i>stock</i> to answer the following questions."
   ]
  },
  {
   "cell_type": "markdown",
   "metadata": {},
   "source": [
    "## Question 1"
   ]
  },
  {
   "cell_type": "markdown",
   "metadata": {},
   "source": [
    "### Q1.1, When is the first date this sotck close at more than 130 dollars? (pick the closest date in Camino)"
   ]
  },
  {
   "cell_type": "code",
   "execution_count": 22,
   "metadata": {},
   "outputs": [
    {
     "data": {
      "text/html": [
       "<div>\n",
       "<style scoped>\n",
       "    .dataframe tbody tr th:only-of-type {\n",
       "        vertical-align: middle;\n",
       "    }\n",
       "\n",
       "    .dataframe tbody tr th {\n",
       "        vertical-align: top;\n",
       "    }\n",
       "\n",
       "    .dataframe thead th {\n",
       "        text-align: right;\n",
       "    }\n",
       "</style>\n",
       "<table border=\"1\" class=\"dataframe\">\n",
       "  <thead>\n",
       "    <tr style=\"text-align: right;\">\n",
       "      <th></th>\n",
       "      <th>Open</th>\n",
       "      <th>High</th>\n",
       "      <th>Low</th>\n",
       "      <th>Close</th>\n",
       "      <th>Adj Close</th>\n",
       "      <th>Volume</th>\n",
       "    </tr>\n",
       "    <tr>\n",
       "      <th>Date</th>\n",
       "      <th></th>\n",
       "      <th></th>\n",
       "      <th></th>\n",
       "      <th></th>\n",
       "      <th></th>\n",
       "      <th></th>\n",
       "    </tr>\n",
       "  </thead>\n",
       "  <tbody>\n",
       "    <tr>\n",
       "      <th>1999-01-22</th>\n",
       "      <td>0.44</td>\n",
       "      <td>0.49</td>\n",
       "      <td>0.39</td>\n",
       "      <td>0.41</td>\n",
       "      <td>0.38</td>\n",
       "      <td>271468800</td>\n",
       "    </tr>\n",
       "    <tr>\n",
       "      <th>1999-01-25</th>\n",
       "      <td>0.44</td>\n",
       "      <td>0.46</td>\n",
       "      <td>0.41</td>\n",
       "      <td>0.45</td>\n",
       "      <td>0.42</td>\n",
       "      <td>51048000</td>\n",
       "    </tr>\n",
       "    <tr>\n",
       "      <th>1999-01-26</th>\n",
       "      <td>0.46</td>\n",
       "      <td>0.47</td>\n",
       "      <td>0.41</td>\n",
       "      <td>0.42</td>\n",
       "      <td>0.38</td>\n",
       "      <td>34320000</td>\n",
       "    </tr>\n",
       "    <tr>\n",
       "      <th>1999-01-27</th>\n",
       "      <td>0.42</td>\n",
       "      <td>0.43</td>\n",
       "      <td>0.40</td>\n",
       "      <td>0.42</td>\n",
       "      <td>0.38</td>\n",
       "      <td>24436800</td>\n",
       "    </tr>\n",
       "    <tr>\n",
       "      <th>1999-01-28</th>\n",
       "      <td>0.42</td>\n",
       "      <td>0.42</td>\n",
       "      <td>0.41</td>\n",
       "      <td>0.42</td>\n",
       "      <td>0.38</td>\n",
       "      <td>22752000</td>\n",
       "    </tr>\n",
       "  </tbody>\n",
       "</table>\n",
       "</div>"
      ],
      "text/plain": [
       "            Open  High  Low  Close  Adj Close     Volume\n",
       "Date                                                    \n",
       "1999-01-22  0.44  0.49 0.39   0.41       0.38  271468800\n",
       "1999-01-25  0.44  0.46 0.41   0.45       0.42   51048000\n",
       "1999-01-26  0.46  0.47 0.41   0.42       0.38   34320000\n",
       "1999-01-27  0.42  0.43 0.40   0.42       0.38   24436800\n",
       "1999-01-28  0.42  0.42 0.41   0.42       0.38   22752000"
      ]
     },
     "execution_count": 22,
     "metadata": {},
     "output_type": "execute_result"
    }
   ],
   "source": [
    "data.head()"
   ]
  },
  {
   "cell_type": "code",
   "execution_count": 35,
   "metadata": {},
   "outputs": [],
   "source": [
    "data = data.reset_index()"
   ]
  },
  {
   "cell_type": "code",
   "execution_count": 36,
   "metadata": {},
   "outputs": [
    {
     "data": {
      "text/plain": [
       "Index(['Date', 'Open', 'High', 'Low', 'Close', 'Adj Close', 'Volume'], dtype='object')"
      ]
     },
     "execution_count": 36,
     "metadata": {},
     "output_type": "execute_result"
    }
   ],
   "source": [
    "data.columns"
   ]
  },
  {
   "cell_type": "code",
   "execution_count": 37,
   "metadata": {},
   "outputs": [
    {
     "data": {
      "text/html": [
       "<div>\n",
       "<style scoped>\n",
       "    .dataframe tbody tr th:only-of-type {\n",
       "        vertical-align: middle;\n",
       "    }\n",
       "\n",
       "    .dataframe tbody tr th {\n",
       "        vertical-align: top;\n",
       "    }\n",
       "\n",
       "    .dataframe thead th {\n",
       "        text-align: right;\n",
       "    }\n",
       "</style>\n",
       "<table border=\"1\" class=\"dataframe\">\n",
       "  <thead>\n",
       "    <tr style=\"text-align: right;\">\n",
       "      <th></th>\n",
       "      <th>Date</th>\n",
       "      <th>Open</th>\n",
       "      <th>High</th>\n",
       "      <th>Low</th>\n",
       "      <th>Close</th>\n",
       "      <th>Adj Close</th>\n",
       "      <th>Volume</th>\n",
       "    </tr>\n",
       "  </thead>\n",
       "  <tbody>\n",
       "    <tr>\n",
       "      <th>5436</th>\n",
       "      <td>2020-08-28</td>\n",
       "      <td>126.75</td>\n",
       "      <td>131.48</td>\n",
       "      <td>126.43</td>\n",
       "      <td>131.48</td>\n",
       "      <td>131.12</td>\n",
       "      <td>53716000</td>\n",
       "    </tr>\n",
       "    <tr>\n",
       "      <th>5437</th>\n",
       "      <td>2020-08-31</td>\n",
       "      <td>131.83</td>\n",
       "      <td>135.75</td>\n",
       "      <td>130.38</td>\n",
       "      <td>133.74</td>\n",
       "      <td>133.38</td>\n",
       "      <td>50084000</td>\n",
       "    </tr>\n",
       "    <tr>\n",
       "      <th>5438</th>\n",
       "      <td>2020-09-01</td>\n",
       "      <td>134.80</td>\n",
       "      <td>139.94</td>\n",
       "      <td>134.37</td>\n",
       "      <td>138.21</td>\n",
       "      <td>137.87</td>\n",
       "      <td>51131600</td>\n",
       "    </tr>\n",
       "    <tr>\n",
       "      <th>5439</th>\n",
       "      <td>2020-09-02</td>\n",
       "      <td>147.04</td>\n",
       "      <td>147.27</td>\n",
       "      <td>139.00</td>\n",
       "      <td>143.46</td>\n",
       "      <td>143.11</td>\n",
       "      <td>87401200</td>\n",
       "    </tr>\n",
       "    <tr>\n",
       "      <th>5440</th>\n",
       "      <td>2020-09-03</td>\n",
       "      <td>138.29</td>\n",
       "      <td>138.85</td>\n",
       "      <td>128.79</td>\n",
       "      <td>130.15</td>\n",
       "      <td>129.84</td>\n",
       "      <td>94512800</td>\n",
       "    </tr>\n",
       "    <tr>\n",
       "      <th>...</th>\n",
       "      <td>...</td>\n",
       "      <td>...</td>\n",
       "      <td>...</td>\n",
       "      <td>...</td>\n",
       "      <td>...</td>\n",
       "      <td>...</td>\n",
       "      <td>...</td>\n",
       "    </tr>\n",
       "    <tr>\n",
       "      <th>6216</th>\n",
       "      <td>2023-10-05</td>\n",
       "      <td>440.50</td>\n",
       "      <td>449.00</td>\n",
       "      <td>438.88</td>\n",
       "      <td>446.88</td>\n",
       "      <td>446.88</td>\n",
       "      <td>39348300</td>\n",
       "    </tr>\n",
       "    <tr>\n",
       "      <th>6217</th>\n",
       "      <td>2023-10-06</td>\n",
       "      <td>441.93</td>\n",
       "      <td>457.89</td>\n",
       "      <td>440.26</td>\n",
       "      <td>457.62</td>\n",
       "      <td>457.62</td>\n",
       "      <td>43339700</td>\n",
       "    </tr>\n",
       "    <tr>\n",
       "      <th>6218</th>\n",
       "      <td>2023-10-09</td>\n",
       "      <td>448.42</td>\n",
       "      <td>456.05</td>\n",
       "      <td>443.68</td>\n",
       "      <td>452.73</td>\n",
       "      <td>452.73</td>\n",
       "      <td>40967500</td>\n",
       "    </tr>\n",
       "    <tr>\n",
       "      <th>6219</th>\n",
       "      <td>2023-10-10</td>\n",
       "      <td>453.10</td>\n",
       "      <td>462.59</td>\n",
       "      <td>450.88</td>\n",
       "      <td>457.98</td>\n",
       "      <td>457.98</td>\n",
       "      <td>36782600</td>\n",
       "    </tr>\n",
       "    <tr>\n",
       "      <th>6220</th>\n",
       "      <td>2023-10-11</td>\n",
       "      <td>461.96</td>\n",
       "      <td>467.20</td>\n",
       "      <td>461.10</td>\n",
       "      <td>462.48</td>\n",
       "      <td>462.48</td>\n",
       "      <td>22348311</td>\n",
       "    </tr>\n",
       "  </tbody>\n",
       "</table>\n",
       "<p>719 rows × 7 columns</p>\n",
       "</div>"
      ],
      "text/plain": [
       "           Date   Open   High    Low  Close  Adj Close    Volume\n",
       "5436 2020-08-28 126.75 131.48 126.43 131.48     131.12  53716000\n",
       "5437 2020-08-31 131.83 135.75 130.38 133.74     133.38  50084000\n",
       "5438 2020-09-01 134.80 139.94 134.37 138.21     137.87  51131600\n",
       "5439 2020-09-02 147.04 147.27 139.00 143.46     143.11  87401200\n",
       "5440 2020-09-03 138.29 138.85 128.79 130.15     129.84  94512800\n",
       "...         ...    ...    ...    ...    ...        ...       ...\n",
       "6216 2023-10-05 440.50 449.00 438.88 446.88     446.88  39348300\n",
       "6217 2023-10-06 441.93 457.89 440.26 457.62     457.62  43339700\n",
       "6218 2023-10-09 448.42 456.05 443.68 452.73     452.73  40967500\n",
       "6219 2023-10-10 453.10 462.59 450.88 457.98     457.98  36782600\n",
       "6220 2023-10-11 461.96 467.20 461.10 462.48     462.48  22348311\n",
       "\n",
       "[719 rows x 7 columns]"
      ]
     },
     "execution_count": 37,
     "metadata": {},
     "output_type": "execute_result"
    }
   ],
   "source": [
    "filtered_data = data[data['Close'] > 130]\n",
    "filtered_data"
   ]
  },
  {
   "cell_type": "code",
   "execution_count": 38,
   "metadata": {},
   "outputs": [],
   "source": [
    "first_date = filtered_data['Date'].iloc[0]"
   ]
  },
  {
   "cell_type": "code",
   "execution_count": 39,
   "metadata": {},
   "outputs": [
    {
     "data": {
      "text/plain": [
       "Timestamp('2020-08-28 00:00:00')"
      ]
     },
     "execution_count": 39,
     "metadata": {},
     "output_type": "execute_result"
    }
   ],
   "source": [
    "first_date"
   ]
  },
  {
   "cell_type": "markdown",
   "metadata": {},
   "source": [
    "### Q1.2, After stock price hit 130 dollar, how many trading days it took to reach the historical high? (pick the closest number of days in Camino)"
   ]
  },
  {
   "cell_type": "code",
   "execution_count": 40,
   "metadata": {},
   "outputs": [
    {
     "data": {
      "text/plain": [
       "5436"
      ]
     },
     "execution_count": 40,
     "metadata": {},
     "output_type": "execute_result"
    }
   ],
   "source": [
    "first_130_date = data[data['Close'] > 130].index[0]\n",
    "first_130_date"
   ]
  },
  {
   "cell_type": "code",
   "execution_count": 41,
   "metadata": {},
   "outputs": [
    {
     "data": {
      "text/html": [
       "<div>\n",
       "<style scoped>\n",
       "    .dataframe tbody tr th:only-of-type {\n",
       "        vertical-align: middle;\n",
       "    }\n",
       "\n",
       "    .dataframe tbody tr th {\n",
       "        vertical-align: top;\n",
       "    }\n",
       "\n",
       "    .dataframe thead th {\n",
       "        text-align: right;\n",
       "    }\n",
       "</style>\n",
       "<table border=\"1\" class=\"dataframe\">\n",
       "  <thead>\n",
       "    <tr style=\"text-align: right;\">\n",
       "      <th></th>\n",
       "      <th>Date</th>\n",
       "      <th>Open</th>\n",
       "      <th>High</th>\n",
       "      <th>Low</th>\n",
       "      <th>Close</th>\n",
       "      <th>Adj Close</th>\n",
       "      <th>Volume</th>\n",
       "    </tr>\n",
       "  </thead>\n",
       "  <tbody>\n",
       "    <tr>\n",
       "      <th>5436</th>\n",
       "      <td>2020-08-28</td>\n",
       "      <td>126.75</td>\n",
       "      <td>131.48</td>\n",
       "      <td>126.43</td>\n",
       "      <td>131.48</td>\n",
       "      <td>131.12</td>\n",
       "      <td>53716000</td>\n",
       "    </tr>\n",
       "    <tr>\n",
       "      <th>5437</th>\n",
       "      <td>2020-08-31</td>\n",
       "      <td>131.83</td>\n",
       "      <td>135.75</td>\n",
       "      <td>130.38</td>\n",
       "      <td>133.74</td>\n",
       "      <td>133.38</td>\n",
       "      <td>50084000</td>\n",
       "    </tr>\n",
       "    <tr>\n",
       "      <th>5438</th>\n",
       "      <td>2020-09-01</td>\n",
       "      <td>134.80</td>\n",
       "      <td>139.94</td>\n",
       "      <td>134.37</td>\n",
       "      <td>138.21</td>\n",
       "      <td>137.87</td>\n",
       "      <td>51131600</td>\n",
       "    </tr>\n",
       "    <tr>\n",
       "      <th>5439</th>\n",
       "      <td>2020-09-02</td>\n",
       "      <td>147.04</td>\n",
       "      <td>147.27</td>\n",
       "      <td>139.00</td>\n",
       "      <td>143.46</td>\n",
       "      <td>143.11</td>\n",
       "      <td>87401200</td>\n",
       "    </tr>\n",
       "    <tr>\n",
       "      <th>5440</th>\n",
       "      <td>2020-09-03</td>\n",
       "      <td>138.29</td>\n",
       "      <td>138.85</td>\n",
       "      <td>128.79</td>\n",
       "      <td>130.15</td>\n",
       "      <td>129.84</td>\n",
       "      <td>94512800</td>\n",
       "    </tr>\n",
       "    <tr>\n",
       "      <th>...</th>\n",
       "      <td>...</td>\n",
       "      <td>...</td>\n",
       "      <td>...</td>\n",
       "      <td>...</td>\n",
       "      <td>...</td>\n",
       "      <td>...</td>\n",
       "      <td>...</td>\n",
       "    </tr>\n",
       "    <tr>\n",
       "      <th>6216</th>\n",
       "      <td>2023-10-05</td>\n",
       "      <td>440.50</td>\n",
       "      <td>449.00</td>\n",
       "      <td>438.88</td>\n",
       "      <td>446.88</td>\n",
       "      <td>446.88</td>\n",
       "      <td>39348300</td>\n",
       "    </tr>\n",
       "    <tr>\n",
       "      <th>6217</th>\n",
       "      <td>2023-10-06</td>\n",
       "      <td>441.93</td>\n",
       "      <td>457.89</td>\n",
       "      <td>440.26</td>\n",
       "      <td>457.62</td>\n",
       "      <td>457.62</td>\n",
       "      <td>43339700</td>\n",
       "    </tr>\n",
       "    <tr>\n",
       "      <th>6218</th>\n",
       "      <td>2023-10-09</td>\n",
       "      <td>448.42</td>\n",
       "      <td>456.05</td>\n",
       "      <td>443.68</td>\n",
       "      <td>452.73</td>\n",
       "      <td>452.73</td>\n",
       "      <td>40967500</td>\n",
       "    </tr>\n",
       "    <tr>\n",
       "      <th>6219</th>\n",
       "      <td>2023-10-10</td>\n",
       "      <td>453.10</td>\n",
       "      <td>462.59</td>\n",
       "      <td>450.88</td>\n",
       "      <td>457.98</td>\n",
       "      <td>457.98</td>\n",
       "      <td>36782600</td>\n",
       "    </tr>\n",
       "    <tr>\n",
       "      <th>6220</th>\n",
       "      <td>2023-10-11</td>\n",
       "      <td>461.96</td>\n",
       "      <td>467.20</td>\n",
       "      <td>461.10</td>\n",
       "      <td>462.48</td>\n",
       "      <td>462.48</td>\n",
       "      <td>22348311</td>\n",
       "    </tr>\n",
       "  </tbody>\n",
       "</table>\n",
       "<p>785 rows × 7 columns</p>\n",
       "</div>"
      ],
      "text/plain": [
       "           Date   Open   High    Low  Close  Adj Close    Volume\n",
       "5436 2020-08-28 126.75 131.48 126.43 131.48     131.12  53716000\n",
       "5437 2020-08-31 131.83 135.75 130.38 133.74     133.38  50084000\n",
       "5438 2020-09-01 134.80 139.94 134.37 138.21     137.87  51131600\n",
       "5439 2020-09-02 147.04 147.27 139.00 143.46     143.11  87401200\n",
       "5440 2020-09-03 138.29 138.85 128.79 130.15     129.84  94512800\n",
       "...         ...    ...    ...    ...    ...        ...       ...\n",
       "6216 2023-10-05 440.50 449.00 438.88 446.88     446.88  39348300\n",
       "6217 2023-10-06 441.93 457.89 440.26 457.62     457.62  43339700\n",
       "6218 2023-10-09 448.42 456.05 443.68 452.73     452.73  40967500\n",
       "6219 2023-10-10 453.10 462.59 450.88 457.98     457.98  36782600\n",
       "6220 2023-10-11 461.96 467.20 461.10 462.48     462.48  22348311\n",
       "\n",
       "[785 rows x 7 columns]"
      ]
     },
     "execution_count": 41,
     "metadata": {},
     "output_type": "execute_result"
    }
   ],
   "source": [
    "sliced_data = data[data.index >= first_130_date]\n",
    "sliced_data"
   ]
  },
  {
   "cell_type": "code",
   "execution_count": 42,
   "metadata": {},
   "outputs": [
    {
     "data": {
      "text/plain": [
       "6192"
      ]
     },
     "execution_count": 42,
     "metadata": {},
     "output_type": "execute_result"
    }
   ],
   "source": [
    "max_close_date = sliced_data['Close'].idxmax()\n",
    "max_close_date"
   ]
  },
  {
   "cell_type": "code",
   "execution_count": 43,
   "metadata": {},
   "outputs": [
    {
     "data": {
      "text/plain": [
       "756"
      ]
     },
     "execution_count": 43,
     "metadata": {},
     "output_type": "execute_result"
    }
   ],
   "source": [
    "days_to_max = max_close_date - first_130_date\n",
    "days_to_max"
   ]
  },
  {
   "cell_type": "markdown",
   "metadata": {},
   "source": [
    "### Question 2"
   ]
  },
  {
   "cell_type": "markdown",
   "metadata": {},
   "source": [
    "### Find the top 5 largest one-day % gain (in % compared to the closing cost of the previous trading day). Make sure that your output is a Series object that shows both date and the % gain. (pick the date closest to the day with the largest gain ratio in Camino)"
   ]
  },
  {
   "cell_type": "code",
   "execution_count": 67,
   "metadata": {},
   "outputs": [
    {
     "data": {
      "text/html": [
       "<div>\n",
       "<style scoped>\n",
       "    .dataframe tbody tr th:only-of-type {\n",
       "        vertical-align: middle;\n",
       "    }\n",
       "\n",
       "    .dataframe tbody tr th {\n",
       "        vertical-align: top;\n",
       "    }\n",
       "\n",
       "    .dataframe thead th {\n",
       "        text-align: right;\n",
       "    }\n",
       "</style>\n",
       "<table border=\"1\" class=\"dataframe\">\n",
       "  <thead>\n",
       "    <tr style=\"text-align: right;\">\n",
       "      <th></th>\n",
       "      <th>Date</th>\n",
       "      <th>Open</th>\n",
       "      <th>High</th>\n",
       "      <th>Low</th>\n",
       "      <th>Close</th>\n",
       "      <th>Adj Close</th>\n",
       "      <th>Volume</th>\n",
       "      <th>Percent_Gain</th>\n",
       "    </tr>\n",
       "  </thead>\n",
       "  <tbody>\n",
       "    <tr>\n",
       "      <th>0</th>\n",
       "      <td>1999-01-22</td>\n",
       "      <td>0.44</td>\n",
       "      <td>0.49</td>\n",
       "      <td>0.39</td>\n",
       "      <td>0.41</td>\n",
       "      <td>0.38</td>\n",
       "      <td>271468800</td>\n",
       "      <td>NaN</td>\n",
       "    </tr>\n",
       "    <tr>\n",
       "      <th>1</th>\n",
       "      <td>1999-01-25</td>\n",
       "      <td>0.44</td>\n",
       "      <td>0.46</td>\n",
       "      <td>0.41</td>\n",
       "      <td>0.45</td>\n",
       "      <td>0.42</td>\n",
       "      <td>51048000</td>\n",
       "      <td>10.48</td>\n",
       "    </tr>\n",
       "    <tr>\n",
       "      <th>2</th>\n",
       "      <td>1999-01-26</td>\n",
       "      <td>0.46</td>\n",
       "      <td>0.47</td>\n",
       "      <td>0.41</td>\n",
       "      <td>0.42</td>\n",
       "      <td>0.38</td>\n",
       "      <td>34320000</td>\n",
       "      <td>-7.76</td>\n",
       "    </tr>\n",
       "    <tr>\n",
       "      <th>3</th>\n",
       "      <td>1999-01-27</td>\n",
       "      <td>0.42</td>\n",
       "      <td>0.43</td>\n",
       "      <td>0.40</td>\n",
       "      <td>0.42</td>\n",
       "      <td>0.38</td>\n",
       "      <td>24436800</td>\n",
       "      <td>-0.31</td>\n",
       "    </tr>\n",
       "    <tr>\n",
       "      <th>4</th>\n",
       "      <td>1999-01-28</td>\n",
       "      <td>0.42</td>\n",
       "      <td>0.42</td>\n",
       "      <td>0.41</td>\n",
       "      <td>0.42</td>\n",
       "      <td>0.38</td>\n",
       "      <td>22752000</td>\n",
       "      <td>-0.31</td>\n",
       "    </tr>\n",
       "  </tbody>\n",
       "</table>\n",
       "</div>"
      ],
      "text/plain": [
       "        Date  Open  High  Low  Close  Adj Close     Volume  Percent_Gain\n",
       "0 1999-01-22  0.44  0.49 0.39   0.41       0.38  271468800           NaN\n",
       "1 1999-01-25  0.44  0.46 0.41   0.45       0.42   51048000         10.48\n",
       "2 1999-01-26  0.46  0.47 0.41   0.42       0.38   34320000         -7.76\n",
       "3 1999-01-27  0.42  0.43 0.40   0.42       0.38   24436800         -0.31\n",
       "4 1999-01-28  0.42  0.42 0.41   0.42       0.38   22752000         -0.31"
      ]
     },
     "execution_count": 67,
     "metadata": {},
     "output_type": "execute_result"
    }
   ],
   "source": [
    "data['Percent_Gain'] = (data['Close'] - data['Close'].shift(1)) / data['Close'].shift(1) * 100\n",
    "data.head()"
   ]
  },
  {
   "cell_type": "code",
   "execution_count": 70,
   "metadata": {},
   "outputs": [
    {
     "data": {
      "text/html": [
       "<div>\n",
       "<style scoped>\n",
       "    .dataframe tbody tr th:only-of-type {\n",
       "        vertical-align: middle;\n",
       "    }\n",
       "\n",
       "    .dataframe tbody tr th {\n",
       "        vertical-align: top;\n",
       "    }\n",
       "\n",
       "    .dataframe thead th {\n",
       "        text-align: right;\n",
       "    }\n",
       "</style>\n",
       "<table border=\"1\" class=\"dataframe\">\n",
       "  <thead>\n",
       "    <tr style=\"text-align: right;\">\n",
       "      <th></th>\n",
       "      <th>Date</th>\n",
       "      <th>Open</th>\n",
       "      <th>High</th>\n",
       "      <th>Low</th>\n",
       "      <th>Close</th>\n",
       "      <th>Adj Close</th>\n",
       "      <th>Volume</th>\n",
       "      <th>Percent_Gain</th>\n",
       "    </tr>\n",
       "  </thead>\n",
       "  <tbody>\n",
       "    <tr>\n",
       "      <th>283</th>\n",
       "      <td>2000-03-07</td>\n",
       "      <td>1.56</td>\n",
       "      <td>1.82</td>\n",
       "      <td>1.49</td>\n",
       "      <td>1.74</td>\n",
       "      <td>1.59</td>\n",
       "      <td>195220800</td>\n",
       "      <td>42.41</td>\n",
       "    </tr>\n",
       "    <tr>\n",
       "      <th>1079</th>\n",
       "      <td>2003-05-09</td>\n",
       "      <td>1.57</td>\n",
       "      <td>1.79</td>\n",
       "      <td>1.52</td>\n",
       "      <td>1.78</td>\n",
       "      <td>1.63</td>\n",
       "      <td>923085600</td>\n",
       "      <td>33.06</td>\n",
       "    </tr>\n",
       "    <tr>\n",
       "      <th>492</th>\n",
       "      <td>2001-01-03</td>\n",
       "      <td>1.21</td>\n",
       "      <td>1.64</td>\n",
       "      <td>1.18</td>\n",
       "      <td>1.63</td>\n",
       "      <td>1.50</td>\n",
       "      <td>91036800</td>\n",
       "      <td>30.69</td>\n",
       "    </tr>\n",
       "    <tr>\n",
       "      <th>4482</th>\n",
       "      <td>2016-11-11</td>\n",
       "      <td>19.88</td>\n",
       "      <td>22.19</td>\n",
       "      <td>19.62</td>\n",
       "      <td>21.99</td>\n",
       "      <td>21.65</td>\n",
       "      <td>217534400</td>\n",
       "      <td>29.81</td>\n",
       "    </tr>\n",
       "    <tr>\n",
       "      <th>287</th>\n",
       "      <td>2000-03-13</td>\n",
       "      <td>2.23</td>\n",
       "      <td>3.12</td>\n",
       "      <td>2.21</td>\n",
       "      <td>3.11</td>\n",
       "      <td>2.85</td>\n",
       "      <td>241516800</td>\n",
       "      <td>26.48</td>\n",
       "    </tr>\n",
       "  </tbody>\n",
       "</table>\n",
       "</div>"
      ],
      "text/plain": [
       "           Date  Open  High   Low  Close  Adj Close     Volume  Percent_Gain\n",
       "283  2000-03-07  1.56  1.82  1.49   1.74       1.59  195220800         42.41\n",
       "1079 2003-05-09  1.57  1.79  1.52   1.78       1.63  923085600         33.06\n",
       "492  2001-01-03  1.21  1.64  1.18   1.63       1.50   91036800         30.69\n",
       "4482 2016-11-11 19.88 22.19 19.62  21.99      21.65  217534400         29.81\n",
       "287  2000-03-13  2.23  3.12  2.21   3.11       2.85  241516800         26.48"
      ]
     },
     "execution_count": 70,
     "metadata": {},
     "output_type": "execute_result"
    }
   ],
   "source": [
    "top_5_gains = data.nlargest(5, 'Percent_Gain')\n",
    "top_5_gains"
   ]
  },
  {
   "cell_type": "code",
   "execution_count": 71,
   "metadata": {},
   "outputs": [
    {
     "name": "stdout",
     "output_type": "stream",
     "text": [
      "           Date  Percent_Gain\n",
      "283  2000-03-07         42.41\n",
      "1079 2003-05-09         33.06\n",
      "492  2001-01-03         30.69\n",
      "4482 2016-11-11         29.81\n",
      "287  2000-03-13         26.48\n"
     ]
    }
   ],
   "source": [
    "print(top_5_gains[['Date', 'Percent_Gain']])"
   ]
  },
  {
   "cell_type": "markdown",
   "metadata": {},
   "source": [
    "## Question 3"
   ]
  },
  {
   "cell_type": "markdown",
   "metadata": {},
   "source": [
    "###  With following investment strategy: buy on day 1, sell on day 3. If based on this strategy, what's the most dollars amount you can lose in one trading?  Also report the buying and selling date for that particular trade. ( pick the closest dollar amount it dropped in Camino)"
   ]
  },
  {
   "cell_type": "code",
   "execution_count": 73,
   "metadata": {},
   "outputs": [
    {
     "data": {
      "text/html": [
       "<div>\n",
       "<style scoped>\n",
       "    .dataframe tbody tr th:only-of-type {\n",
       "        vertical-align: middle;\n",
       "    }\n",
       "\n",
       "    .dataframe tbody tr th {\n",
       "        vertical-align: top;\n",
       "    }\n",
       "\n",
       "    .dataframe thead th {\n",
       "        text-align: right;\n",
       "    }\n",
       "</style>\n",
       "<table border=\"1\" class=\"dataframe\">\n",
       "  <thead>\n",
       "    <tr style=\"text-align: right;\">\n",
       "      <th></th>\n",
       "      <th>Date</th>\n",
       "      <th>Open</th>\n",
       "      <th>High</th>\n",
       "      <th>Low</th>\n",
       "      <th>Close</th>\n",
       "      <th>Adj Close</th>\n",
       "      <th>Volume</th>\n",
       "      <th>Percent_Gain</th>\n",
       "    </tr>\n",
       "  </thead>\n",
       "  <tbody>\n",
       "    <tr>\n",
       "      <th>0</th>\n",
       "      <td>1999-01-22</td>\n",
       "      <td>0.44</td>\n",
       "      <td>0.49</td>\n",
       "      <td>0.39</td>\n",
       "      <td>0.41</td>\n",
       "      <td>0.38</td>\n",
       "      <td>271468800</td>\n",
       "      <td>NaN</td>\n",
       "    </tr>\n",
       "    <tr>\n",
       "      <th>1</th>\n",
       "      <td>1999-01-25</td>\n",
       "      <td>0.44</td>\n",
       "      <td>0.46</td>\n",
       "      <td>0.41</td>\n",
       "      <td>0.45</td>\n",
       "      <td>0.42</td>\n",
       "      <td>51048000</td>\n",
       "      <td>10.48</td>\n",
       "    </tr>\n",
       "    <tr>\n",
       "      <th>2</th>\n",
       "      <td>1999-01-26</td>\n",
       "      <td>0.46</td>\n",
       "      <td>0.47</td>\n",
       "      <td>0.41</td>\n",
       "      <td>0.42</td>\n",
       "      <td>0.38</td>\n",
       "      <td>34320000</td>\n",
       "      <td>-7.76</td>\n",
       "    </tr>\n",
       "    <tr>\n",
       "      <th>3</th>\n",
       "      <td>1999-01-27</td>\n",
       "      <td>0.42</td>\n",
       "      <td>0.43</td>\n",
       "      <td>0.40</td>\n",
       "      <td>0.42</td>\n",
       "      <td>0.38</td>\n",
       "      <td>24436800</td>\n",
       "      <td>-0.31</td>\n",
       "    </tr>\n",
       "    <tr>\n",
       "      <th>4</th>\n",
       "      <td>1999-01-28</td>\n",
       "      <td>0.42</td>\n",
       "      <td>0.42</td>\n",
       "      <td>0.41</td>\n",
       "      <td>0.42</td>\n",
       "      <td>0.38</td>\n",
       "      <td>22752000</td>\n",
       "      <td>-0.31</td>\n",
       "    </tr>\n",
       "  </tbody>\n",
       "</table>\n",
       "</div>"
      ],
      "text/plain": [
       "        Date  Open  High  Low  Close  Adj Close     Volume  Percent_Gain\n",
       "0 1999-01-22  0.44  0.49 0.39   0.41       0.38  271468800           NaN\n",
       "1 1999-01-25  0.44  0.46 0.41   0.45       0.42   51048000         10.48\n",
       "2 1999-01-26  0.46  0.47 0.41   0.42       0.38   34320000         -7.76\n",
       "3 1999-01-27  0.42  0.43 0.40   0.42       0.38   24436800         -0.31\n",
       "4 1999-01-28  0.42  0.42 0.41   0.42       0.38   22752000         -0.31"
      ]
     },
     "execution_count": 73,
     "metadata": {},
     "output_type": "execute_result"
    }
   ],
   "source": [
    "data.head()"
   ]
  },
  {
   "cell_type": "code",
   "execution_count": 74,
   "metadata": {},
   "outputs": [],
   "source": [
    "data['3_day_return'] = data['Close'].shift(-2) - data['Close']"
   ]
  },
  {
   "cell_type": "code",
   "execution_count": 95,
   "metadata": {},
   "outputs": [
    {
     "data": {
      "text/plain": [
       "0       0.01\n",
       "1      -0.04\n",
       "2      -0.00\n",
       "3      -0.02\n",
       "4      -0.01\n",
       "        ... \n",
       "6216    5.85\n",
       "6217    0.36\n",
       "6218    9.74\n",
       "6219     NaN\n",
       "6220     NaN\n",
       "Name: 3_day_return, Length: 6221, dtype: float64"
      ]
     },
     "execution_count": 95,
     "metadata": {},
     "output_type": "execute_result"
    }
   ],
   "source": [
    "worst_trade_date = data['3_day_return']\n",
    "worst_trade_date"
   ]
  },
  {
   "cell_type": "code",
   "execution_count": 96,
   "metadata": {},
   "outputs": [
    {
     "data": {
      "text/plain": [
       "Date            2022-04-04 00:00:00\n",
       "3_day_return                 -29.53\n",
       "Name: 5838, dtype: object"
      ]
     },
     "execution_count": 96,
     "metadata": {},
     "output_type": "execute_result"
    }
   ],
   "source": [
    "worst_trade_date = data['3_day_return'].idxmin()\n",
    "data.loc[worst_trade_date, ['Date', '3_day_return']]"
   ]
  },
  {
   "cell_type": "code",
   "execution_count": 100,
   "metadata": {},
   "outputs": [
    {
     "data": {
      "text/plain": [
       "Date    2022-04-06 00:00:00\n",
       "Name: 5840, dtype: object"
      ]
     },
     "execution_count": 100,
     "metadata": {},
     "output_type": "execute_result"
    }
   ],
   "source": [
    "selling_date = data.index[data.index.get_loc(worst_trade_date) + 2]\n",
    "data.loc[selling_date, ['Date']]"
   ]
  },
  {
   "cell_type": "markdown",
   "metadata": {},
   "source": [
    "## Question 4"
   ]
  },
  {
   "cell_type": "markdown",
   "metadata": {},
   "source": [
    "### In which days did we observe that the price has increased of more than 60% within the 9 preceding trading sessions? Report your result as a Series (d,gain) where *d* is the trading session date when the increase was observed and *gain* is the maximum percentage gain (%) observed over the 9 days preceding session(today compare with previous 9 trading days).\n",
    "#### *Hint:* use a **rolling** minimum . Today + 9 more days -> use rolling(10). (pick the closest date that has the highest gain ratio in Camino) "
   ]
  },
  {
   "cell_type": "code",
   "execution_count": 45,
   "metadata": {},
   "outputs": [
    {
     "data": {
      "text/html": [
       "<div>\n",
       "<style scoped>\n",
       "    .dataframe tbody tr th:only-of-type {\n",
       "        vertical-align: middle;\n",
       "    }\n",
       "\n",
       "    .dataframe tbody tr th {\n",
       "        vertical-align: top;\n",
       "    }\n",
       "\n",
       "    .dataframe thead th {\n",
       "        text-align: right;\n",
       "    }\n",
       "</style>\n",
       "<table border=\"1\" class=\"dataframe\">\n",
       "  <thead>\n",
       "    <tr style=\"text-align: right;\">\n",
       "      <th></th>\n",
       "      <th>Date</th>\n",
       "      <th>Open</th>\n",
       "      <th>High</th>\n",
       "      <th>Low</th>\n",
       "      <th>Close</th>\n",
       "      <th>Adj Close</th>\n",
       "      <th>Volume</th>\n",
       "    </tr>\n",
       "  </thead>\n",
       "  <tbody>\n",
       "    <tr>\n",
       "      <th>0</th>\n",
       "      <td>1999-01-22</td>\n",
       "      <td>0.44</td>\n",
       "      <td>0.49</td>\n",
       "      <td>0.39</td>\n",
       "      <td>0.41</td>\n",
       "      <td>0.38</td>\n",
       "      <td>271468800</td>\n",
       "    </tr>\n",
       "    <tr>\n",
       "      <th>1</th>\n",
       "      <td>1999-01-25</td>\n",
       "      <td>0.44</td>\n",
       "      <td>0.46</td>\n",
       "      <td>0.41</td>\n",
       "      <td>0.45</td>\n",
       "      <td>0.42</td>\n",
       "      <td>51048000</td>\n",
       "    </tr>\n",
       "    <tr>\n",
       "      <th>2</th>\n",
       "      <td>1999-01-26</td>\n",
       "      <td>0.46</td>\n",
       "      <td>0.47</td>\n",
       "      <td>0.41</td>\n",
       "      <td>0.42</td>\n",
       "      <td>0.38</td>\n",
       "      <td>34320000</td>\n",
       "    </tr>\n",
       "    <tr>\n",
       "      <th>3</th>\n",
       "      <td>1999-01-27</td>\n",
       "      <td>0.42</td>\n",
       "      <td>0.43</td>\n",
       "      <td>0.40</td>\n",
       "      <td>0.42</td>\n",
       "      <td>0.38</td>\n",
       "      <td>24436800</td>\n",
       "    </tr>\n",
       "    <tr>\n",
       "      <th>4</th>\n",
       "      <td>1999-01-28</td>\n",
       "      <td>0.42</td>\n",
       "      <td>0.42</td>\n",
       "      <td>0.41</td>\n",
       "      <td>0.42</td>\n",
       "      <td>0.38</td>\n",
       "      <td>22752000</td>\n",
       "    </tr>\n",
       "  </tbody>\n",
       "</table>\n",
       "</div>"
      ],
      "text/plain": [
       "        Date  Open  High  Low  Close  Adj Close     Volume\n",
       "0 1999-01-22  0.44  0.49 0.39   0.41       0.38  271468800\n",
       "1 1999-01-25  0.44  0.46 0.41   0.45       0.42   51048000\n",
       "2 1999-01-26  0.46  0.47 0.41   0.42       0.38   34320000\n",
       "3 1999-01-27  0.42  0.43 0.40   0.42       0.38   24436800\n",
       "4 1999-01-28  0.42  0.42 0.41   0.42       0.38   22752000"
      ]
     },
     "execution_count": 45,
     "metadata": {},
     "output_type": "execute_result"
    }
   ],
   "source": [
    "data.head()"
   ]
  },
  {
   "cell_type": "code",
   "execution_count": 46,
   "metadata": {},
   "outputs": [],
   "source": [
    "data['rolling_min'] = data['Close'].rolling(window=10).min()"
   ]
  },
  {
   "cell_type": "code",
   "execution_count": 47,
   "metadata": {},
   "outputs": [],
   "source": [
    "data['gain'] = ((data['Close'] - data['rolling_min']) / data['rolling_min']) * 100"
   ]
  },
  {
   "cell_type": "code",
   "execution_count": 48,
   "metadata": {},
   "outputs": [
    {
     "data": {
      "text/html": [
       "<div>\n",
       "<style scoped>\n",
       "    .dataframe tbody tr th:only-of-type {\n",
       "        vertical-align: middle;\n",
       "    }\n",
       "\n",
       "    .dataframe tbody tr th {\n",
       "        vertical-align: top;\n",
       "    }\n",
       "\n",
       "    .dataframe thead th {\n",
       "        text-align: right;\n",
       "    }\n",
       "</style>\n",
       "<table border=\"1\" class=\"dataframe\">\n",
       "  <thead>\n",
       "    <tr style=\"text-align: right;\">\n",
       "      <th></th>\n",
       "      <th>Date</th>\n",
       "      <th>Open</th>\n",
       "      <th>High</th>\n",
       "      <th>Low</th>\n",
       "      <th>Close</th>\n",
       "      <th>Adj Close</th>\n",
       "      <th>Volume</th>\n",
       "      <th>rolling_min</th>\n",
       "      <th>gain</th>\n",
       "    </tr>\n",
       "  </thead>\n",
       "  <tbody>\n",
       "    <tr>\n",
       "      <th>0</th>\n",
       "      <td>1999-01-22</td>\n",
       "      <td>0.44</td>\n",
       "      <td>0.49</td>\n",
       "      <td>0.39</td>\n",
       "      <td>0.41</td>\n",
       "      <td>0.38</td>\n",
       "      <td>271468800</td>\n",
       "      <td>NaN</td>\n",
       "      <td>NaN</td>\n",
       "    </tr>\n",
       "    <tr>\n",
       "      <th>1</th>\n",
       "      <td>1999-01-25</td>\n",
       "      <td>0.44</td>\n",
       "      <td>0.46</td>\n",
       "      <td>0.41</td>\n",
       "      <td>0.45</td>\n",
       "      <td>0.42</td>\n",
       "      <td>51048000</td>\n",
       "      <td>NaN</td>\n",
       "      <td>NaN</td>\n",
       "    </tr>\n",
       "    <tr>\n",
       "      <th>2</th>\n",
       "      <td>1999-01-26</td>\n",
       "      <td>0.46</td>\n",
       "      <td>0.47</td>\n",
       "      <td>0.41</td>\n",
       "      <td>0.42</td>\n",
       "      <td>0.38</td>\n",
       "      <td>34320000</td>\n",
       "      <td>NaN</td>\n",
       "      <td>NaN</td>\n",
       "    </tr>\n",
       "    <tr>\n",
       "      <th>3</th>\n",
       "      <td>1999-01-27</td>\n",
       "      <td>0.42</td>\n",
       "      <td>0.43</td>\n",
       "      <td>0.40</td>\n",
       "      <td>0.42</td>\n",
       "      <td>0.38</td>\n",
       "      <td>24436800</td>\n",
       "      <td>NaN</td>\n",
       "      <td>NaN</td>\n",
       "    </tr>\n",
       "    <tr>\n",
       "      <th>4</th>\n",
       "      <td>1999-01-28</td>\n",
       "      <td>0.42</td>\n",
       "      <td>0.42</td>\n",
       "      <td>0.41</td>\n",
       "      <td>0.42</td>\n",
       "      <td>0.38</td>\n",
       "      <td>22752000</td>\n",
       "      <td>NaN</td>\n",
       "      <td>NaN</td>\n",
       "    </tr>\n",
       "  </tbody>\n",
       "</table>\n",
       "</div>"
      ],
      "text/plain": [
       "        Date  Open  High  Low  Close  Adj Close     Volume  rolling_min  gain\n",
       "0 1999-01-22  0.44  0.49 0.39   0.41       0.38  271468800          NaN   NaN\n",
       "1 1999-01-25  0.44  0.46 0.41   0.45       0.42   51048000          NaN   NaN\n",
       "2 1999-01-26  0.46  0.47 0.41   0.42       0.38   34320000          NaN   NaN\n",
       "3 1999-01-27  0.42  0.43 0.40   0.42       0.38   24436800          NaN   NaN\n",
       "4 1999-01-28  0.42  0.42 0.41   0.42       0.38   22752000          NaN   NaN"
      ]
     },
     "execution_count": 48,
     "metadata": {},
     "output_type": "execute_result"
    }
   ],
   "source": [
    "data.head()"
   ]
  },
  {
   "cell_type": "code",
   "execution_count": 153,
   "metadata": {},
   "outputs": [
    {
     "data": {
      "text/html": [
       "<div>\n",
       "<style scoped>\n",
       "    .dataframe tbody tr th:only-of-type {\n",
       "        vertical-align: middle;\n",
       "    }\n",
       "\n",
       "    .dataframe tbody tr th {\n",
       "        vertical-align: top;\n",
       "    }\n",
       "\n",
       "    .dataframe thead th {\n",
       "        text-align: right;\n",
       "    }\n",
       "</style>\n",
       "<table border=\"1\" class=\"dataframe\">\n",
       "  <thead>\n",
       "    <tr style=\"text-align: right;\">\n",
       "      <th></th>\n",
       "      <th>Date</th>\n",
       "      <th>gain</th>\n",
       "    </tr>\n",
       "  </thead>\n",
       "  <tbody>\n",
       "    <tr>\n",
       "      <th>287</th>\n",
       "      <td>2000-03-13</td>\n",
       "      <td>157.61</td>\n",
       "    </tr>\n",
       "    <tr>\n",
       "      <th>286</th>\n",
       "      <td>2000-03-10</td>\n",
       "      <td>103.67</td>\n",
       "    </tr>\n",
       "    <tr>\n",
       "      <th>288</th>\n",
       "      <td>2000-03-14</td>\n",
       "      <td>90.08</td>\n",
       "    </tr>\n",
       "    <tr>\n",
       "      <th>289</th>\n",
       "      <td>2000-03-15</td>\n",
       "      <td>82.31</td>\n",
       "    </tr>\n",
       "    <tr>\n",
       "      <th>272</th>\n",
       "      <td>2000-02-18</td>\n",
       "      <td>77.01</td>\n",
       "    </tr>\n",
       "    <tr>\n",
       "      <th>285</th>\n",
       "      <td>2000-03-09</td>\n",
       "      <td>73.11</td>\n",
       "    </tr>\n",
       "    <tr>\n",
       "      <th>291</th>\n",
       "      <td>2000-03-17</td>\n",
       "      <td>70.73</td>\n",
       "    </tr>\n",
       "    <tr>\n",
       "      <th>684</th>\n",
       "      <td>2001-10-12</td>\n",
       "      <td>69.30</td>\n",
       "    </tr>\n",
       "    <tr>\n",
       "      <th>685</th>\n",
       "      <td>2001-10-15</td>\n",
       "      <td>68.55</td>\n",
       "    </tr>\n",
       "    <tr>\n",
       "      <th>273</th>\n",
       "      <td>2000-02-22</td>\n",
       "      <td>64.26</td>\n",
       "    </tr>\n",
       "    <tr>\n",
       "      <th>274</th>\n",
       "      <td>2000-02-23</td>\n",
       "      <td>61.16</td>\n",
       "    </tr>\n",
       "    <tr>\n",
       "      <th>290</th>\n",
       "      <td>2000-03-16</td>\n",
       "      <td>60.98</td>\n",
       "    </tr>\n",
       "    <tr>\n",
       "      <th>498</th>\n",
       "      <td>2001-01-11</td>\n",
       "      <td>60.33</td>\n",
       "    </tr>\n",
       "  </tbody>\n",
       "</table>\n",
       "</div>"
      ],
      "text/plain": [
       "          Date   gain\n",
       "287 2000-03-13 157.61\n",
       "286 2000-03-10 103.67\n",
       "288 2000-03-14  90.08\n",
       "289 2000-03-15  82.31\n",
       "272 2000-02-18  77.01\n",
       "285 2000-03-09  73.11\n",
       "291 2000-03-17  70.73\n",
       "684 2001-10-12  69.30\n",
       "685 2001-10-15  68.55\n",
       "273 2000-02-22  64.26\n",
       "274 2000-02-23  61.16\n",
       "290 2000-03-16  60.98\n",
       "498 2001-01-11  60.33"
      ]
     },
     "execution_count": 153,
     "metadata": {},
     "output_type": "execute_result"
    }
   ],
   "source": [
    "result = data[data['gain'] > 60][['Date', 'gain']]\n",
    "result.sort_values(by='gain', ascending=False)"
   ]
  },
  {
   "cell_type": "markdown",
   "metadata": {},
   "source": [
    "## Question 5"
   ]
  },
  {
   "cell_type": "markdown",
   "metadata": {},
   "source": [
    "### What was the **worst** possible \"buy&sell\" operation? Find the two days x and y so that the % loss resulting from buying in x and selling in y (with y after x) is maximized. Your code should work for any data. \n",
    "#### *Hint:* Use method cummax() or method cummin(). *Cummax/Cummin* returns the maximum/minimum value encountered so far. Make sure to return the trading days x and y, as well as the % loss resulting from buying in x and selling in y.\n",
    "#### (Fill in blank for the buying and selling dates in Camino with the format 'buying-date/selling-date' (for example, 2001-01-01/2010-12-31)"
   ]
  },
  {
   "cell_type": "code",
   "execution_count": 138,
   "metadata": {},
   "outputs": [
    {
     "data": {
      "text/html": [
       "<div>\n",
       "<style scoped>\n",
       "    .dataframe tbody tr th:only-of-type {\n",
       "        vertical-align: middle;\n",
       "    }\n",
       "\n",
       "    .dataframe tbody tr th {\n",
       "        vertical-align: top;\n",
       "    }\n",
       "\n",
       "    .dataframe thead th {\n",
       "        text-align: right;\n",
       "    }\n",
       "</style>\n",
       "<table border=\"1\" class=\"dataframe\">\n",
       "  <thead>\n",
       "    <tr style=\"text-align: right;\">\n",
       "      <th></th>\n",
       "      <th>Date</th>\n",
       "      <th>Open</th>\n",
       "      <th>High</th>\n",
       "      <th>Low</th>\n",
       "      <th>Close</th>\n",
       "      <th>Adj Close</th>\n",
       "      <th>Volume</th>\n",
       "      <th>Percent_Gain</th>\n",
       "      <th>3_day_return</th>\n",
       "      <th>gain</th>\n",
       "      <th>rolling_min</th>\n",
       "    </tr>\n",
       "  </thead>\n",
       "  <tbody>\n",
       "    <tr>\n",
       "      <th>6220</th>\n",
       "      <td>2023-10-11</td>\n",
       "      <td>461.96</td>\n",
       "      <td>467.20</td>\n",
       "      <td>461.10</td>\n",
       "      <td>462.48</td>\n",
       "      <td>462.48</td>\n",
       "      <td>22348311</td>\n",
       "      <td>0.98</td>\n",
       "      <td>NaN</td>\n",
       "      <td>7.33</td>\n",
       "      <td>430.89</td>\n",
       "    </tr>\n",
       "    <tr>\n",
       "      <th>6219</th>\n",
       "      <td>2023-10-10</td>\n",
       "      <td>453.10</td>\n",
       "      <td>462.59</td>\n",
       "      <td>450.88</td>\n",
       "      <td>457.98</td>\n",
       "      <td>457.98</td>\n",
       "      <td>36782600</td>\n",
       "      <td>1.16</td>\n",
       "      <td>NaN</td>\n",
       "      <td>7.84</td>\n",
       "      <td>424.68</td>\n",
       "    </tr>\n",
       "    <tr>\n",
       "      <th>6218</th>\n",
       "      <td>2023-10-09</td>\n",
       "      <td>448.42</td>\n",
       "      <td>456.05</td>\n",
       "      <td>443.68</td>\n",
       "      <td>452.73</td>\n",
       "      <td>452.73</td>\n",
       "      <td>40967500</td>\n",
       "      <td>-1.07</td>\n",
       "      <td>9.74</td>\n",
       "      <td>8.02</td>\n",
       "      <td>419.11</td>\n",
       "    </tr>\n",
       "    <tr>\n",
       "      <th>6217</th>\n",
       "      <td>2023-10-06</td>\n",
       "      <td>441.93</td>\n",
       "      <td>457.89</td>\n",
       "      <td>440.26</td>\n",
       "      <td>457.62</td>\n",
       "      <td>457.62</td>\n",
       "      <td>43339700</td>\n",
       "      <td>2.40</td>\n",
       "      <td>0.36</td>\n",
       "      <td>9.19</td>\n",
       "      <td>419.11</td>\n",
       "    </tr>\n",
       "    <tr>\n",
       "      <th>6216</th>\n",
       "      <td>2023-10-05</td>\n",
       "      <td>440.50</td>\n",
       "      <td>449.00</td>\n",
       "      <td>438.88</td>\n",
       "      <td>446.88</td>\n",
       "      <td>446.88</td>\n",
       "      <td>39348300</td>\n",
       "      <td>1.47</td>\n",
       "      <td>5.85</td>\n",
       "      <td>7.40</td>\n",
       "      <td>416.10</td>\n",
       "    </tr>\n",
       "  </tbody>\n",
       "</table>\n",
       "</div>"
      ],
      "text/plain": [
       "           Date   Open   High    Low  Close  Adj Close    Volume  \\\n",
       "6220 2023-10-11 461.96 467.20 461.10 462.48     462.48  22348311   \n",
       "6219 2023-10-10 453.10 462.59 450.88 457.98     457.98  36782600   \n",
       "6218 2023-10-09 448.42 456.05 443.68 452.73     452.73  40967500   \n",
       "6217 2023-10-06 441.93 457.89 440.26 457.62     457.62  43339700   \n",
       "6216 2023-10-05 440.50 449.00 438.88 446.88     446.88  39348300   \n",
       "\n",
       "      Percent_Gain  3_day_return  gain  rolling_min  \n",
       "6220          0.98           NaN  7.33       430.89  \n",
       "6219          1.16           NaN  7.84       424.68  \n",
       "6218         -1.07          9.74  8.02       419.11  \n",
       "6217          2.40          0.36  9.19       419.11  \n",
       "6216          1.47          5.85  7.40       416.10  "
      ]
     },
     "execution_count": 138,
     "metadata": {},
     "output_type": "execute_result"
    }
   ],
   "source": [
    "data_reversed = data.iloc[::-1]\n",
    "data_reversed.head()"
   ]
  },
  {
   "cell_type": "code",
   "execution_count": 139,
   "metadata": {},
   "outputs": [
    {
     "name": "stderr",
     "output_type": "stream",
     "text": [
      "/var/folders/x6/29gj9fhd1rs_98l6pyr3bngw0000gn/T/ipykernel_37794/742253882.py:1: SettingWithCopyWarning: \n",
      "A value is trying to be set on a copy of a slice from a DataFrame.\n",
      "Try using .loc[row_indexer,col_indexer] = value instead\n",
      "\n",
      "See the caveats in the documentation: https://pandas.pydata.org/pandas-docs/stable/user_guide/indexing.html#returning-a-view-versus-a-copy\n",
      "  data_reversed['cummin'] = data_reversed['Close'].cummin()\n"
     ]
    },
    {
     "data": {
      "text/html": [
       "<div>\n",
       "<style scoped>\n",
       "    .dataframe tbody tr th:only-of-type {\n",
       "        vertical-align: middle;\n",
       "    }\n",
       "\n",
       "    .dataframe tbody tr th {\n",
       "        vertical-align: top;\n",
       "    }\n",
       "\n",
       "    .dataframe thead th {\n",
       "        text-align: right;\n",
       "    }\n",
       "</style>\n",
       "<table border=\"1\" class=\"dataframe\">\n",
       "  <thead>\n",
       "    <tr style=\"text-align: right;\">\n",
       "      <th></th>\n",
       "      <th>Date</th>\n",
       "      <th>Open</th>\n",
       "      <th>High</th>\n",
       "      <th>Low</th>\n",
       "      <th>Close</th>\n",
       "      <th>Adj Close</th>\n",
       "      <th>Volume</th>\n",
       "      <th>Percent_Gain</th>\n",
       "      <th>3_day_return</th>\n",
       "      <th>gain</th>\n",
       "      <th>rolling_min</th>\n",
       "      <th>cummin</th>\n",
       "    </tr>\n",
       "  </thead>\n",
       "  <tbody>\n",
       "    <tr>\n",
       "      <th>6220</th>\n",
       "      <td>2023-10-11</td>\n",
       "      <td>461.96</td>\n",
       "      <td>467.20</td>\n",
       "      <td>461.10</td>\n",
       "      <td>462.48</td>\n",
       "      <td>462.48</td>\n",
       "      <td>22348311</td>\n",
       "      <td>0.98</td>\n",
       "      <td>NaN</td>\n",
       "      <td>7.33</td>\n",
       "      <td>430.89</td>\n",
       "      <td>462.48</td>\n",
       "    </tr>\n",
       "    <tr>\n",
       "      <th>6219</th>\n",
       "      <td>2023-10-10</td>\n",
       "      <td>453.10</td>\n",
       "      <td>462.59</td>\n",
       "      <td>450.88</td>\n",
       "      <td>457.98</td>\n",
       "      <td>457.98</td>\n",
       "      <td>36782600</td>\n",
       "      <td>1.16</td>\n",
       "      <td>NaN</td>\n",
       "      <td>7.84</td>\n",
       "      <td>424.68</td>\n",
       "      <td>457.98</td>\n",
       "    </tr>\n",
       "    <tr>\n",
       "      <th>6218</th>\n",
       "      <td>2023-10-09</td>\n",
       "      <td>448.42</td>\n",
       "      <td>456.05</td>\n",
       "      <td>443.68</td>\n",
       "      <td>452.73</td>\n",
       "      <td>452.73</td>\n",
       "      <td>40967500</td>\n",
       "      <td>-1.07</td>\n",
       "      <td>9.74</td>\n",
       "      <td>8.02</td>\n",
       "      <td>419.11</td>\n",
       "      <td>452.73</td>\n",
       "    </tr>\n",
       "    <tr>\n",
       "      <th>6217</th>\n",
       "      <td>2023-10-06</td>\n",
       "      <td>441.93</td>\n",
       "      <td>457.89</td>\n",
       "      <td>440.26</td>\n",
       "      <td>457.62</td>\n",
       "      <td>457.62</td>\n",
       "      <td>43339700</td>\n",
       "      <td>2.40</td>\n",
       "      <td>0.36</td>\n",
       "      <td>9.19</td>\n",
       "      <td>419.11</td>\n",
       "      <td>452.73</td>\n",
       "    </tr>\n",
       "    <tr>\n",
       "      <th>6216</th>\n",
       "      <td>2023-10-05</td>\n",
       "      <td>440.50</td>\n",
       "      <td>449.00</td>\n",
       "      <td>438.88</td>\n",
       "      <td>446.88</td>\n",
       "      <td>446.88</td>\n",
       "      <td>39348300</td>\n",
       "      <td>1.47</td>\n",
       "      <td>5.85</td>\n",
       "      <td>7.40</td>\n",
       "      <td>416.10</td>\n",
       "      <td>446.88</td>\n",
       "    </tr>\n",
       "  </tbody>\n",
       "</table>\n",
       "</div>"
      ],
      "text/plain": [
       "           Date   Open   High    Low  Close  Adj Close    Volume  \\\n",
       "6220 2023-10-11 461.96 467.20 461.10 462.48     462.48  22348311   \n",
       "6219 2023-10-10 453.10 462.59 450.88 457.98     457.98  36782600   \n",
       "6218 2023-10-09 448.42 456.05 443.68 452.73     452.73  40967500   \n",
       "6217 2023-10-06 441.93 457.89 440.26 457.62     457.62  43339700   \n",
       "6216 2023-10-05 440.50 449.00 438.88 446.88     446.88  39348300   \n",
       "\n",
       "      Percent_Gain  3_day_return  gain  rolling_min  cummin  \n",
       "6220          0.98           NaN  7.33       430.89  462.48  \n",
       "6219          1.16           NaN  7.84       424.68  457.98  \n",
       "6218         -1.07          9.74  8.02       419.11  452.73  \n",
       "6217          2.40          0.36  9.19       419.11  452.73  \n",
       "6216          1.47          5.85  7.40       416.10  446.88  "
      ]
     },
     "execution_count": 139,
     "metadata": {},
     "output_type": "execute_result"
    }
   ],
   "source": [
    "data_reversed['cummin'] = data_reversed['Close'].cummin()\n",
    "data_reversed.head()"
   ]
  },
  {
   "cell_type": "code",
   "execution_count": 142,
   "metadata": {},
   "outputs": [
    {
     "name": "stderr",
     "output_type": "stream",
     "text": [
      "/var/folders/x6/29gj9fhd1rs_98l6pyr3bngw0000gn/T/ipykernel_37794/2391390766.py:1: SettingWithCopyWarning: \n",
      "A value is trying to be set on a copy of a slice from a DataFrame.\n",
      "Try using .loc[row_indexer,col_indexer] = value instead\n",
      "\n",
      "See the caveats in the documentation: https://pandas.pydata.org/pandas-docs/stable/user_guide/indexing.html#returning-a-view-versus-a-copy\n",
      "  data_reversed.loc[:, 'abs_loss'] = data_reversed['Close'] - data_reversed['cummin']\n",
      "/var/folders/x6/29gj9fhd1rs_98l6pyr3bngw0000gn/T/ipykernel_37794/2391390766.py:2: SettingWithCopyWarning: \n",
      "A value is trying to be set on a copy of a slice from a DataFrame.\n",
      "Try using .loc[row_indexer,col_indexer] = value instead\n",
      "\n",
      "See the caveats in the documentation: https://pandas.pydata.org/pandas-docs/stable/user_guide/indexing.html#returning-a-view-versus-a-copy\n",
      "  data_reversed.loc[:, 'pct_loss'] = (data_reversed['abs_loss'] / data_reversed['Close']) * 100\n"
     ]
    }
   ],
   "source": [
    "data_reversed.loc[:, 'abs_loss'] = data_reversed['Close'] - data_reversed['cummin']\n",
    "data_reversed.loc[:, 'pct_loss'] = (data_reversed['abs_loss'] / data_reversed['Close']) * 100"
   ]
  },
  {
   "cell_type": "code",
   "execution_count": 143,
   "metadata": {},
   "outputs": [
    {
     "data": {
      "text/html": [
       "<div>\n",
       "<style scoped>\n",
       "    .dataframe tbody tr th:only-of-type {\n",
       "        vertical-align: middle;\n",
       "    }\n",
       "\n",
       "    .dataframe tbody tr th {\n",
       "        vertical-align: top;\n",
       "    }\n",
       "\n",
       "    .dataframe thead th {\n",
       "        text-align: right;\n",
       "    }\n",
       "</style>\n",
       "<table border=\"1\" class=\"dataframe\">\n",
       "  <thead>\n",
       "    <tr style=\"text-align: right;\">\n",
       "      <th></th>\n",
       "      <th>Date</th>\n",
       "      <th>Open</th>\n",
       "      <th>High</th>\n",
       "      <th>Low</th>\n",
       "      <th>Close</th>\n",
       "      <th>Adj Close</th>\n",
       "      <th>Volume</th>\n",
       "      <th>Percent_Gain</th>\n",
       "      <th>3_day_return</th>\n",
       "      <th>gain</th>\n",
       "      <th>rolling_min</th>\n",
       "      <th>cummin</th>\n",
       "      <th>abs_loss</th>\n",
       "      <th>pct_loss</th>\n",
       "    </tr>\n",
       "  </thead>\n",
       "  <tbody>\n",
       "    <tr>\n",
       "      <th>6220</th>\n",
       "      <td>2023-10-11</td>\n",
       "      <td>461.96</td>\n",
       "      <td>467.20</td>\n",
       "      <td>461.10</td>\n",
       "      <td>462.48</td>\n",
       "      <td>462.48</td>\n",
       "      <td>22348311</td>\n",
       "      <td>0.98</td>\n",
       "      <td>NaN</td>\n",
       "      <td>7.33</td>\n",
       "      <td>430.89</td>\n",
       "      <td>462.48</td>\n",
       "      <td>0.00</td>\n",
       "      <td>0.00</td>\n",
       "    </tr>\n",
       "    <tr>\n",
       "      <th>6219</th>\n",
       "      <td>2023-10-10</td>\n",
       "      <td>453.10</td>\n",
       "      <td>462.59</td>\n",
       "      <td>450.88</td>\n",
       "      <td>457.98</td>\n",
       "      <td>457.98</td>\n",
       "      <td>36782600</td>\n",
       "      <td>1.16</td>\n",
       "      <td>NaN</td>\n",
       "      <td>7.84</td>\n",
       "      <td>424.68</td>\n",
       "      <td>457.98</td>\n",
       "      <td>0.00</td>\n",
       "      <td>0.00</td>\n",
       "    </tr>\n",
       "    <tr>\n",
       "      <th>6218</th>\n",
       "      <td>2023-10-09</td>\n",
       "      <td>448.42</td>\n",
       "      <td>456.05</td>\n",
       "      <td>443.68</td>\n",
       "      <td>452.73</td>\n",
       "      <td>452.73</td>\n",
       "      <td>40967500</td>\n",
       "      <td>-1.07</td>\n",
       "      <td>9.74</td>\n",
       "      <td>8.02</td>\n",
       "      <td>419.11</td>\n",
       "      <td>452.73</td>\n",
       "      <td>0.00</td>\n",
       "      <td>0.00</td>\n",
       "    </tr>\n",
       "    <tr>\n",
       "      <th>6217</th>\n",
       "      <td>2023-10-06</td>\n",
       "      <td>441.93</td>\n",
       "      <td>457.89</td>\n",
       "      <td>440.26</td>\n",
       "      <td>457.62</td>\n",
       "      <td>457.62</td>\n",
       "      <td>43339700</td>\n",
       "      <td>2.40</td>\n",
       "      <td>0.36</td>\n",
       "      <td>9.19</td>\n",
       "      <td>419.11</td>\n",
       "      <td>452.73</td>\n",
       "      <td>4.89</td>\n",
       "      <td>1.07</td>\n",
       "    </tr>\n",
       "    <tr>\n",
       "      <th>6216</th>\n",
       "      <td>2023-10-05</td>\n",
       "      <td>440.50</td>\n",
       "      <td>449.00</td>\n",
       "      <td>438.88</td>\n",
       "      <td>446.88</td>\n",
       "      <td>446.88</td>\n",
       "      <td>39348300</td>\n",
       "      <td>1.47</td>\n",
       "      <td>5.85</td>\n",
       "      <td>7.40</td>\n",
       "      <td>416.10</td>\n",
       "      <td>446.88</td>\n",
       "      <td>0.00</td>\n",
       "      <td>0.00</td>\n",
       "    </tr>\n",
       "  </tbody>\n",
       "</table>\n",
       "</div>"
      ],
      "text/plain": [
       "           Date   Open   High    Low  Close  Adj Close    Volume  \\\n",
       "6220 2023-10-11 461.96 467.20 461.10 462.48     462.48  22348311   \n",
       "6219 2023-10-10 453.10 462.59 450.88 457.98     457.98  36782600   \n",
       "6218 2023-10-09 448.42 456.05 443.68 452.73     452.73  40967500   \n",
       "6217 2023-10-06 441.93 457.89 440.26 457.62     457.62  43339700   \n",
       "6216 2023-10-05 440.50 449.00 438.88 446.88     446.88  39348300   \n",
       "\n",
       "      Percent_Gain  3_day_return  gain  rolling_min  cummin  abs_loss  \\\n",
       "6220          0.98           NaN  7.33       430.89  462.48      0.00   \n",
       "6219          1.16           NaN  7.84       424.68  457.98      0.00   \n",
       "6218         -1.07          9.74  8.02       419.11  452.73      0.00   \n",
       "6217          2.40          0.36  9.19       419.11  452.73      4.89   \n",
       "6216          1.47          5.85  7.40       416.10  446.88      0.00   \n",
       "\n",
       "      pct_loss  \n",
       "6220      0.00  \n",
       "6219      0.00  \n",
       "6218      0.00  \n",
       "6217      1.07  \n",
       "6216      0.00  "
      ]
     },
     "execution_count": 143,
     "metadata": {},
     "output_type": "execute_result"
    }
   ],
   "source": [
    "data_reversed.head()"
   ]
  },
  {
   "cell_type": "code",
   "execution_count": 144,
   "metadata": {},
   "outputs": [],
   "source": [
    "max_loss_row = data_reversed.loc[data_reversed['pct_loss'].idxmax()]"
   ]
  },
  {
   "cell_type": "code",
   "execution_count": 147,
   "metadata": {},
   "outputs": [
    {
     "data": {
      "text/plain": [
       "Timestamp('2002-10-09 00:00:00')"
      ]
     },
     "execution_count": 147,
     "metadata": {},
     "output_type": "execute_result"
    },
    {
     "data": {
      "text/plain": [
       "Timestamp('2002-01-03 00:00:00')"
      ]
     },
     "execution_count": 147,
     "metadata": {},
     "output_type": "execute_result"
    },
    {
     "data": {
      "text/plain": [
       "Date            2002-01-03 00:00:00\n",
       "Open                           5.62\n",
       "High                           6.00\n",
       "Low                            5.62\n",
       "Close                          5.98\n",
       "Adj Close                      5.48\n",
       "Volume                    141475200\n",
       "Percent_Gain                   6.55\n",
       "3_day_return                  -0.33\n",
       "gain                          15.85\n",
       "rolling_min                    5.16\n",
       "cummin                         0.61\n",
       "abs_loss                       5.36\n",
       "pct_loss                      89.72\n",
       "Name: 740, dtype: object"
      ]
     },
     "execution_count": 147,
     "metadata": {},
     "output_type": "execute_result"
    }
   ],
   "source": [
    "sell_date = data.loc[data['Close'] == max_loss_row['cummin'], 'Date'].iloc[0]\n",
    "buy_date = max_loss_row['Date']\n",
    "sell_date\n",
    "buy_date\n",
    "max_loss_row"
   ]
  },
  {
   "cell_type": "code",
   "execution_count": 151,
   "metadata": {},
   "outputs": [
    {
     "name": "stdout",
     "output_type": "stream",
     "text": [
      "Sell on 2002-10-09 00:00:00 and buy on 2002-01-03 00:00:00 for a maximum loss of 89.72%.\n"
     ]
    }
   ],
   "source": [
    "print(f\"Sell on {sell_date} and buy on {buy_date} for a maximum loss of {max_loss_row['pct_loss']:.2f}%.\")"
   ]
  },
  {
   "cell_type": "code",
   "execution_count": null,
   "metadata": {},
   "outputs": [],
   "source": []
  }
 ],
 "metadata": {
  "kernelspec": {
   "display_name": "Python 3 (ipykernel)",
   "language": "python",
   "name": "python3"
  },
  "language_info": {
   "codemirror_mode": {
    "name": "ipython",
    "version": 3
   },
   "file_extension": ".py",
   "mimetype": "text/x-python",
   "name": "python",
   "nbconvert_exporter": "python",
   "pygments_lexer": "ipython3",
   "version": "3.11.4"
  }
 },
 "nbformat": 4,
 "nbformat_minor": 1
}
