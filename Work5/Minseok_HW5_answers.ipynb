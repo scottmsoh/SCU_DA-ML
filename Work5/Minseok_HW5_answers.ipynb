{
 "cells": [
  {
   "cell_type": "markdown",
   "metadata": {},
   "source": [
    "# Data Analytics w/Python\n",
    "\n",
    "# HW5_Minseok Oh"
   ]
  },
  {
   "cell_type": "markdown",
   "metadata": {},
   "source": [
    "<b>Penalties:</b> You will incur penalties if:\n",
    "<ul>\n",
    "<li>Your code is wrong</li>\n",
    "<li>Your code would not work on different data</li>\n",
    "<li>Your code is unnecessarily slow (you use a for loop, or you use DataFrame.apply unnecessarily, etc)\n",
    "<li>You answer is composed of more than one output, unless explicitly permitted\n",
    "</ul>"
   ]
  },
  {
   "cell_type": "code",
   "execution_count": 2,
   "metadata": {},
   "outputs": [],
   "source": [
    "import pandas as pd\n",
    "import seaborn as sns\n",
    "import numpy as np\n",
    "import warnings\n",
    "warnings.filterwarnings('ignore')"
   ]
  },
  {
   "cell_type": "code",
   "execution_count": 3,
   "metadata": {},
   "outputs": [],
   "source": [
    "# print all the outputs in a cell\n",
    "from IPython.core.interactiveshell import InteractiveShell\n",
    "InteractiveShell.ast_node_interactivity = \"all\""
   ]
  },
  {
   "cell_type": "code",
   "execution_count": 5,
   "metadata": {},
   "outputs": [],
   "source": [
    "import matplotlib\n",
    "matplotlib.use('TkAgg')\n",
    "import matplotlib.pyplot as plt"
   ]
  },
  {
   "cell_type": "markdown",
   "metadata": {},
   "source": [
    "# Data Set Description"
   ]
  },
  {
   "cell_type": "markdown",
   "metadata": {},
   "source": [
    "## USA.gov Data from Bitly"
   ]
  },
  {
   "cell_type": "markdown",
   "metadata": {},
   "source": [
    "In 2011, URL shortening service Bitly *Bitly.com* partnered with the US goverment website *USA.gov* to provide a feed of anonymous data gathered from users who shorten links ending with *.gov* or *.mil*.  This service is shut down at 2017. "
   ]
  },
  {
   "cell_type": "markdown",
   "metadata": {},
   "source": [
    "In this database, each line contains a common form of web data known as **JSON**, which stands for *JavaScript Object Notation* . Python has both built-in and 3rd party libraries for converting a JSON string into a Python dictionary object. Then we can use *pd.DataFrame* convert dictionary object into Dataframe for our analysis."
   ]
  },
  {
   "cell_type": "markdown",
   "metadata": {},
   "source": [
    "each line has a number of identifying attributes.\n",
    "\n",
    "In [18]: records[0] <br>\n",
    "Out[18]: <br>\n",
    "{'a': 'Mozilla/5.0 (Windows NT 6.1; WOW64) AppleWebKit/535.11 (KHTML, like Gecko)\n",
    "Chrome/17.0.963.78 Safari/535.11', <br>\n",
    " 'al': 'en-US,en;q=0.8', <br>\n",
    " 'c': 'US',<br>\n",
    " 'cy': 'Danvers',<br>\n",
    " 'g': 'A6qOVH',<br>\n",
    " 'gr': 'MA',<br>\n",
    " 'h': 'wfLQtf',<br>\n",
    " 'hc': 1331822918,<br>\n",
    " 'hh': '1.usa.gov',<br>\n",
    " 'l': 'orofrog',<br>\n",
    " 'll': [42.576698, -70.954903],<br>\n",
    " 'nk': 1,<br>\n",
    " 'r': 'http://www.facebook.com/l/7AQEFzjSi/1.usa.gov/wfLQtf',<br>\n",
    " 't': 1331923247,<br>\n",
    " 'tz': 'America/New_York',<br>\n",
    " 'u': 'http://www.ncbi.nlm.nih.gov/pubmed/22415991'}<br>\n",
    " "
   ]
  },
  {
   "cell_type": "code",
   "execution_count": 6,
   "metadata": {},
   "outputs": [],
   "source": [
    "import json\n",
    "file_name = 'bitly_usagov_example.txt'\n",
    "records = [json.loads(line) for line in open(file_name)]"
   ]
  },
  {
   "cell_type": "code",
   "execution_count": 7,
   "metadata": {},
   "outputs": [
    {
     "data": {
      "text/plain": [
       "[{'a': 'Mozilla/5.0 (Windows NT 6.1; WOW64) AppleWebKit/535.11 (KHTML, like Gecko) Chrome/17.0.963.78 Safari/535.11',\n",
       "  'c': 'US',\n",
       "  'nk': 1,\n",
       "  'tz': 'America/New_York',\n",
       "  'gr': 'MA',\n",
       "  'g': 'A6qOVH',\n",
       "  'h': 'wfLQtf',\n",
       "  'l': 'orofrog',\n",
       "  'al': 'en-US,en;q=0.8',\n",
       "  'hh': '1.usa.gov',\n",
       "  'r': 'http://www.facebook.com/l/7AQEFzjSi/1.usa.gov/wfLQtf',\n",
       "  'u': 'http://www.ncbi.nlm.nih.gov/pubmed/22415991',\n",
       "  't': 1331923247,\n",
       "  'hc': 1331822918,\n",
       "  'cy': 'Danvers',\n",
       "  'll': [42.576698, -70.954903]},\n",
       " {'a': 'GoogleMaps/RochesterNY',\n",
       "  'c': 'US',\n",
       "  'nk': 0,\n",
       "  'tz': 'America/Denver',\n",
       "  'gr': 'UT',\n",
       "  'g': 'mwszkS',\n",
       "  'h': 'mwszkS',\n",
       "  'l': 'bitly',\n",
       "  'hh': 'j.mp',\n",
       "  'r': 'http://www.AwareMap.com/',\n",
       "  'u': 'http://www.monroecounty.gov/etc/911/rss.php',\n",
       "  't': 1331923249,\n",
       "  'hc': 1308262393,\n",
       "  'cy': 'Provo',\n",
       "  'll': [40.218102, -111.613297]}]"
      ]
     },
     "execution_count": 7,
     "metadata": {},
     "output_type": "execute_result"
    }
   ],
   "source": [
    "records[0:2]"
   ]
  },
  {
   "cell_type": "markdown",
   "metadata": {},
   "source": [
    "* **a**: info. about browser, device or application used to perform the URL shortening. \n",
    "* **c**: country\n",
    "* **cy**: city\n",
    "* **gr**: state\n",
    "* **ll**: longitude and latitude\n",
    "* **tz**: TimeZone\n",
    "* **u**: original URL being shorted"
   ]
  },
  {
   "cell_type": "markdown",
   "metadata": {},
   "source": [
    "## Convert this dictionary *records* into DataFrame. (find out which method to use yourself)"
   ]
  },
  {
   "cell_type": "code",
   "execution_count": 8,
   "metadata": {},
   "outputs": [
    {
     "data": {
      "text/html": [
       "<div>\n",
       "<style scoped>\n",
       "    .dataframe tbody tr th:only-of-type {\n",
       "        vertical-align: middle;\n",
       "    }\n",
       "\n",
       "    .dataframe tbody tr th {\n",
       "        vertical-align: top;\n",
       "    }\n",
       "\n",
       "    .dataframe thead th {\n",
       "        text-align: right;\n",
       "    }\n",
       "</style>\n",
       "<table border=\"1\" class=\"dataframe\">\n",
       "  <thead>\n",
       "    <tr style=\"text-align: right;\">\n",
       "      <th></th>\n",
       "      <th>a</th>\n",
       "      <th>c</th>\n",
       "      <th>nk</th>\n",
       "      <th>tz</th>\n",
       "      <th>gr</th>\n",
       "      <th>g</th>\n",
       "      <th>h</th>\n",
       "      <th>l</th>\n",
       "      <th>al</th>\n",
       "      <th>hh</th>\n",
       "      <th>r</th>\n",
       "      <th>u</th>\n",
       "      <th>t</th>\n",
       "      <th>hc</th>\n",
       "      <th>cy</th>\n",
       "      <th>ll</th>\n",
       "      <th>_heartbeat_</th>\n",
       "      <th>kw</th>\n",
       "    </tr>\n",
       "  </thead>\n",
       "  <tbody>\n",
       "    <tr>\n",
       "      <th>0</th>\n",
       "      <td>Mozilla/5.0 (Windows NT 6.1; WOW64) AppleWebKi...</td>\n",
       "      <td>US</td>\n",
       "      <td>1.0</td>\n",
       "      <td>America/New_York</td>\n",
       "      <td>MA</td>\n",
       "      <td>A6qOVH</td>\n",
       "      <td>wfLQtf</td>\n",
       "      <td>orofrog</td>\n",
       "      <td>en-US,en;q=0.8</td>\n",
       "      <td>1.usa.gov</td>\n",
       "      <td>http://www.facebook.com/l/7AQEFzjSi/1.usa.gov/...</td>\n",
       "      <td>http://www.ncbi.nlm.nih.gov/pubmed/22415991</td>\n",
       "      <td>1.331923e+09</td>\n",
       "      <td>1.331823e+09</td>\n",
       "      <td>Danvers</td>\n",
       "      <td>[42.576698, -70.954903]</td>\n",
       "      <td>NaN</td>\n",
       "      <td>NaN</td>\n",
       "    </tr>\n",
       "    <tr>\n",
       "      <th>1</th>\n",
       "      <td>GoogleMaps/RochesterNY</td>\n",
       "      <td>US</td>\n",
       "      <td>0.0</td>\n",
       "      <td>America/Denver</td>\n",
       "      <td>UT</td>\n",
       "      <td>mwszkS</td>\n",
       "      <td>mwszkS</td>\n",
       "      <td>bitly</td>\n",
       "      <td>NaN</td>\n",
       "      <td>j.mp</td>\n",
       "      <td>http://www.AwareMap.com/</td>\n",
       "      <td>http://www.monroecounty.gov/etc/911/rss.php</td>\n",
       "      <td>1.331923e+09</td>\n",
       "      <td>1.308262e+09</td>\n",
       "      <td>Provo</td>\n",
       "      <td>[40.218102, -111.613297]</td>\n",
       "      <td>NaN</td>\n",
       "      <td>NaN</td>\n",
       "    </tr>\n",
       "    <tr>\n",
       "      <th>2</th>\n",
       "      <td>Mozilla/4.0 (compatible; MSIE 8.0; Windows NT ...</td>\n",
       "      <td>US</td>\n",
       "      <td>1.0</td>\n",
       "      <td>America/New_York</td>\n",
       "      <td>DC</td>\n",
       "      <td>xxr3Qb</td>\n",
       "      <td>xxr3Qb</td>\n",
       "      <td>bitly</td>\n",
       "      <td>en-US</td>\n",
       "      <td>1.usa.gov</td>\n",
       "      <td>http://t.co/03elZC4Q</td>\n",
       "      <td>http://boxer.senate.gov/en/press/releases/0316...</td>\n",
       "      <td>1.331923e+09</td>\n",
       "      <td>1.331920e+09</td>\n",
       "      <td>Washington</td>\n",
       "      <td>[38.9007, -77.043098]</td>\n",
       "      <td>NaN</td>\n",
       "      <td>NaN</td>\n",
       "    </tr>\n",
       "    <tr>\n",
       "      <th>3</th>\n",
       "      <td>Mozilla/5.0 (Macintosh; Intel Mac OS X 10_6_8)...</td>\n",
       "      <td>BR</td>\n",
       "      <td>0.0</td>\n",
       "      <td>America/Sao_Paulo</td>\n",
       "      <td>27</td>\n",
       "      <td>zCaLwp</td>\n",
       "      <td>zUtuOu</td>\n",
       "      <td>alelex88</td>\n",
       "      <td>pt-br</td>\n",
       "      <td>1.usa.gov</td>\n",
       "      <td>direct</td>\n",
       "      <td>http://apod.nasa.gov/apod/ap120312.html</td>\n",
       "      <td>1.331923e+09</td>\n",
       "      <td>1.331923e+09</td>\n",
       "      <td>Braz</td>\n",
       "      <td>[-23.549999, -46.616699]</td>\n",
       "      <td>NaN</td>\n",
       "      <td>NaN</td>\n",
       "    </tr>\n",
       "    <tr>\n",
       "      <th>4</th>\n",
       "      <td>Mozilla/5.0 (Windows NT 6.1; WOW64) AppleWebKi...</td>\n",
       "      <td>US</td>\n",
       "      <td>0.0</td>\n",
       "      <td>America/New_York</td>\n",
       "      <td>MA</td>\n",
       "      <td>9b6kNl</td>\n",
       "      <td>9b6kNl</td>\n",
       "      <td>bitly</td>\n",
       "      <td>en-US,en;q=0.8</td>\n",
       "      <td>bit.ly</td>\n",
       "      <td>http://www.shrewsbury-ma.gov/selco/</td>\n",
       "      <td>http://www.shrewsbury-ma.gov/egov/gallery/1341...</td>\n",
       "      <td>1.331923e+09</td>\n",
       "      <td>1.273672e+09</td>\n",
       "      <td>Shrewsbury</td>\n",
       "      <td>[42.286499, -71.714699]</td>\n",
       "      <td>NaN</td>\n",
       "      <td>NaN</td>\n",
       "    </tr>\n",
       "  </tbody>\n",
       "</table>\n",
       "</div>"
      ],
      "text/plain": [
       "                                                   a   c   nk  \\\n",
       "0  Mozilla/5.0 (Windows NT 6.1; WOW64) AppleWebKi...  US  1.0   \n",
       "1                             GoogleMaps/RochesterNY  US  0.0   \n",
       "2  Mozilla/4.0 (compatible; MSIE 8.0; Windows NT ...  US  1.0   \n",
       "3  Mozilla/5.0 (Macintosh; Intel Mac OS X 10_6_8)...  BR  0.0   \n",
       "4  Mozilla/5.0 (Windows NT 6.1; WOW64) AppleWebKi...  US  0.0   \n",
       "\n",
       "                  tz  gr       g       h         l              al         hh  \\\n",
       "0   America/New_York  MA  A6qOVH  wfLQtf   orofrog  en-US,en;q=0.8  1.usa.gov   \n",
       "1     America/Denver  UT  mwszkS  mwszkS     bitly             NaN       j.mp   \n",
       "2   America/New_York  DC  xxr3Qb  xxr3Qb     bitly           en-US  1.usa.gov   \n",
       "3  America/Sao_Paulo  27  zCaLwp  zUtuOu  alelex88           pt-br  1.usa.gov   \n",
       "4   America/New_York  MA  9b6kNl  9b6kNl     bitly  en-US,en;q=0.8     bit.ly   \n",
       "\n",
       "                                                   r  \\\n",
       "0  http://www.facebook.com/l/7AQEFzjSi/1.usa.gov/...   \n",
       "1                           http://www.AwareMap.com/   \n",
       "2                               http://t.co/03elZC4Q   \n",
       "3                                             direct   \n",
       "4                http://www.shrewsbury-ma.gov/selco/   \n",
       "\n",
       "                                                   u             t  \\\n",
       "0        http://www.ncbi.nlm.nih.gov/pubmed/22415991  1.331923e+09   \n",
       "1        http://www.monroecounty.gov/etc/911/rss.php  1.331923e+09   \n",
       "2  http://boxer.senate.gov/en/press/releases/0316...  1.331923e+09   \n",
       "3            http://apod.nasa.gov/apod/ap120312.html  1.331923e+09   \n",
       "4  http://www.shrewsbury-ma.gov/egov/gallery/1341...  1.331923e+09   \n",
       "\n",
       "             hc          cy                        ll  _heartbeat_   kw  \n",
       "0  1.331823e+09     Danvers   [42.576698, -70.954903]          NaN  NaN  \n",
       "1  1.308262e+09       Provo  [40.218102, -111.613297]          NaN  NaN  \n",
       "2  1.331920e+09  Washington     [38.9007, -77.043098]          NaN  NaN  \n",
       "3  1.331923e+09        Braz  [-23.549999, -46.616699]          NaN  NaN  \n",
       "4  1.273672e+09  Shrewsbury   [42.286499, -71.714699]          NaN  NaN  "
      ]
     },
     "execution_count": 8,
     "metadata": {},
     "output_type": "execute_result"
    }
   ],
   "source": [
    "df = pd.DataFrame(records)\n",
    "df.head()"
   ]
  },
  {
   "cell_type": "markdown",
   "metadata": {},
   "source": [
    "### Q1.1,   How many records are in the Dataframe? (In Camino, pick the right number)"
   ]
  },
  {
   "cell_type": "code",
   "execution_count": 9,
   "metadata": {},
   "outputs": [],
   "source": [
    "num_records = df.shape[0]"
   ]
  },
  {
   "cell_type": "code",
   "execution_count": 10,
   "metadata": {},
   "outputs": [],
   "source": [
    "num_records = len(df)"
   ]
  },
  {
   "cell_type": "code",
   "execution_count": 11,
   "metadata": {},
   "outputs": [
    {
     "data": {
      "text/plain": [
       "3560"
      ]
     },
     "execution_count": 11,
     "metadata": {},
     "output_type": "execute_result"
    }
   ],
   "source": [
    "num_records"
   ]
  },
  {
   "cell_type": "markdown",
   "metadata": {},
   "source": [
    "### Q1.2,   In column city('cy'), how many records are Nan? (In Camino, pick the right number)"
   ]
  },
  {
   "cell_type": "code",
   "execution_count": 12,
   "metadata": {},
   "outputs": [],
   "source": [
    "num_nan_records = df['cy'].isna().sum()"
   ]
  },
  {
   "cell_type": "code",
   "execution_count": 13,
   "metadata": {},
   "outputs": [
    {
     "data": {
      "text/plain": [
       "641"
      ]
     },
     "execution_count": 13,
     "metadata": {},
     "output_type": "execute_result"
    }
   ],
   "source": [
    "num_nan_records"
   ]
  },
  {
   "cell_type": "markdown",
   "metadata": {},
   "source": [
    "### Q1.3,   Exclude Nan, how many different countries this dataset include?  (In Camino, pick the right number)"
   ]
  },
  {
   "cell_type": "code",
   "execution_count": 14,
   "metadata": {},
   "outputs": [],
   "source": [
    "num_unique_countries = df['c'].nunique()"
   ]
  },
  {
   "cell_type": "code",
   "execution_count": 15,
   "metadata": {},
   "outputs": [
    {
     "data": {
      "text/plain": [
       "71"
      ]
     },
     "execution_count": 15,
     "metadata": {},
     "output_type": "execute_result"
    }
   ],
   "source": [
    "num_unique_countries"
   ]
  },
  {
   "cell_type": "markdown",
   "metadata": {},
   "source": [
    "### Q1.4, Outside of US, what's the top 5 cities use this Bitly service? (In Camino, choose the  city name with the most usage)"
   ]
  },
  {
   "cell_type": "code",
   "execution_count": 16,
   "metadata": {},
   "outputs": [
    {
     "data": {
      "text/html": [
       "<div>\n",
       "<style scoped>\n",
       "    .dataframe tbody tr th:only-of-type {\n",
       "        vertical-align: middle;\n",
       "    }\n",
       "\n",
       "    .dataframe tbody tr th {\n",
       "        vertical-align: top;\n",
       "    }\n",
       "\n",
       "    .dataframe thead th {\n",
       "        text-align: right;\n",
       "    }\n",
       "</style>\n",
       "<table border=\"1\" class=\"dataframe\">\n",
       "  <thead>\n",
       "    <tr style=\"text-align: right;\">\n",
       "      <th></th>\n",
       "      <th>a</th>\n",
       "      <th>c</th>\n",
       "      <th>nk</th>\n",
       "      <th>tz</th>\n",
       "      <th>gr</th>\n",
       "      <th>g</th>\n",
       "      <th>h</th>\n",
       "      <th>l</th>\n",
       "      <th>al</th>\n",
       "      <th>hh</th>\n",
       "      <th>r</th>\n",
       "      <th>u</th>\n",
       "      <th>t</th>\n",
       "      <th>hc</th>\n",
       "      <th>cy</th>\n",
       "      <th>ll</th>\n",
       "      <th>_heartbeat_</th>\n",
       "      <th>kw</th>\n",
       "    </tr>\n",
       "  </thead>\n",
       "  <tbody>\n",
       "    <tr>\n",
       "      <th>3</th>\n",
       "      <td>Mozilla/5.0 (Macintosh; Intel Mac OS X 10_6_8)...</td>\n",
       "      <td>BR</td>\n",
       "      <td>0.0</td>\n",
       "      <td>America/Sao_Paulo</td>\n",
       "      <td>27</td>\n",
       "      <td>zCaLwp</td>\n",
       "      <td>zUtuOu</td>\n",
       "      <td>alelex88</td>\n",
       "      <td>pt-br</td>\n",
       "      <td>1.usa.gov</td>\n",
       "      <td>direct</td>\n",
       "      <td>http://apod.nasa.gov/apod/ap120312.html</td>\n",
       "      <td>1.331923e+09</td>\n",
       "      <td>1.331923e+09</td>\n",
       "      <td>Braz</td>\n",
       "      <td>[-23.549999, -46.616699]</td>\n",
       "      <td>NaN</td>\n",
       "      <td>NaN</td>\n",
       "    </tr>\n",
       "    <tr>\n",
       "      <th>6</th>\n",
       "      <td>Mozilla/5.0 (Windows NT 5.1) AppleWebKit/535.1...</td>\n",
       "      <td>PL</td>\n",
       "      <td>0.0</td>\n",
       "      <td>Europe/Warsaw</td>\n",
       "      <td>77</td>\n",
       "      <td>wcndER</td>\n",
       "      <td>zkpJBR</td>\n",
       "      <td>bnjacobs</td>\n",
       "      <td>pl-PL,pl;q=0.8,en-US;q=0.6,en;q=0.4</td>\n",
       "      <td>1.usa.gov</td>\n",
       "      <td>http://plus.url.google.com/url?sa=z&amp;n=13319232...</td>\n",
       "      <td>http://www.nasa.gov/mission_pages/nustar/main/...</td>\n",
       "      <td>1.331923e+09</td>\n",
       "      <td>1.331923e+09</td>\n",
       "      <td>Luban</td>\n",
       "      <td>[51.116699, 15.2833]</td>\n",
       "      <td>NaN</td>\n",
       "      <td>NaN</td>\n",
       "    </tr>\n",
       "    <tr>\n",
       "      <th>7</th>\n",
       "      <td>Mozilla/5.0 (Windows NT 6.1; rv:2.0.1) Gecko/2...</td>\n",
       "      <td>None</td>\n",
       "      <td>0.0</td>\n",
       "      <td></td>\n",
       "      <td>NaN</td>\n",
       "      <td>wcndER</td>\n",
       "      <td>zkpJBR</td>\n",
       "      <td>bnjacobs</td>\n",
       "      <td>bg,en-us;q=0.7,en;q=0.3</td>\n",
       "      <td>1.usa.gov</td>\n",
       "      <td>http://www.facebook.com/</td>\n",
       "      <td>http://www.nasa.gov/mission_pages/nustar/main/...</td>\n",
       "      <td>1.331923e+09</td>\n",
       "      <td>1.331923e+09</td>\n",
       "      <td>NaN</td>\n",
       "      <td>NaN</td>\n",
       "      <td>NaN</td>\n",
       "      <td>NaN</td>\n",
       "    </tr>\n",
       "    <tr>\n",
       "      <th>8</th>\n",
       "      <td>Opera/9.80 (X11; Linux zbov; U; en) Presto/2.1...</td>\n",
       "      <td>None</td>\n",
       "      <td>0.0</td>\n",
       "      <td></td>\n",
       "      <td>NaN</td>\n",
       "      <td>wcndER</td>\n",
       "      <td>zkpJBR</td>\n",
       "      <td>bnjacobs</td>\n",
       "      <td>en-US, en</td>\n",
       "      <td>1.usa.gov</td>\n",
       "      <td>http://www.facebook.com/l.php?u=http%3A%2F%2F1...</td>\n",
       "      <td>http://www.nasa.gov/mission_pages/nustar/main/...</td>\n",
       "      <td>1.331923e+09</td>\n",
       "      <td>1.331923e+09</td>\n",
       "      <td>NaN</td>\n",
       "      <td>NaN</td>\n",
       "      <td>NaN</td>\n",
       "      <td>NaN</td>\n",
       "    </tr>\n",
       "    <tr>\n",
       "      <th>9</th>\n",
       "      <td>Mozilla/5.0 (Windows NT 6.1; WOW64) AppleWebKi...</td>\n",
       "      <td>None</td>\n",
       "      <td>0.0</td>\n",
       "      <td></td>\n",
       "      <td>NaN</td>\n",
       "      <td>zCaLwp</td>\n",
       "      <td>zUtuOu</td>\n",
       "      <td>alelex88</td>\n",
       "      <td>pt-BR,pt;q=0.8,en-US;q=0.6,en;q=0.4</td>\n",
       "      <td>1.usa.gov</td>\n",
       "      <td>http://t.co/o1Pd0WeV</td>\n",
       "      <td>http://apod.nasa.gov/apod/ap120312.html</td>\n",
       "      <td>1.331923e+09</td>\n",
       "      <td>1.331923e+09</td>\n",
       "      <td>NaN</td>\n",
       "      <td>NaN</td>\n",
       "      <td>NaN</td>\n",
       "      <td>NaN</td>\n",
       "    </tr>\n",
       "  </tbody>\n",
       "</table>\n",
       "</div>"
      ],
      "text/plain": [
       "                                                   a     c   nk  \\\n",
       "3  Mozilla/5.0 (Macintosh; Intel Mac OS X 10_6_8)...    BR  0.0   \n",
       "6  Mozilla/5.0 (Windows NT 5.1) AppleWebKit/535.1...    PL  0.0   \n",
       "7  Mozilla/5.0 (Windows NT 6.1; rv:2.0.1) Gecko/2...  None  0.0   \n",
       "8  Opera/9.80 (X11; Linux zbov; U; en) Presto/2.1...  None  0.0   \n",
       "9  Mozilla/5.0 (Windows NT 6.1; WOW64) AppleWebKi...  None  0.0   \n",
       "\n",
       "                  tz   gr       g       h         l  \\\n",
       "3  America/Sao_Paulo   27  zCaLwp  zUtuOu  alelex88   \n",
       "6      Europe/Warsaw   77  wcndER  zkpJBR  bnjacobs   \n",
       "7                     NaN  wcndER  zkpJBR  bnjacobs   \n",
       "8                     NaN  wcndER  zkpJBR  bnjacobs   \n",
       "9                     NaN  zCaLwp  zUtuOu  alelex88   \n",
       "\n",
       "                                    al         hh  \\\n",
       "3                                pt-br  1.usa.gov   \n",
       "6  pl-PL,pl;q=0.8,en-US;q=0.6,en;q=0.4  1.usa.gov   \n",
       "7              bg,en-us;q=0.7,en;q=0.3  1.usa.gov   \n",
       "8                            en-US, en  1.usa.gov   \n",
       "9  pt-BR,pt;q=0.8,en-US;q=0.6,en;q=0.4  1.usa.gov   \n",
       "\n",
       "                                                   r  \\\n",
       "3                                             direct   \n",
       "6  http://plus.url.google.com/url?sa=z&n=13319232...   \n",
       "7                           http://www.facebook.com/   \n",
       "8  http://www.facebook.com/l.php?u=http%3A%2F%2F1...   \n",
       "9                               http://t.co/o1Pd0WeV   \n",
       "\n",
       "                                                   u             t  \\\n",
       "3            http://apod.nasa.gov/apod/ap120312.html  1.331923e+09   \n",
       "6  http://www.nasa.gov/mission_pages/nustar/main/...  1.331923e+09   \n",
       "7  http://www.nasa.gov/mission_pages/nustar/main/...  1.331923e+09   \n",
       "8  http://www.nasa.gov/mission_pages/nustar/main/...  1.331923e+09   \n",
       "9            http://apod.nasa.gov/apod/ap120312.html  1.331923e+09   \n",
       "\n",
       "             hc     cy                        ll  _heartbeat_   kw  \n",
       "3  1.331923e+09   Braz  [-23.549999, -46.616699]          NaN  NaN  \n",
       "6  1.331923e+09  Luban      [51.116699, 15.2833]          NaN  NaN  \n",
       "7  1.331923e+09    NaN                       NaN          NaN  NaN  \n",
       "8  1.331923e+09    NaN                       NaN          NaN  NaN  \n",
       "9  1.331923e+09    NaN                       NaN          NaN  NaN  "
      ]
     },
     "execution_count": 16,
     "metadata": {},
     "output_type": "execute_result"
    }
   ],
   "source": [
    "df_non_us = df[df['c'] != 'US']\n",
    "df_non_us.head()"
   ]
  },
  {
   "cell_type": "code",
   "execution_count": 17,
   "metadata": {},
   "outputs": [
    {
     "data": {
      "text/plain": [
       "Nogata    29\n",
       "London    16\n",
       "Madrid    13\n",
       "Mexico    12\n",
       "SPaulo    11\n",
       "Name: cy, dtype: int64"
      ]
     },
     "execution_count": 17,
     "metadata": {},
     "output_type": "execute_result"
    }
   ],
   "source": [
    "city_counts = df_non_us['cy'].value_counts()\n",
    "city_counts.head()"
   ]
  },
  {
   "cell_type": "code",
   "execution_count": 18,
   "metadata": {},
   "outputs": [],
   "source": [
    "top_5_cities = city_counts.head(5)"
   ]
  },
  {
   "cell_type": "code",
   "execution_count": 19,
   "metadata": {},
   "outputs": [
    {
     "name": "stdout",
     "output_type": "stream",
     "text": [
      "Nogata    29\n",
      "London    16\n",
      "Madrid    13\n",
      "Mexico    12\n",
      "SPaulo    11\n",
      "Name: cy, dtype: int64\n"
     ]
    }
   ],
   "source": [
    "print(top_5_cities)"
   ]
  },
  {
   "cell_type": "markdown",
   "metadata": {},
   "source": [
    "## Q2"
   ]
  },
  {
   "cell_type": "markdown",
   "metadata": {},
   "source": [
    "### Q2.1, How many records are from Russia?  (In Camino, pick the right number)"
   ]
  },
  {
   "cell_type": "code",
   "execution_count": 20,
   "metadata": {},
   "outputs": [],
   "source": [
    "num_records_russia = df[df['c'] == 'RU'].shape[0]"
   ]
  },
  {
   "cell_type": "code",
   "execution_count": 21,
   "metadata": {},
   "outputs": [
    {
     "data": {
      "text/plain": [
       "13"
      ]
     },
     "execution_count": 21,
     "metadata": {},
     "output_type": "execute_result"
    }
   ],
   "source": [
    "num_records_russia"
   ]
  },
  {
   "cell_type": "markdown",
   "metadata": {},
   "source": [
    "### Q2.2, In those records, which city has the highest usage count ?  (In Camino, pick the right city name)"
   ]
  },
  {
   "cell_type": "code",
   "execution_count": 22,
   "metadata": {},
   "outputs": [
    {
     "data": {
      "text/html": [
       "<div>\n",
       "<style scoped>\n",
       "    .dataframe tbody tr th:only-of-type {\n",
       "        vertical-align: middle;\n",
       "    }\n",
       "\n",
       "    .dataframe tbody tr th {\n",
       "        vertical-align: top;\n",
       "    }\n",
       "\n",
       "    .dataframe thead th {\n",
       "        text-align: right;\n",
       "    }\n",
       "</style>\n",
       "<table border=\"1\" class=\"dataframe\">\n",
       "  <thead>\n",
       "    <tr style=\"text-align: right;\">\n",
       "      <th></th>\n",
       "      <th>a</th>\n",
       "      <th>c</th>\n",
       "      <th>nk</th>\n",
       "      <th>tz</th>\n",
       "      <th>gr</th>\n",
       "      <th>g</th>\n",
       "      <th>h</th>\n",
       "      <th>l</th>\n",
       "      <th>al</th>\n",
       "      <th>hh</th>\n",
       "      <th>r</th>\n",
       "      <th>u</th>\n",
       "      <th>t</th>\n",
       "      <th>hc</th>\n",
       "      <th>cy</th>\n",
       "      <th>ll</th>\n",
       "      <th>_heartbeat_</th>\n",
       "      <th>kw</th>\n",
       "    </tr>\n",
       "  </thead>\n",
       "  <tbody>\n",
       "    <tr>\n",
       "      <th>498</th>\n",
       "      <td>Opera/9.80 (Windows NT 5.1; U; ru) Presto/2.9....</td>\n",
       "      <td>RU</td>\n",
       "      <td>0.0</td>\n",
       "      <td>Asia/Novosibirsk</td>\n",
       "      <td>53</td>\n",
       "      <td>xVZg4P</td>\n",
       "      <td>wqUkTo</td>\n",
       "      <td>nasatwitter</td>\n",
       "      <td>ru-RU,ru;q=0.9,en;q=0.8</td>\n",
       "      <td>go.nasa.gov</td>\n",
       "      <td>direct</td>\n",
       "      <td>http://www.nasa.gov/multimedia/imagegallery/im...</td>\n",
       "      <td>1.331924e+09</td>\n",
       "      <td>1.331908e+09</td>\n",
       "      <td>Novosibirsk</td>\n",
       "      <td>[55.0411, 82.934402]</td>\n",
       "      <td>NaN</td>\n",
       "      <td>NaN</td>\n",
       "    </tr>\n",
       "    <tr>\n",
       "      <th>555</th>\n",
       "      <td>Mozilla/5.0 (Windows NT 6.1; WOW64) AppleWebKi...</td>\n",
       "      <td>RU</td>\n",
       "      <td>0.0</td>\n",
       "      <td>Europe/Moscow</td>\n",
       "      <td>48</td>\n",
       "      <td>wcndER</td>\n",
       "      <td>zkpJBR</td>\n",
       "      <td>bnjacobs</td>\n",
       "      <td>en-GB,en-US;q=0.8,en;q=0.6</td>\n",
       "      <td>1.usa.gov</td>\n",
       "      <td>http://www.facebook.com/l.php?u=http%3A%2F%2F1...</td>\n",
       "      <td>http://www.nasa.gov/mission_pages/nustar/main/...</td>\n",
       "      <td>1.331924e+09</td>\n",
       "      <td>1.331923e+09</td>\n",
       "      <td>Moscow</td>\n",
       "      <td>[55.752201, 37.615601]</td>\n",
       "      <td>NaN</td>\n",
       "      <td>NaN</td>\n",
       "    </tr>\n",
       "    <tr>\n",
       "      <th>764</th>\n",
       "      <td>Opera/9.80 (Windows NT 5.1; U; ru) Presto/2.10...</td>\n",
       "      <td>RU</td>\n",
       "      <td>0.0</td>\n",
       "      <td>Europe/Moscow</td>\n",
       "      <td>66</td>\n",
       "      <td>Ch5wd</td>\n",
       "      <td>FOjduY</td>\n",
       "      <td>tweetdeckapi</td>\n",
       "      <td>ru-RU,ru;q=0.9,en;q=0.8</td>\n",
       "      <td>1.usa.gov</td>\n",
       "      <td>direct</td>\n",
       "      <td>https://www.cia.gov/library/publications/world...</td>\n",
       "      <td>1.331924e+09</td>\n",
       "      <td>1.331924e+09</td>\n",
       "      <td>Saint Petersburg</td>\n",
       "      <td>[59.894402, 30.2642]</td>\n",
       "      <td>NaN</td>\n",
       "      <td>NaN</td>\n",
       "    </tr>\n",
       "    <tr>\n",
       "      <th>777</th>\n",
       "      <td>Mozilla/4.0 (compatible; MSIE 8.0; Windows NT ...</td>\n",
       "      <td>RU</td>\n",
       "      <td>0.0</td>\n",
       "      <td>Europe/Moscow</td>\n",
       "      <td>48</td>\n",
       "      <td>16e1jo</td>\n",
       "      <td>dJY67O</td>\n",
       "      <td>tmartin</td>\n",
       "      <td>ru</td>\n",
       "      <td>prks.org</td>\n",
       "      <td>http://yandex.ru/yandsearch?text=prks.org&amp;lr=213</td>\n",
       "      <td>http://www.nps.gov/getaways/</td>\n",
       "      <td>1.331924e+09</td>\n",
       "      <td>1.301482e+09</td>\n",
       "      <td>Moscow</td>\n",
       "      <td>[55.752201, 37.615601]</td>\n",
       "      <td>NaN</td>\n",
       "      <td>NaN</td>\n",
       "    </tr>\n",
       "    <tr>\n",
       "      <th>1137</th>\n",
       "      <td>Mozilla/5.0 (Windows NT 6.1) AppleWebKit/535.7...</td>\n",
       "      <td>RU</td>\n",
       "      <td>0.0</td>\n",
       "      <td>Asia/Yekaterinburg</td>\n",
       "      <td>33</td>\n",
       "      <td>wcndER</td>\n",
       "      <td>zkpJBR</td>\n",
       "      <td>bnjacobs</td>\n",
       "      <td>en-US,en;q=0.8</td>\n",
       "      <td>1.usa.gov</td>\n",
       "      <td>http://www.facebook.com/</td>\n",
       "      <td>http://www.nasa.gov/mission_pages/nustar/main/...</td>\n",
       "      <td>1.331924e+09</td>\n",
       "      <td>1.331923e+09</td>\n",
       "      <td>Kirov</td>\n",
       "      <td>[58.596901, 49.658298]</td>\n",
       "      <td>NaN</td>\n",
       "      <td>NaN</td>\n",
       "    </tr>\n",
       "  </tbody>\n",
       "</table>\n",
       "</div>"
      ],
      "text/plain": [
       "                                                      a   c   nk  \\\n",
       "498   Opera/9.80 (Windows NT 5.1; U; ru) Presto/2.9....  RU  0.0   \n",
       "555   Mozilla/5.0 (Windows NT 6.1; WOW64) AppleWebKi...  RU  0.0   \n",
       "764   Opera/9.80 (Windows NT 5.1; U; ru) Presto/2.10...  RU  0.0   \n",
       "777   Mozilla/4.0 (compatible; MSIE 8.0; Windows NT ...  RU  0.0   \n",
       "1137  Mozilla/5.0 (Windows NT 6.1) AppleWebKit/535.7...  RU  0.0   \n",
       "\n",
       "                      tz  gr       g       h             l  \\\n",
       "498     Asia/Novosibirsk  53  xVZg4P  wqUkTo   nasatwitter   \n",
       "555        Europe/Moscow  48  wcndER  zkpJBR      bnjacobs   \n",
       "764        Europe/Moscow  66   Ch5wd  FOjduY  tweetdeckapi   \n",
       "777        Europe/Moscow  48  16e1jo  dJY67O       tmartin   \n",
       "1137  Asia/Yekaterinburg  33  wcndER  zkpJBR      bnjacobs   \n",
       "\n",
       "                              al           hh  \\\n",
       "498      ru-RU,ru;q=0.9,en;q=0.8  go.nasa.gov   \n",
       "555   en-GB,en-US;q=0.8,en;q=0.6    1.usa.gov   \n",
       "764      ru-RU,ru;q=0.9,en;q=0.8    1.usa.gov   \n",
       "777                           ru     prks.org   \n",
       "1137              en-US,en;q=0.8    1.usa.gov   \n",
       "\n",
       "                                                      r  \\\n",
       "498                                              direct   \n",
       "555   http://www.facebook.com/l.php?u=http%3A%2F%2F1...   \n",
       "764                                              direct   \n",
       "777    http://yandex.ru/yandsearch?text=prks.org&lr=213   \n",
       "1137                           http://www.facebook.com/   \n",
       "\n",
       "                                                      u             t  \\\n",
       "498   http://www.nasa.gov/multimedia/imagegallery/im...  1.331924e+09   \n",
       "555   http://www.nasa.gov/mission_pages/nustar/main/...  1.331924e+09   \n",
       "764   https://www.cia.gov/library/publications/world...  1.331924e+09   \n",
       "777                        http://www.nps.gov/getaways/  1.331924e+09   \n",
       "1137  http://www.nasa.gov/mission_pages/nustar/main/...  1.331924e+09   \n",
       "\n",
       "                hc                cy                      ll  _heartbeat_   kw  \n",
       "498   1.331908e+09       Novosibirsk    [55.0411, 82.934402]          NaN  NaN  \n",
       "555   1.331923e+09            Moscow  [55.752201, 37.615601]          NaN  NaN  \n",
       "764   1.331924e+09  Saint Petersburg    [59.894402, 30.2642]          NaN  NaN  \n",
       "777   1.301482e+09            Moscow  [55.752201, 37.615601]          NaN  NaN  \n",
       "1137  1.331923e+09             Kirov  [58.596901, 49.658298]          NaN  NaN  "
      ]
     },
     "execution_count": 22,
     "metadata": {},
     "output_type": "execute_result"
    }
   ],
   "source": [
    "russia_df = df[df['c'] == 'RU']\n",
    "russia_df.head()"
   ]
  },
  {
   "cell_type": "code",
   "execution_count": 23,
   "metadata": {},
   "outputs": [
    {
     "data": {
      "text/plain": [
       "Moscow              8\n",
       "Saint Petersburg    2\n",
       "Novosibirsk         1\n",
       "Kirov               1\n",
       "Krasnodar           1\n",
       "Name: cy, dtype: int64"
      ]
     },
     "execution_count": 23,
     "metadata": {},
     "output_type": "execute_result"
    }
   ],
   "source": [
    "city_counts = russia_df['cy'].value_counts()\n",
    "city_counts.head()"
   ]
  },
  {
   "cell_type": "code",
   "execution_count": 24,
   "metadata": {},
   "outputs": [],
   "source": [
    "top_city = city_counts.idxmax()\n",
    "top_city_count = city_counts.max()"
   ]
  },
  {
   "cell_type": "code",
   "execution_count": 25,
   "metadata": {},
   "outputs": [
    {
     "data": {
      "text/plain": [
       "8"
      ]
     },
     "execution_count": 25,
     "metadata": {},
     "output_type": "execute_result"
    }
   ],
   "source": [
    "top_city_count"
   ]
  },
  {
   "cell_type": "markdown",
   "metadata": {},
   "source": [
    "### Q2.3, In those records, how many access to cia.gov  (In Camino, pick the right number) "
   ]
  },
  {
   "cell_type": "code",
   "execution_count": 26,
   "metadata": {},
   "outputs": [
    {
     "data": {
      "text/html": [
       "<div>\n",
       "<style scoped>\n",
       "    .dataframe tbody tr th:only-of-type {\n",
       "        vertical-align: middle;\n",
       "    }\n",
       "\n",
       "    .dataframe tbody tr th {\n",
       "        vertical-align: top;\n",
       "    }\n",
       "\n",
       "    .dataframe thead th {\n",
       "        text-align: right;\n",
       "    }\n",
       "</style>\n",
       "<table border=\"1\" class=\"dataframe\">\n",
       "  <thead>\n",
       "    <tr style=\"text-align: right;\">\n",
       "      <th></th>\n",
       "      <th>a</th>\n",
       "      <th>c</th>\n",
       "      <th>nk</th>\n",
       "      <th>tz</th>\n",
       "      <th>gr</th>\n",
       "      <th>g</th>\n",
       "      <th>h</th>\n",
       "      <th>l</th>\n",
       "      <th>al</th>\n",
       "      <th>hh</th>\n",
       "      <th>r</th>\n",
       "      <th>u</th>\n",
       "      <th>t</th>\n",
       "      <th>hc</th>\n",
       "      <th>cy</th>\n",
       "      <th>ll</th>\n",
       "      <th>_heartbeat_</th>\n",
       "      <th>kw</th>\n",
       "    </tr>\n",
       "  </thead>\n",
       "  <tbody>\n",
       "    <tr>\n",
       "      <th>498</th>\n",
       "      <td>Opera/9.80 (Windows NT 5.1; U; ru) Presto/2.9....</td>\n",
       "      <td>RU</td>\n",
       "      <td>0.0</td>\n",
       "      <td>Asia/Novosibirsk</td>\n",
       "      <td>53</td>\n",
       "      <td>xVZg4P</td>\n",
       "      <td>wqUkTo</td>\n",
       "      <td>nasatwitter</td>\n",
       "      <td>ru-RU,ru;q=0.9,en;q=0.8</td>\n",
       "      <td>go.nasa.gov</td>\n",
       "      <td>direct</td>\n",
       "      <td>http://www.nasa.gov/multimedia/imagegallery/im...</td>\n",
       "      <td>1.331924e+09</td>\n",
       "      <td>1.331908e+09</td>\n",
       "      <td>Novosibirsk</td>\n",
       "      <td>[55.0411, 82.934402]</td>\n",
       "      <td>NaN</td>\n",
       "      <td>NaN</td>\n",
       "    </tr>\n",
       "    <tr>\n",
       "      <th>555</th>\n",
       "      <td>Mozilla/5.0 (Windows NT 6.1; WOW64) AppleWebKi...</td>\n",
       "      <td>RU</td>\n",
       "      <td>0.0</td>\n",
       "      <td>Europe/Moscow</td>\n",
       "      <td>48</td>\n",
       "      <td>wcndER</td>\n",
       "      <td>zkpJBR</td>\n",
       "      <td>bnjacobs</td>\n",
       "      <td>en-GB,en-US;q=0.8,en;q=0.6</td>\n",
       "      <td>1.usa.gov</td>\n",
       "      <td>http://www.facebook.com/l.php?u=http%3A%2F%2F1...</td>\n",
       "      <td>http://www.nasa.gov/mission_pages/nustar/main/...</td>\n",
       "      <td>1.331924e+09</td>\n",
       "      <td>1.331923e+09</td>\n",
       "      <td>Moscow</td>\n",
       "      <td>[55.752201, 37.615601]</td>\n",
       "      <td>NaN</td>\n",
       "      <td>NaN</td>\n",
       "    </tr>\n",
       "    <tr>\n",
       "      <th>764</th>\n",
       "      <td>Opera/9.80 (Windows NT 5.1; U; ru) Presto/2.10...</td>\n",
       "      <td>RU</td>\n",
       "      <td>0.0</td>\n",
       "      <td>Europe/Moscow</td>\n",
       "      <td>66</td>\n",
       "      <td>Ch5wd</td>\n",
       "      <td>FOjduY</td>\n",
       "      <td>tweetdeckapi</td>\n",
       "      <td>ru-RU,ru;q=0.9,en;q=0.8</td>\n",
       "      <td>1.usa.gov</td>\n",
       "      <td>direct</td>\n",
       "      <td>https://www.cia.gov/library/publications/world...</td>\n",
       "      <td>1.331924e+09</td>\n",
       "      <td>1.331924e+09</td>\n",
       "      <td>Saint Petersburg</td>\n",
       "      <td>[59.894402, 30.2642]</td>\n",
       "      <td>NaN</td>\n",
       "      <td>NaN</td>\n",
       "    </tr>\n",
       "    <tr>\n",
       "      <th>777</th>\n",
       "      <td>Mozilla/4.0 (compatible; MSIE 8.0; Windows NT ...</td>\n",
       "      <td>RU</td>\n",
       "      <td>0.0</td>\n",
       "      <td>Europe/Moscow</td>\n",
       "      <td>48</td>\n",
       "      <td>16e1jo</td>\n",
       "      <td>dJY67O</td>\n",
       "      <td>tmartin</td>\n",
       "      <td>ru</td>\n",
       "      <td>prks.org</td>\n",
       "      <td>http://yandex.ru/yandsearch?text=prks.org&amp;lr=213</td>\n",
       "      <td>http://www.nps.gov/getaways/</td>\n",
       "      <td>1.331924e+09</td>\n",
       "      <td>1.301482e+09</td>\n",
       "      <td>Moscow</td>\n",
       "      <td>[55.752201, 37.615601]</td>\n",
       "      <td>NaN</td>\n",
       "      <td>NaN</td>\n",
       "    </tr>\n",
       "    <tr>\n",
       "      <th>1137</th>\n",
       "      <td>Mozilla/5.0 (Windows NT 6.1) AppleWebKit/535.7...</td>\n",
       "      <td>RU</td>\n",
       "      <td>0.0</td>\n",
       "      <td>Asia/Yekaterinburg</td>\n",
       "      <td>33</td>\n",
       "      <td>wcndER</td>\n",
       "      <td>zkpJBR</td>\n",
       "      <td>bnjacobs</td>\n",
       "      <td>en-US,en;q=0.8</td>\n",
       "      <td>1.usa.gov</td>\n",
       "      <td>http://www.facebook.com/</td>\n",
       "      <td>http://www.nasa.gov/mission_pages/nustar/main/...</td>\n",
       "      <td>1.331924e+09</td>\n",
       "      <td>1.331923e+09</td>\n",
       "      <td>Kirov</td>\n",
       "      <td>[58.596901, 49.658298]</td>\n",
       "      <td>NaN</td>\n",
       "      <td>NaN</td>\n",
       "    </tr>\n",
       "  </tbody>\n",
       "</table>\n",
       "</div>"
      ],
      "text/plain": [
       "                                                      a   c   nk  \\\n",
       "498   Opera/9.80 (Windows NT 5.1; U; ru) Presto/2.9....  RU  0.0   \n",
       "555   Mozilla/5.0 (Windows NT 6.1; WOW64) AppleWebKi...  RU  0.0   \n",
       "764   Opera/9.80 (Windows NT 5.1; U; ru) Presto/2.10...  RU  0.0   \n",
       "777   Mozilla/4.0 (compatible; MSIE 8.0; Windows NT ...  RU  0.0   \n",
       "1137  Mozilla/5.0 (Windows NT 6.1) AppleWebKit/535.7...  RU  0.0   \n",
       "\n",
       "                      tz  gr       g       h             l  \\\n",
       "498     Asia/Novosibirsk  53  xVZg4P  wqUkTo   nasatwitter   \n",
       "555        Europe/Moscow  48  wcndER  zkpJBR      bnjacobs   \n",
       "764        Europe/Moscow  66   Ch5wd  FOjduY  tweetdeckapi   \n",
       "777        Europe/Moscow  48  16e1jo  dJY67O       tmartin   \n",
       "1137  Asia/Yekaterinburg  33  wcndER  zkpJBR      bnjacobs   \n",
       "\n",
       "                              al           hh  \\\n",
       "498      ru-RU,ru;q=0.9,en;q=0.8  go.nasa.gov   \n",
       "555   en-GB,en-US;q=0.8,en;q=0.6    1.usa.gov   \n",
       "764      ru-RU,ru;q=0.9,en;q=0.8    1.usa.gov   \n",
       "777                           ru     prks.org   \n",
       "1137              en-US,en;q=0.8    1.usa.gov   \n",
       "\n",
       "                                                      r  \\\n",
       "498                                              direct   \n",
       "555   http://www.facebook.com/l.php?u=http%3A%2F%2F1...   \n",
       "764                                              direct   \n",
       "777    http://yandex.ru/yandsearch?text=prks.org&lr=213   \n",
       "1137                           http://www.facebook.com/   \n",
       "\n",
       "                                                      u             t  \\\n",
       "498   http://www.nasa.gov/multimedia/imagegallery/im...  1.331924e+09   \n",
       "555   http://www.nasa.gov/mission_pages/nustar/main/...  1.331924e+09   \n",
       "764   https://www.cia.gov/library/publications/world...  1.331924e+09   \n",
       "777                        http://www.nps.gov/getaways/  1.331924e+09   \n",
       "1137  http://www.nasa.gov/mission_pages/nustar/main/...  1.331924e+09   \n",
       "\n",
       "                hc                cy                      ll  _heartbeat_   kw  \n",
       "498   1.331908e+09       Novosibirsk    [55.0411, 82.934402]          NaN  NaN  \n",
       "555   1.331923e+09            Moscow  [55.752201, 37.615601]          NaN  NaN  \n",
       "764   1.331924e+09  Saint Petersburg    [59.894402, 30.2642]          NaN  NaN  \n",
       "777   1.301482e+09            Moscow  [55.752201, 37.615601]          NaN  NaN  \n",
       "1137  1.331923e+09             Kirov  [58.596901, 49.658298]          NaN  NaN  "
      ]
     },
     "execution_count": 26,
     "metadata": {},
     "output_type": "execute_result"
    }
   ],
   "source": [
    "russia_records = df[df['c'] == 'RU']\n",
    "russia_records.head()"
   ]
  },
  {
   "cell_type": "code",
   "execution_count": 27,
   "metadata": {},
   "outputs": [],
   "source": [
    "cia_access_count = russia_records['u'].str.contains('cia.gov').sum()"
   ]
  },
  {
   "cell_type": "code",
   "execution_count": 28,
   "metadata": {},
   "outputs": [
    {
     "data": {
      "text/plain": [
       "2"
      ]
     },
     "execution_count": 28,
     "metadata": {},
     "output_type": "execute_result"
    }
   ],
   "source": [
    "cia_access_count"
   ]
  },
  {
   "cell_type": "markdown",
   "metadata": {},
   "source": [
    "## Q3 We are interested in time zones in this data set (the **tz** field). "
   ]
  },
  {
   "cell_type": "markdown",
   "metadata": {},
   "source": [
    "### Q3.1, Let's clean the tz field. If it is empty, filled with 'Unknown'. If it is NaN, filled with 'Missing'.  After cleaning, how many tz field are in 'Missing' state and how many are in 'Unknown' state?  (In Camino, fill in these two numbers in the format of 'Missing'/'Unknown'. Don't leave any space in the answer.)"
   ]
  },
  {
   "cell_type": "code",
   "execution_count": 29,
   "metadata": {},
   "outputs": [],
   "source": [
    "df['tz'] = df['tz'].fillna('Missing')"
   ]
  },
  {
   "cell_type": "code",
   "execution_count": 30,
   "metadata": {},
   "outputs": [],
   "source": [
    "df['tz'] = df['tz'].replace('', 'Unknown')"
   ]
  },
  {
   "cell_type": "code",
   "execution_count": 31,
   "metadata": {},
   "outputs": [],
   "source": [
    "missing_count = (df['tz'] == 'Missing').sum()\n",
    "unknown_count = (df['tz'] == 'Unknown').sum()"
   ]
  },
  {
   "cell_type": "code",
   "execution_count": 32,
   "metadata": {},
   "outputs": [
    {
     "data": {
      "text/plain": [
       "120"
      ]
     },
     "execution_count": 32,
     "metadata": {},
     "output_type": "execute_result"
    },
    {
     "data": {
      "text/plain": [
       "521"
      ]
     },
     "execution_count": 32,
     "metadata": {},
     "output_type": "execute_result"
    }
   ],
   "source": [
    "missing_count\n",
    "unknown_count"
   ]
  },
  {
   "cell_type": "markdown",
   "metadata": {},
   "source": [
    "### Q3.2, What's the top 10 timezone in this data set? (exclude Unknown and Missing) (In Camino, pick the 10th place timezone)"
   ]
  },
  {
   "cell_type": "code",
   "execution_count": 33,
   "metadata": {},
   "outputs": [],
   "source": [
    "tz_counts = df['tz'].value_counts()"
   ]
  },
  {
   "cell_type": "code",
   "execution_count": 34,
   "metadata": {},
   "outputs": [
    {
     "data": {
      "text/plain": [
       "America/New_York        1251\n",
       "America/Chicago          400\n",
       "America/Los_Angeles      382\n",
       "America/Denver           191\n",
       "Europe/London             74\n",
       "                        ... \n",
       "Europe/Uzhgorod            1\n",
       "Australia/Queensland       1\n",
       "Europe/Sofia               1\n",
       "America/Costa_Rica         1\n",
       "America/Tegucigalpa        1\n",
       "Name: tz, Length: 96, dtype: int64"
      ]
     },
     "execution_count": 34,
     "metadata": {},
     "output_type": "execute_result"
    }
   ],
   "source": [
    "tz_counts = tz_counts[~tz_counts.index.isin(['Unknown', 'Missing'])]\n",
    "tz_counts"
   ]
  },
  {
   "cell_type": "code",
   "execution_count": 35,
   "metadata": {},
   "outputs": [],
   "source": [
    "top_10_timezones = tz_counts.head(10)"
   ]
  },
  {
   "cell_type": "code",
   "execution_count": 36,
   "metadata": {},
   "outputs": [
    {
     "data": {
      "text/plain": [
       "America/New_York       1251\n",
       "America/Chicago         400\n",
       "America/Los_Angeles     382\n",
       "America/Denver          191\n",
       "Europe/London            74\n",
       "Asia/Tokyo               37\n",
       "Pacific/Honolulu         36\n",
       "Europe/Madrid            35\n",
       "America/Sao_Paulo        33\n",
       "Europe/Berlin            28\n",
       "Name: tz, dtype: int64"
      ]
     },
     "execution_count": 36,
     "metadata": {},
     "output_type": "execute_result"
    }
   ],
   "source": [
    "top_10_timezones"
   ]
  },
  {
   "cell_type": "markdown",
   "metadata": {},
   "source": [
    "### Q3.3 Use seaborn package to make a horizontal bar plot based on previous question. (Use tz as Y-axis).  (In Camino, select the cities in the first 3 timezone, multiple choices)"
   ]
  },
  {
   "cell_type": "code",
   "execution_count": 37,
   "metadata": {},
   "outputs": [],
   "source": [
    "import matplotlib.pyplot as plt"
   ]
  },
  {
   "cell_type": "code",
   "execution_count": 38,
   "metadata": {},
   "outputs": [],
   "source": [
    "tz_counts = df['tz'].value_counts()"
   ]
  },
  {
   "cell_type": "code",
   "execution_count": 39,
   "metadata": {},
   "outputs": [],
   "source": [
    "tz_counts_cleaned = tz_counts[~tz_counts.index.isin(['Unknown', 'Missing'])]"
   ]
  },
  {
   "cell_type": "code",
   "execution_count": 56,
   "metadata": {},
   "outputs": [
    {
     "data": {
      "text/plain": [
       "America/New_York       1251\n",
       "America/Chicago         400\n",
       "America/Los_Angeles     382\n",
       "America/Denver          191\n",
       "Europe/London            74\n",
       "Asia/Tokyo               37\n",
       "Pacific/Honolulu         36\n",
       "Europe/Madrid            35\n",
       "America/Sao_Paulo        33\n",
       "Europe/Berlin            28\n",
       "Name: tz, dtype: int64"
      ]
     },
     "execution_count": 56,
     "metadata": {},
     "output_type": "execute_result"
    }
   ],
   "source": [
    "top_10_timezones = tz_counts_cleaned.head(10)\n",
    "top_10_timezones"
   ]
  },
  {
   "cell_type": "code",
   "execution_count": 57,
   "metadata": {},
   "outputs": [
    {
     "data": {
      "text/plain": [
       "<Figure size 1000x800 with 0 Axes>"
      ]
     },
     "execution_count": 57,
     "metadata": {},
     "output_type": "execute_result"
    },
    {
     "data": {
      "text/plain": [
       "<Axes: >"
      ]
     },
     "execution_count": 57,
     "metadata": {},
     "output_type": "execute_result"
    }
   ],
   "source": [
    "plt.figure(figsize=(10, 8))\n",
    "sns.barplot(x=top_10_timezones.values, y=top_10_timezones.index, orient='h')"
   ]
  },
  {
   "cell_type": "markdown",
   "metadata": {},
   "source": [
    "##### plt.xlabel('Number of Records')\n",
    "plt.ylabel('Time Zone')\n",
    "plt.title('Top 10 Time Zones in the Data Set')"
   ]
  },
  {
   "cell_type": "code",
   "execution_count": 58,
   "metadata": {},
   "outputs": [],
   "source": [
    "plt.show()"
   ]
  },
  {
   "cell_type": "code",
   "execution_count": null,
   "metadata": {},
   "outputs": [],
   "source": []
  },
  {
   "cell_type": "markdown",
   "metadata": {},
   "source": [
    "### Q3.4,  If based on 'c' field (Country) and the 'America' keyword in 'tz' field, count how many records are from US ? (In Camino, fill in those two count numbers in format of count_by_c/count_by_tz. Don't leave any space in the answer.)"
   ]
  },
  {
   "cell_type": "code",
   "execution_count": 47,
   "metadata": {},
   "outputs": [
    {
     "data": {
      "text/plain": [
       "2305"
      ]
     },
     "execution_count": 47,
     "metadata": {},
     "output_type": "execute_result"
    }
   ],
   "source": [
    "count_by_c = (df['c'] == 'US').sum()\n",
    "count_by_c"
   ]
  },
  {
   "cell_type": "code",
   "execution_count": 48,
   "metadata": {},
   "outputs": [],
   "source": [
    "count_by_tz = df['tz'].str.contains('America', na=False).sum()"
   ]
  },
  {
   "cell_type": "code",
   "execution_count": 49,
   "metadata": {},
   "outputs": [
    {
     "data": {
      "text/plain": [
       "2412"
      ]
     },
     "execution_count": 49,
     "metadata": {},
     "output_type": "execute_result"
    }
   ],
   "source": [
    "count_by_tz"
   ]
  },
  {
   "cell_type": "markdown",
   "metadata": {},
   "source": [
    "### Q3.5,  Based on last question,  is both counts match ? If not, find out how many records are timezone with 'America' keyword but Country not in US? (In Camino, select the correct number)"
   ]
  },
  {
   "cell_type": "code",
   "execution_count": 50,
   "metadata": {},
   "outputs": [
    {
     "data": {
      "text/plain": [
       "2305"
      ]
     },
     "execution_count": 50,
     "metadata": {},
     "output_type": "execute_result"
    }
   ],
   "source": [
    "count_by_c"
   ]
  },
  {
   "cell_type": "code",
   "execution_count": 51,
   "metadata": {},
   "outputs": [
    {
     "data": {
      "text/plain": [
       "2412"
      ]
     },
     "execution_count": 51,
     "metadata": {},
     "output_type": "execute_result"
    }
   ],
   "source": [
    "count_by_tz1 = df['tz'].str.contains('America', case=False, na=False).sum()\n",
    "count_by_tz1"
   ]
  },
  {
   "cell_type": "code",
   "execution_count": 52,
   "metadata": {},
   "outputs": [
    {
     "data": {
      "text/plain": [
       "143"
      ]
     },
     "execution_count": 52,
     "metadata": {},
     "output_type": "execute_result"
    }
   ],
   "source": [
    "mismatch_count = df[df['tz'].str.contains('America', case=False, na=False) & (df['c'] != 'US')].shape[0]\n",
    "mismatch_count"
   ]
  },
  {
   "cell_type": "code",
   "execution_count": 53,
   "metadata": {},
   "outputs": [
    {
     "name": "stdout",
     "output_type": "stream",
     "text": [
      "Mismatch Count: 143\n"
     ]
    }
   ],
   "source": [
    "if count_by_c != count_by_tz:\n",
    "    print(f\"Mismatch Count: {mismatch_count}\")\n",
    "else:\n",
    "    print(\"Both counts match.\")"
   ]
  }
 ],
 "metadata": {
  "kernelspec": {
   "display_name": "Python 3 (ipykernel)",
   "language": "python",
   "name": "python3"
  },
  "language_info": {
   "codemirror_mode": {
    "name": "ipython",
    "version": 3
   },
   "file_extension": ".py",
   "mimetype": "text/x-python",
   "name": "python",
   "nbconvert_exporter": "python",
   "pygments_lexer": "ipython3",
   "version": "3.11.4"
  }
 },
 "nbformat": 4,
 "nbformat_minor": 1
}
